{
 "cells": [
  {
   "cell_type": "markdown",
   "metadata": {},
   "source": [
    "# 04 理论课 Requests发送请求"
   ]
  },
  {
   "cell_type": "markdown",
   "metadata": {},
   "source": [
    "#### 一.安装环境:requests "
   ]
  },
  {
   "cell_type": "code",
   "execution_count": null,
   "metadata": {},
   "outputs": [],
   "source": [
    "pip install requests"
   ]
  },
  {
   "cell_type": "markdown",
   "metadata": {},
   "source": [
    "#### 二.引用导入:import requests并发送请求  \n",
    "| 状态码 | 描述 | 含义 | 大白话解释 |\n",
    "|--------|------|------|------------|\n",
    "| 100 Continue | 信息性状态码 | 服务器已收到请求的第一部分，客户端可以继续发送其余部分 | 我收到了你的第一部分请求，接着传吧 |\n",
    "| 101 Switching Protocols | 信息性状态码 | 服务器根据客户端的请求切换协议，通常用于升级到WebSocket等协议 | 好的，现在切换到你要求的协议 |\n",
    "| 102 Processing | 信息性状态码 | 服务器已收到并正在处理请求，但尚未完成处理 | 我正在处理你的请求，稍等一下 |\n",
    "| 200 OK | 成功状态码 | 请求成功，服务器已返回请求的资源 | 搞定，你要的东西在这里 |\n",
    "| 201 Created | 成功状态码 | 请求成功，并且服务器创建了新的资源 | 创建成功，新东西已经生成了 |\n",
    "| 202 Accepted | 成功状态码 | 请求已被接受，但处理尚未完成 | 我收到了请求，正在处理，结果稍后告诉你 |\n",
    "| 204 No Content | 成功状态码 | 请求成功，但服务器未返回任何内容 | 请求没问题，但我没啥内容给你 |\n",
    "| 301 Moved Permanently | 重定向状态码 | 请求的资源已永久移动到新的URL | 你要的东西搬走了，新地址在这儿 |\n",
    "| 302 Found | 重定向状态码 | 请求的资源临时移动到新的URL | 东西暂时在另一个地方，你去那边看看 |\n",
    "| 304 Not Modified | 重定向状态码 | 资源未被修改，客户端可以使用缓存版本 | 东西没变，你用之前缓存的就行 |\n",
    "| 400 Bad Request | 客户端错误状态码 | 请求语法错误或无效请求 | 你请求的格式不对，我理解不了 |\n",
    "| 401 Unauthorized | 客户端错误状态码 | 请求需要用户认证 | 没权限，先登录再说 |\n",
    "| 403 Forbidden | 客户端错误状态码 | 服务器拒绝执行请求 | 你没权限访问这个资源 |\n",
    "| 404 Not Found | 客户端错误状态码 | 请求的资源未找到 | 你要的东西我这儿没有 |\n",
    "| 405 Method Not Allowed | 客户端错误状态码 | 请求方法不被允许 | 你用的请求方式我这里不支持 |\n",
    "| 500 Internal Server Error | 服务器错误状态码 | 服务器内部错误，无法完成请求 | 服务器出问题了，我也不知道咋回事 |\n",
    "| 501 Not Implemented | 服务器错误状态码 | 服务器不支持请求的功能 | 这个功能我还没实现 |\n",
    "| 502 Bad Gateway | 服务器错误状态码 | 服务器作为网关或代理时，从上游服务器收到无效响应 | 我这边没问题，但上游服务器返回了错误 |\n",
    "| 503 Service Unavailable | 服务器错误状态码 | 服务器暂时无法处理请求（可能因为过载或维护） | 服务器现在忙，稍后再试试 |\n",
    "| 504 Gateway Timeout | 服务器错误状态码 | 服务器作为网关或代理时，未能及时从上游服务器获取响应 | 我等上游服务器的响应等超时了 |\n"
   ]
  },
  {
   "cell_type": "code",
   "execution_count": null,
   "metadata": {},
   "outputs": [],
   "source": [
    "import requests\n",
    "# 发送GET请求\n",
    "响应结果=requests.get(\"http://books.toscrape.com/\")#练习爬虫的专用网址\n",
    "print(响应结果)"
   ]
  },
  {
   "cell_type": "code",
   "execution_count": null,
   "metadata": {},
   "outputs": [],
   "source": [
    "#用.ok属性判断相应结果是否正确\n",
    "if 响应结果.ok:\n",
    "    print(\"请求成功\")\n",
    "else:\n",
    "    print(\"请求失败\")"
   ]
  },
  {
   "cell_type": "code",
   "execution_count": null,
   "metadata": {},
   "outputs": [],
   "source": [
    "#查看响应体里面的内容\n",
    "print(响应结果.text)"
   ]
  },
  {
   "cell_type": "markdown",
   "metadata": {},
   "source": [
    "#### 三.伪装头文件\n",
    "\n",
    "发送请求前最好加上 字典:\n",
    "```python\n",
    "heads={'User-Agent': 'Mozilla/5.0 (Windows NT 10.0; Win64; x64) AppleWebKit/537.36 (KHTML, like Gecko) Chrome/132.0.0.0 Safari/537.36 Edg/132.0.0.0'}\n",
    "```\n",
    "伪装成浏览器避免被网站识别为爬虫,否则会被网站认为是爬虫而禁止访问。\n",
    "默认会被识别成python:User-Agent:python-requests/2.22.0 \n",
    "\n"
   ]
  },
  {
   "cell_type": "markdown",
   "metadata": {},
   "source": [
    "#### 四User-Agent值的获取  \n",
    "打开浏览器输入网址:http://books.toscrape.com/  \n",
    "F12打开开发者工具，选择Network，刷新页面  \n",
    "随便找一个右键选择，找到User-Agent冒号后面的值，复制到剪贴板。"
   ]
  },
  {
   "cell_type": "markdown",
   "metadata": {},
   "source": []
  }
 ],
 "metadata": {
  "kernelspec": {
   "display_name": "Python 3",
   "language": "python",
   "name": "python3"
  },
  "language_info": {
   "codemirror_mode": {
    "name": "ipython",
    "version": 3
   },
   "file_extension": ".py",
   "mimetype": "text/x-python",
   "name": "python",
   "nbconvert_exporter": "python",
   "pygments_lexer": "ipython3",
   "version": "3.12.6"
  }
 },
 "nbformat": 4,
 "nbformat_minor": 2
}
