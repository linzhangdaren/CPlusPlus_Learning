{
 "cells": [
  {
   "cell_type": "markdown",
   "metadata": {},
   "source": [
    "单引号和双引号"
   ]
  },
  {
   "cell_type": "code",
   "execution_count": null,
   "metadata": {},
   "outputs": [],
   "source": [
    "print(\"你好\")\n",
    "print('你好')"
   ]
  },
  {
   "cell_type": "markdown",
   "metadata": {},
   "source": [
    "从上看出单双引号本质是一样的   \n",
    "那么如何输出`她说:\"你好\"`或者`他说:'你好'`呢？  "
   ]
  },
  {
   "cell_type": "code",
   "execution_count": null,
   "metadata": {},
   "outputs": [],
   "source": [
    "print('她说:\"你好\"')\n",
    "print(\"他说:'你好'\")"
   ]
  },
  {
   "cell_type": "markdown",
   "metadata": {},
   "source": [
    "外单内双或者外双内单  \n",
    "但是不能串用如:print(\"你好')  \n",
    "那么一句话中既有单引号又有双引号怎么办呢?  \n",
    "如输出:`\"他说:\"Let's go!\"`"
   ]
  },
  {
   "cell_type": "code",
   "execution_count": null,
   "metadata": {},
   "outputs": [],
   "source": [
    "print(\"他说:\\\"let\\'s go\\\"\")"
   ]
  },
  {
   "cell_type": "markdown",
   "metadata": {},
   "source": [
    "从上看出\\可以把后面的符号转成字符串中第一个字符的意思。  \n",
    "那么如何输出`\\`呢?"
   ]
  },
  {
   "cell_type": "code",
   "execution_count": null,
   "metadata": {},
   "outputs": [],
   "source": [
    "print(\"\\\\\")"
   ]
  },
  {
   "cell_type": "markdown",
   "metadata": {},
   "source": [
    "如何输出换行?如:  \n",
    "```\n",
    "你\n",
    "好!\n",
    "```"
   ]
  },
  {
   "cell_type": "code",
   "execution_count": null,
   "metadata": {},
   "outputs": [],
   "source": [
    "print(\"你\\n好\")"
   ]
  },
  {
   "cell_type": "markdown",
   "metadata": {},
   "source": [
    "如何输出 空行?"
   ]
  },
  {
   "cell_type": "code",
   "execution_count": 21,
   "metadata": {},
   "outputs": [
    {
     "name": "stdout",
     "output_type": "stream",
     "text": [
      "你\n",
      "\n",
      "好\n",
      "你\n",
      "\n",
      "\n",
      "好\n"
     ]
    }
   ],
   "source": [
    "#输出空行 print()\n",
    "print(\"你\")\n",
    "print()\n",
    "print(\"好\")\n",
    "#输出空行2 print(\"\\n\")\n",
    "print(\"你\")\n",
    "print(\"\\n\")\n",
    "print(\"好\")"
   ]
  },
  {
   "cell_type": "markdown",
   "metadata": {},
   "source": [
    "类似的转义字符有很多如:\\n换行符、\\t制表符、\\r回车符、\\b退格符、\\f换页符等。  "
   ]
  },
  {
   "cell_type": "markdown",
   "metadata": {},
   "source": [
    "如何打印一首诗?如  \n",
    "```\n",
    "床前明月光，\n",
    "疑是地上霜。\n",
    "举头望明月，\n",
    "低头思故乡。"
   ]
  },
  {
   "cell_type": "code",
   "execution_count": null,
   "metadata": {},
   "outputs": [],
   "source": [
    "#方式一：使用转义字符\n",
    "print(\"方式一:使用转义字符\")\n",
    "print(\"床前明月光，\\n疑是地上霜。\\n举头望明月，\\n低头思故乡。\")\n",
    "#方式二：多print\n",
    "print(\"方式二:多print\")\n",
    "print(\"床前明月光，\")\n",
    "print(\"疑是地上霜。\")\n",
    "print(\"举头望明月，\")\n",
    "print(\"低头思故乡。\")\n",
    "#方式三：用```包裹多行字符串\n",
    "print(\"方式三:用```包裹多行字符串\")\n",
    "print(\"\"\"床前明月光，\n",
    "疑是地上霜。\n",
    "举头望明月，\n",
    "低头思故乡。\"\"\")"
   ]
  },
  {
   "cell_type": "code",
   "execution_count": null,
   "metadata": {},
   "outputs": [],
   "source": []
  }
 ],
 "metadata": {
  "kernelspec": {
   "display_name": "Python 3",
   "language": "python",
   "name": "python3"
  },
  "language_info": {
   "codemirror_mode": {
    "name": "ipython",
    "version": 3
   },
   "file_extension": ".py",
   "mimetype": "text/x-python",
   "name": "python",
   "nbconvert_exporter": "python",
   "pygments_lexer": "ipython3",
   "version": "3.12.6"
  }
 },
 "nbformat": 4,
 "nbformat_minor": 2
}
