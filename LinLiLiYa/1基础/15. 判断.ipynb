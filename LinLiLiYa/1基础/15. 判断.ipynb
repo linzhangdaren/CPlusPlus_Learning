{
 "cells": [
  {
   "cell_type": "markdown",
   "metadata": {},
   "source": [
    "如果 条件1 满足:  \n",
    "_____执行 A行动  \n",
    "否则:  \n",
    "_____执行 B行动  \n",
    "\n",
    "1和0 True和False"
   ]
  },
  {
   "cell_type": "code",
   "execution_count": null,
   "metadata": {},
   "outputs": [],
   "source": [
    "3==3#返回True\n",
    "3==4#返回False\n",
    "#因为等号被用了所以比较的时候得用2个等号才行"
   ]
  },
  {
   "cell_type": "code",
   "execution_count": null,
   "metadata": {},
   "outputs": [],
   "source": [
    "成绩=int(input(\"请输入你的分数\"))\n",
    "if 成绩>=90:\n",
    "    print(\"你太优秀了!\")\n",
    "else:\n",
    "    print(\"你还可以再努力!\")"
   ]
  },
  {
   "cell_type": "code",
   "execution_count": 1,
   "metadata": {},
   "outputs": [
    {
     "name": "stdout",
     "output_type": "stream",
     "text": [
      "女式成人款\n"
     ]
    }
   ],
   "source": [
    "#嵌套if语句\n",
    "身高=int(input(\"请输入身高：\"))\n",
    "性别=input(\"请输入性别：\")\n",
    "if 性别!=\"男\":\n",
    "    if 身高>150:\n",
    "        print(\"请买女式成人款\")\n",
    "    else:\n",
    "        print(\"请买女孩款式\")\n",
    "else:\n",
    "    print(\"请买男士款\")\n",
    "    "
   ]
  }
 ],
 "metadata": {
  "kernelspec": {
   "display_name": "Python 3",
   "language": "python",
   "name": "python3"
  },
  "language_info": {
   "codemirror_mode": {
    "name": "ipython",
    "version": 3
   },
   "file_extension": ".py",
   "mimetype": "text/x-python",
   "name": "python",
   "nbconvert_exporter": "python",
   "pygments_lexer": "ipython3",
   "version": "3.12.6"
  }
 },
 "nbformat": 4,
 "nbformat_minor": 2
}
