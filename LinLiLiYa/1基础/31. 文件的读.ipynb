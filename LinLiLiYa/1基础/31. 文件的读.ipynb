{
 "cells": [
  {
   "cell_type": "markdown",
   "metadata": {},
   "source": [
    "# python 打开文件的步骤"
   ]
  },
  {
   "cell_type": "markdown",
   "metadata": {},
   "source": [
    "### 打开文件用: open(路径,模式,encoding=\"utf-8\")函数  \n",
    "编写规范:open(\"./data.txt\",\"r\",encoding=\"utf-8\")  \n",
    "执行成功会返回一个文件对象,可以对文件进行操作,比如读取文件内容:XXX.read()   \n",
    "\n",
    "1. 路径:\n",
    "    - 绝对路径: \"C:\\Users\\Administrator\\Desktop\\test.txt\"\n",
    "    - 相对路径: \"test.txt\"\n",
    "    - 找不到会报错:`FileNotFoundError`\n",
    "1. 模式:\n",
    "    - \"r\": 读,默认模式(不写的话就是默认  读)\n",
    "    - \"w\": 写,文件若不存在则创建,若存在则覆盖\n",
    "    - \"a\": 追加,文件若不存在则创建,若存在则在末尾追加\n",
    "    - \"rb\": 读二进制\n",
    "    - \"wb\": 写二进制\n",
    "    - \"ab\": 追加二进制\n",
    "3. encoding:(编码模式):  \n",
    "    - \"utf-8\": 最常用的编码格式\n",
    "    - \"gbk\": 兼容中文\n",
    "    - \"gb2312\": 兼容中文\n",
    "    - \"gb18030\": 兼容中文\n",
    "    - \"big5\": 兼容中文\n",
    "    - \"ascii\": 兼容英文|\n",
    "    - \"latin-1\": 兼容西欧语言"
   ]
  },
  {
   "cell_type": "markdown",
   "metadata": {},
   "source": [
    "以下是 Python 中常用文件读取模式的详细表格说明：\n",
    "\n",
    "| 模式 | 详细模式 | 文件不存在时 | 文件存在时 | 读写特性 | 适用文件类型 | 常见使用场景 | 读取指针位置 | 示例代码 |\n",
    "| --- | --- | --- | --- | --- | --- | --- | --- | --- |\n",
    "| `r` | 文本只读 | 抛出 `FileNotFoundError` 异常 | 打开文件并从文件开头开始读取 | 只读 | 文本文件（如 `.txt`、`.csv`、`.ini` 等） | 读取配置文件、文本数据、日志文件等 | 文件开头 | ```python<br>try:<br>    with open('example.txt', 'r') as file:<br>        content = file.read()<br>        print(content)<br>except FileNotFoundError:<br>    print('文件未找到')<br>``` |\n",
    "| `rb` | 二进制只读 | 抛出 `FileNotFoundError` 异常 | 打开文件并从文件开头开始以二进制形式读取 | 只读 | 二进制文件（如图片 `.jpg`、`.png`，音频 `.mp3`、`.wav`，视频 `.mp4` 等） | 读取二进制资源文件，用于后续处理或传输 | 文件开头 | ```python<br>try:<br>    with open('image.jpg', 'rb') as file:<br>        data = file.read()<br>except FileNotFoundError:<br>    print('文件未找到')<br>``` |\n",
    "| `r+` | 文本读写 | 抛出 `FileNotFoundError` 异常 | 打开文件，可从文件开头进行读写操作 | 读写 | 文本文件 | 读取文件内容并对其进行修改，如替换部分文本 | 文件开头 | ```python<br>with open('example.txt', 'r+') as file:<br>    content = file.read()<br>    new_content = content.replace('old', 'new')<br>    file.seek(0)<br>    file.write(new_content)<br>``` |\n",
    "| `rb+` | 二进制读写 | 抛出 `FileNotFoundError` 异常 | 打开文件，可从文件开头进行二进制形式的读写操作 | 读写 | 二进制文件 | 对二进制文件进行修改，如调整图片的某些像素信息 | 文件开头 | ```python<br>with open('image.jpg', 'rb+') as file:<br>    data = file.read()<br>    # 对 data 进行修改操作<br>    file.seek(0)<br>    file.write(data)<br>``` |\n",
    "\n",
    "这些读取模式基本能满足常见的文件读取需求，你可以根据具体的业务场景和文件类型来选择合适的模式。同时要注意，使用读写模式时，对文件指针位置的操作很关键，可能需要借助 `seek()` 方法来移动指针到合适的位置进行读写。 "
   ]
  },
  {
   "cell_type": "markdown",
   "metadata": {},
   "source": [
    "### 读取方法用 XXX.read()方法，读取所有内容，返回字符串。  \n",
    "\n",
    "编写规范:print(XXX.read())  \n",
    "注意:文件特别大的情况下不要用  \n",
    "如果只需要读取一部分内容，可以使用XXX.read(size)方法，size表示读取的字节数。  \n",
    "如:  \n",
    "```python\n",
    "print(f.read(10)) # 读取1-10个字节的内容\n",
    "print(f.read(10)) # 读取11-20个字节的内容\n",
    "print(f.read(10)) # 读取21-30个字节的内容\n",
    "#依次类推...\n",
    "```  \n",
    "其余方法：  \n",
    "- XXX.readline()：读取一行内容，包括换行符  \n",
    "- XXX.readlines()：读取所有内容，按行返回列表  \n",
    "- XXX.seek(offset, from_what)：移动文件读取指针到指定位置，from_what=0表示从文件开头开始，1表示当前位置，2表示文件末尾。  \n",
    "- XXX.tell()：返回当前文件指针位置。  \n",
    "- XXX.close()：关闭文件。  - \n"
   ]
  },
  {
   "cell_type": "markdown",
   "metadata": {},
   "source": [
    "# 读取文件案例:"
   ]
  },
  {
   "cell_type": "code",
   "execution_count": null,
   "metadata": {},
   "outputs": [],
   "source": [
    "#readline方法\n",
    "f=open(\"./data.txt\",\"r\",encoding=\"utf-8\")\n",
    "line= f.readline() #读取一行\n",
    "while line: #如果line不为空，则继续读取\n",
    "    print(line) #打印当前行\n",
    "    line= f.readline() #读取下一行\n",
    "#f.close() #关闭文件"
   ]
  },
  {
   "cell_type": "code",
   "execution_count": null,
   "metadata": {},
   "outputs": [],
   "source": [
    "#readlines() 方法读取文件的所有内容并返回一个列表，列表中的每一项是一个行。\n",
    "f = open(\"./data.txt\",\"r\",encoding=\"utf-8\")\n",
    "lines= f.readlines() #把每行内容读入列表\n",
    "for line in lines: #遍历列表\n",
    "    print(line) #打印每行内容\n",
    "#f.close() #关闭文件"
   ]
  },
  {
   "cell_type": "markdown",
   "metadata": {},
   "source": [
    "# 读取文件后都需要关闭文件，防止占用资源。"
   ]
  },
  {
   "cell_type": "code",
   "execution_count": null,
   "metadata": {},
   "outputs": [],
   "source": [
    "with open('test.txt', 'r') as f:\n",
    "    print(f.read())# 读取全部内容"
   ]
  },
  {
   "cell_type": "markdown",
   "metadata": {},
   "source": []
  }
 ],
 "metadata": {
  "language_info": {
   "name": "python"
  }
 },
 "nbformat": 4,
 "nbformat_minor": 2
}
