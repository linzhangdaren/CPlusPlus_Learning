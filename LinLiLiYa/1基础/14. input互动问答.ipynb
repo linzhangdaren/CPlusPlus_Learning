{
 "cells": [
  {
   "cell_type": "markdown",
   "metadata": {},
   "source": [
    "input(\"获取信息\")  \n",
    "input()好比在调用函数  \n",
    "input得到的用户输入默认为字符串类型  \n",
    " \n",
    "最好可以用一个变量装起来"
   ]
  },
  {
   "cell_type": "code",
   "execution_count": null,
   "metadata": {},
   "outputs": [],
   "source": [
    "获取的输入=input(\"请输入\")\n",
    "print(获取的输入)"
   ]
  },
  {
   "cell_type": "markdown",
   "metadata": {},
   "source": [
    "默认输入都是字符串  \n",
    "就连数字都不能参与计算  \n",
    "数字也不能和字符串一起输出打印  \n",
    "如何把字符串转换成数字呢？  \n",
    "可以用int()函数/str()函数  \n",
    "int()函数可以把字符串转换成整数  \n",
    "前提是数字才行 不能int(\"啊\") 就会报错  \n"
   ]
  },
  {
   "cell_type": "code",
   "execution_count": 1,
   "metadata": {},
   "outputs": [],
   "source": [
    "年龄=int(input(\"请输入您的年龄:\"))\n",
    "#这样得到年龄可以直接参与数字计算"
   ]
  },
  {
   "cell_type": "markdown",
   "metadata": {},
   "source": []
  }
 ],
 "metadata": {
  "kernelspec": {
   "display_name": "Python 3",
   "language": "python",
   "name": "python3"
  },
  "language_info": {
   "codemirror_mode": {
    "name": "ipython",
    "version": 3
   },
   "file_extension": ".py",
   "mimetype": "text/x-python",
   "name": "python",
   "nbconvert_exporter": "python",
   "pygments_lexer": "ipython3",
   "version": "3.12.6"
  }
 },
 "nbformat": 4,
 "nbformat_minor": 2
}
