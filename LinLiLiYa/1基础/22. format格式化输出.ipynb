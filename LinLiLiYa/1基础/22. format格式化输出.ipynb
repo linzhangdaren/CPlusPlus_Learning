{
 "cells": [
  {
   "cell_type": "code",
   "execution_count": null,
   "metadata": {},
   "outputs": [],
   "source": [
    "#format格式化输出用format(xxx,yyy) 0代表xxx的位置，1代表yyy的位置\n",
    "\n",
    "人名列表=['张三','李四','王五','赵六']\n",
    "年份=\"蛇\"\n",
    "for 人名 in 人名列表:\n",
    "    print(\"{0}祝你{1}年大吉!\".format(人名, 年份))"
   ]
  },
  {
   "cell_type": "code",
   "execution_count": null,
   "metadata": {},
   "outputs": [],
   "source": [
    "# format格式化输出用format(xxx,yyy) 不用在乎位置 直接指定参数名即可\n",
    "\n",
    "人名列表 = [\"张三\", \"李四\", \"王五\", \"赵六\"]\n",
    "年份 = \"蛇\"\n",
    "for 人名 in 人名列表:\n",
    "    print(\"{人名}祝你{年份}年大吉!\".format(人名=人名, 年份=年份))"
   ]
  },
  {
   "cell_type": "code",
   "execution_count": 7,
   "metadata": {},
   "outputs": [
    {
     "name": "stdout",
     "output_type": "stream",
     "text": [
      "张三祝你蛇年大吉!\n",
      "李四祝你蛇年大吉!\n",
      "王五祝你蛇年大吉!\n",
      "赵六祝你蛇年大吉!\n"
     ]
    }
   ],
   "source": [
    "# 更简单的写法\n",
    "人名列表 = [\"张三\", \"李四\", \"王五\", \"赵六\"]\n",
    "年份 = \"蛇\"\n",
    "for 人名 in 人名列表:\n",
    "    print(f\"{人名}祝你{年份}年大吉!\")"
   ]
  }
 ],
 "metadata": {
  "kernelspec": {
   "display_name": "Python 3",
   "language": "python",
   "name": "python3"
  },
  "language_info": {
   "codemirror_mode": {
    "name": "ipython",
    "version": 3
   },
   "file_extension": ".py",
   "mimetype": "text/x-python",
   "name": "python",
   "nbconvert_exporter": "python",
   "pygments_lexer": "ipython3",
   "version": "3.12.6"
  }
 },
 "nbformat": 4,
 "nbformat_minor": 2
}
