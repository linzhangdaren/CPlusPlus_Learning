{
 "cells": [
  {
   "cell_type": "markdown",
   "metadata": {},
   "source": [
    "在Python的字典（`dict`）中，“键”（key）这个术语源自现实生活中的钥匙（key）概念，它主要用于描述其在字典数据结构中的作用和功能，以下是详细解释：\n",
    "\n",
    "### 类比现实中的钥匙\n",
    "在现实世界里，钥匙的主要作用是用来打开特定的锁，每把钥匙对应着唯一的一把锁，通过钥匙可以获取锁背后的物品。在Python字典中，“键”就扮演着钥匙的角色，每个“键”对应着一个特定的值（value），通过“键”可以访问和获取与之关联的值。\n",
    "\n",
    "### 具体示例说明\n",
    "以下是一个简单的Python字典示例：\n",
    "```python\n",
    "# 创建一个字典，存储学生的成绩\n",
    "student_scores = {\n",
    "    \"Alice\": 90,\n",
    "    \"Bob\": 85,\n",
    "    \"Charlie\": 78\n",
    "}\n",
    "\n",
    "# 使用键 \"Alice\" 来访问对应的值\n",
    "alice_score = student_scores[\"Alice\"]\n",
    "print(alice_score)  # 输出: 90\n",
    "```\n",
    "在这个例子中，字符串 `\"Alice\"`、`\"Bob\"` 和 `\"Charlie\"` 就是字典 `student_scores` 的键，而整数 `90`、`85` 和 `78` 则是对应的值。就像用钥匙打开特定的锁一样，我们使用键 `\"Alice\"` 来获取与之关联的值 `90`。\n",
    "\n",
    "### 键的唯一性\n",
    "就像每把钥匙只能打开一把特定的锁一样，在Python字典中，键必须是唯一的。如果尝试使用相同的键来存储不同的值，后面的值会覆盖前面的值。示例如下：\n",
    "```python\n",
    "# 创建一个字典\n",
    "dict_example = {\n",
    "    \"key1\": 10,\n",
    "    \"key1\": 20\n",
    "}\n",
    "\n",
    "print(dict_example[\"key1\"])  # 输出: 20\n",
    "```\n",
    "在这个例子中，由于键 `\"key1\"` 被重复使用，后面的值 `20` 覆盖了前面的值 `10`。\n",
    "\n",
    "综上所述，“键”这个术语形象地描述了它在字典中用于访问和定位特定值的功能，就像现实中的钥匙用于打开特定的锁一样。 "
   ]
  },
  {
   "cell_type": "markdown",
   "metadata": {},
   "source": [
    "只用变量或者列表来储存类似通讯录的话太麻烦了  \n",
    "所以开发了一中类似字典的结构数据  \n"
   ]
  },
  {
   "cell_type": "code",
   "execution_count": null,
   "metadata": {},
   "outputs": [],
   "source": [
    "\n",
    "通讯录={\n",
    "    \"张三\": \"123\",\n",
    "    \"李四\":\"321\",\n",
    "    \"王五\":\"132\"\n",
    "}\n",
    "#输出张三的电话:\n",
    "print(通讯录[\"张三\"])\n"
   ]
  },
  {
   "cell_type": "markdown",
   "metadata": {},
   "source": [
    "如果出现同名需要年龄才能区分怎么办?  \n",
    "列表不能作为键值因为列表是可变的，而字典是不可变的。  \n",
    "这里可以采用元组作为键值，元组的元素可以是不可变的，可以作为字典的键值。"
   ]
  },
  {
   "cell_type": "code",
   "execution_count": null,
   "metadata": {},
   "outputs": [],
   "source": [
    "通讯录={\n",
    "    (\"张三\",18):\"123\",\n",
    "    (\"张三,10\"):\"321\",\n",
    "    (\"李四\"):\"132\"\n",
    "}\n",
    "#输出年龄为18的张三的电话号码\n",
    "print(通讯录[(\"张三\",18)])\n",
    "#输出李四的电话号码\n",
    "print(通讯录[(\"李四\")])"
   ]
  },
  {
   "cell_type": "code",
   "execution_count": 22,
   "metadata": {},
   "outputs": [
    {
     "name": "stdout",
     "output_type": "stream",
     "text": [
      "{'张三': '123', '李四': '321', '王五': '132', '张全蛋': '123456'}\n",
      "{'张三': '123', '李四': '321', '王五': '132'}\n",
      "{'张三': '456', '李四': '321', '王五': '132'}\n",
      "132\n"
     ]
    }
   ],
   "source": [
    "#字典的增删查改\n",
    "通讯录={\n",
    "    \"张三\":\"123\",\n",
    "    \"李四\":\"321\",\n",
    "    \"王五\":\"132\"\n",
    "}\n",
    "#增加通讯录联系人\n",
    "通讯录[\"张全蛋\"]=\"123456\"\n",
    "print(通讯录)\n",
    "#删除联系人\n",
    "del 通讯录[\"张全蛋\"]\n",
    "print(通讯录)\n",
    "#修改联系人\n",
    "通讯录[\"张三\"]=\"456\"\n",
    "print(通讯录)\n",
    "#查询联系人\n",
    "查询=\"王五\"\n",
    "if 查询 in 通讯录:\n",
    "    print(通讯录[查询])\n",
    "else:\n",
    "    print(\"查无此人\")\n",
    "#查询联系人方式2\n",
    "print(通讯录.get(\"张三\",\"查无此人\"))"
   ]
  },
  {
   "cell_type": "code",
   "execution_count": null,
   "metadata": {},
   "outputs": [],
   "source": []
  }
 ],
 "metadata": {
  "kernelspec": {
   "display_name": "Python 3",
   "language": "python",
   "name": "python3"
  },
  "language_info": {
   "codemirror_mode": {
    "name": "ipython",
    "version": 3
   },
   "file_extension": ".py",
   "mimetype": "text/x-python",
   "name": "python",
   "nbconvert_exporter": "python",
   "pygments_lexer": "ipython3",
   "version": "3.12.6"
  }
 },
 "nbformat": 4,
 "nbformat_minor": 2
}
