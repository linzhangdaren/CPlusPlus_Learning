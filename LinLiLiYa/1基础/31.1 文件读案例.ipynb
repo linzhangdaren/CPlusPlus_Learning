{
 "cells": [
  {
   "cell_type": "markdown",
   "metadata": {},
   "source": [
    "# 常规读文件"
   ]
  },
  {
   "cell_type": "code",
   "execution_count": null,
   "metadata": {},
   "outputs": [],
   "source": [
    "f = open(\"./31.静夜思.txt\",\"r\",encoding=\"utf-8\")\n",
    "内容 = f.read()\n",
    "print(内容) \n",
    "f.close()\n"
   ]
  },
  {
   "cell_type": "markdown",
   "metadata": {},
   "source": [
    "# 用with省去f.close()关闭文件的麻烦"
   ]
  },
  {
   "cell_type": "code",
   "execution_count": null,
   "metadata": {},
   "outputs": [],
   "source": [
    "#用with语句打开文件，并自动关闭文件，不需要手动关闭文件\n",
    "with open('31.静夜思.txt', 'r', encoding='utf-8') as f:\n",
    "    内容 = f.read()\n",
    "    print(内容)"
   ]
  },
  {
   "cell_type": "markdown",
   "metadata": {},
   "source": [
    "# 用readline()逐行读取 有空格"
   ]
  },
  {
   "cell_type": "code",
   "execution_count": null,
   "metadata": {},
   "outputs": [],
   "source": [
    "with open('31.静夜思.txt', 'r', encoding='utf-8') as f:\n",
    "    print(f.readline())#会记录当前位置，下次读取时从上次读取的位置开始\n",
    "    print(f.readline())#读取第二行...."
   ]
  },
  {
   "cell_type": "markdown",
   "metadata": {},
   "source": [
    "# 用readlines()读取文件 列表 各种符号"
   ]
  },
  {
   "cell_type": "code",
   "execution_count": null,
   "metadata": {},
   "outputs": [],
   "source": [
    "with open(\"31.静夜思.txt\", \"r\", encoding=\"utf-8\") as f:\n",
    "    print(f.readlines())"
   ]
  },
  {
   "cell_type": "code",
   "execution_count": null,
   "metadata": {},
   "outputs": [],
   "source": [
    "# 依照上面的代码思路可以用for循环来实现读取文件内容，并打印出来。\n",
    "with open(\"31.静夜思.txt\", \"r\", encoding=\"utf-8\") as f:\n",
    "    行内容=f.readlines()\n",
    "    for 行 in 行内容:\n",
    "        print(行)"
   ]
  }
 ],
 "metadata": {
  "kernelspec": {
   "display_name": "Python 3",
   "language": "python",
   "name": "python3"
  },
  "language_info": {
   "codemirror_mode": {
    "name": "ipython",
    "version": 3
   },
   "file_extension": ".py",
   "mimetype": "text/x-python",
   "name": "python",
   "nbconvert_exporter": "python",
   "pygments_lexer": "ipython3",
   "version": "3.12.6"
  }
 },
 "nbformat": 4,
 "nbformat_minor": 2
}
