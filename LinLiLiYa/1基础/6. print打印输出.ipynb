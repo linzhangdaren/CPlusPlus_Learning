{
 "cells": [
  {
   "cell_type": "markdown",
   "metadata": {},
   "source": [
    "打印输出字符和数字找出他们的区别"
   ]
  },
  {
   "cell_type": "code",
   "execution_count": 1,
   "metadata": {},
   "outputs": [
    {
     "name": "stdout",
     "output_type": "stream",
     "text": [
      "666\n",
      "666\n"
     ]
    }
   ],
   "source": [
    "print(666)\n",
    "print(\"666\")"
   ]
  },
  {
   "cell_type": "code",
   "execution_count": null,
   "metadata": {},
   "outputs": [],
   "source": [
    "print(6+6)\n",
    "print(\"6+6\")\n",
    "print(\"6\"+\"6\")"
   ]
  },
  {
   "cell_type": "markdown",
   "metadata": {},
   "source": [
    "从结果看出  \n",
    "第一个print(6+6)是数字计算运算的结果  \n",
    "第二个print(\"6+6\")有啥输出啥不进行计算就是字面意思,类似\"六加六\"好比谁说的一句话 电脑不会把它当成数字不会把+号当成加号  \n",
    "第三个print(\"6\"+\"6\")两句话拼接到一起和上面一样 只不过多加了一个"
   ]
  },
  {
   "cell_type": "markdown",
   "metadata": {},
   "source": [
    "作业:  \n",
    "1.打印输出自己的名字  \n",
    "2.用字符串拼接的方式打印出自己的名字  \n",
    "3.用今年-出生年求出自己的年龄"
   ]
  },
  {
   "cell_type": "code",
   "execution_count": 6,
   "metadata": {},
   "outputs": [
    {
     "name": "stdout",
     "output_type": "stream",
     "text": [
      "鹏华\n",
      "鹏华\n",
      "36\n"
     ]
    }
   ],
   "source": [
    "#1.输出自己的名字\n",
    "print(\"鹏华\")\n",
    "#2.用字符串拼接的方式输出自己的名字\n",
    "print(\"张\"+\"鹏\"+\"华\")\n",
    "#3.用今年-出生年求出自己的年龄\n",
    "print(2025-1989)"
   ]
  }
 ],
 "metadata": {
  "kernelspec": {
   "display_name": "Python 3",
   "language": "python",
   "name": "python3"
  },
  "language_info": {
   "codemirror_mode": {
    "name": "ipython",
    "version": 3
   },
   "file_extension": ".py",
   "mimetype": "text/x-python",
   "name": "python",
   "nbconvert_exporter": "python",
   "pygments_lexer": "ipython3",
   "version": "3.12.6"
  }
 },
 "nbformat": 4,
 "nbformat_minor": 2
}
