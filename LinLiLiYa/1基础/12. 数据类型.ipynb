{
 "cells": [
  {
   "cell_type": "markdown",
   "metadata": {},
   "source": [
    "数据类型有以下几种:  \n",
    "1.int 整数型  \n",
    "2.float 浮点型  \n",
    "3.complex 复数型  \n",
    "4.bool 布尔型  True/False\n",
    "5.str 字符串型  \n",
    "6.list 列表型  \n",
    "7.tuple 元组型  \n",
    "8.set 集合型  \n",
    "9.dict 字典型  \n",
    "10.None 空值类型  \n",
    "\n",
    "Python中还有一些内置数据类型，如：  \n",
    "1.bytes 字节型  \n",
    "2.bytearray 字节数组型  \n",
    "3.memoryview 内存视图型  \n",
    "4.range 范围型  \n",
    "5.slice 切片型  \n",
    "6.Ellipsis 省略号"
   ]
  },
  {
   "cell_type": "markdown",
   "metadata": {},
   "source": [
    "当定义一个变量但还不确定值需要用None来占位"
   ]
  },
  {
   "cell_type": "code",
   "execution_count": 13,
   "metadata": {},
   "outputs": [],
   "source": [
    "不确定值 =None"
   ]
  },
  {
   "cell_type": "markdown",
   "metadata": {},
   "source": [
    "查询数据类型用type()函数"
   ]
  },
  {
   "cell_type": "code",
   "execution_count": null,
   "metadata": {},
   "outputs": [],
   "source": [
    "print(type(123))\n",
    "print(type(\"123\"))\n",
    "print(type(123.123))\n",
    "print(type(True))\n",
    "print(type(None))\n",
    "print(type(abs))"
   ]
  },
  {
   "cell_type": "markdown",
   "metadata": {},
   "source": [
    "如何获取字符串的长度呢?用len()函数就可以了。"
   ]
  },
  {
   "cell_type": "code",
   "execution_count": null,
   "metadata": {},
   "outputs": [],
   "source": [
    "字数=len(\"床前明月光\")\n",
    "print(字数)"
   ]
  },
  {
   "cell_type": "markdown",
   "metadata": {},
   "source": [
    "如果有转义符的话会占据字数的"
   ]
  },
  {
   "cell_type": "code",
   "execution_count": null,
   "metadata": {},
   "outputs": [],
   "source": [
    "字数=len(\"床前明月光\\n疑是地上霜\")\n",
    "print(字数)#十个字+一个\\n 共11个"
   ]
  },
  {
   "cell_type": "markdown",
   "metadata": {},
   "source": [
    "提取指定字符串中间的字符用[]"
   ]
  },
  {
   "cell_type": "code",
   "execution_count": null,
   "metadata": {},
   "outputs": [],
   "source": [
    "提取字=\"床前明月光\"[0]\n",
    "print(提取字)"
   ]
  }
 ],
 "metadata": {
  "kernelspec": {
   "display_name": "Python 3",
   "language": "python",
   "name": "python3"
  },
  "language_info": {
   "codemirror_mode": {
    "name": "ipython",
    "version": 3
   },
   "file_extension": ".py",
   "mimetype": "text/x-python",
   "name": "python",
   "nbconvert_exporter": "python",
   "pygments_lexer": "ipython3",
   "version": "3.12.6"
  }
 },
 "nbformat": 4,
 "nbformat_minor": 2
}
