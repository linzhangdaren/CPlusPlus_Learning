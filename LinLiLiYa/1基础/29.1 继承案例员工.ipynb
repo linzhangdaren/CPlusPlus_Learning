{
 "cells": [
  {
   "cell_type": "markdown",
   "metadata": {},
   "source": [
    "|类别|公共属性|公共方法|特有属性|特有方法|\n",
    "| ---- | ---- | ---- | ---- | ---- |\n",
    "|全职员工|姓名、工号|打印信息（打印姓名、工号）|月薪|计算月薪（具体计算过程有别）|\n",
    "|兼职员工|姓名、工号|打印信息（打印姓名、工号）|日薪、每月工作天数|计算月薪（具体计算过程有别）| "
   ]
  },
  {
   "cell_type": "code",
   "execution_count": 2,
   "metadata": {},
   "outputs": [
    {
     "name": "stdout",
     "output_type": "stream",
     "text": [
      "姓名:鹏华,工号:001\n",
      "姓名:安娜,工号:002\n",
      "5000\n",
      "6000\n"
     ]
    }
   ],
   "source": [
    "#父类员工\n",
    "class 员工:\n",
    "    def __init__(self, 姓名,工号):\n",
    "        self.姓名=姓名\n",
    "        self.工号=工号\n",
    "    def 打印信息(self):\n",
    "        print(f\"姓名:{self.姓名},工号:{self.工号}\")\n",
    "#继承员工类的正式员工类        \n",
    "class 正式员工(员工):\n",
    "    def __init__(self,姓名,工号,月薪):\n",
    "        super().__init__(姓名,工号)\n",
    "        self.月薪=月薪\n",
    "    def 正式工资计算(self):\n",
    "        正式工工资=self.月薪\n",
    "        return 正式工工资\n",
    "#继承员工类的临时工类\n",
    "class 临时工(员工):\n",
    "    def __init__(self,姓名,工号,日新,工作天数):\n",
    "        super().__init__(姓名,工号)\n",
    "        self.日新=日新\n",
    "        self.工作天数=工作天数\n",
    "    def 临时工工资计算(self):\n",
    "        临时工工资=self.日新*self.工作天数\n",
    "        return 临时工工资\n",
    "\n",
    "#实例化员工对象\n",
    "鹏华=正式员工(\"鹏华\",\"001\",5000)\n",
    "安娜=临时工(\"安娜\",\"002\",200,30)\n",
    "#调用父类方法打印信息\n",
    "鹏华.打印信息()\n",
    "安娜.打印信息()\n",
    "#调用子类方法计算工资\n",
    "print(鹏华.正式工资计算())\n",
    "print(安娜.临时工工资计算())\n",
    "    "
   ]
  }
 ],
 "metadata": {
  "kernelspec": {
   "display_name": "Python 3",
   "language": "python",
   "name": "python3"
  },
  "language_info": {
   "codemirror_mode": {
    "name": "ipython",
    "version": 3
   },
   "file_extension": ".py",
   "mimetype": "text/x-python",
   "name": "python",
   "nbconvert_exporter": "python",
   "pygments_lexer": "ipython3",
   "version": "3.12.6"
  }
 },
 "nbformat": 4,
 "nbformat_minor": 2
}
