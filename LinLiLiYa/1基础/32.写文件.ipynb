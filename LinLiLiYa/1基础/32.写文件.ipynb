{
 "cells": [
  {
   "cell_type": "markdown",
   "metadata": {},
   "source": [
    "和读文件一样:  \n",
    "```python\n",
    "with open()as f:\n",
    "    f.write()\n",
    "```"
   ]
  },
  {
   "cell_type": "markdown",
   "metadata": {},
   "source": [
    "| 模式 | 详细模式 | 文件不存在时 | 文件存在时 | 读写特性 | 适用文件类型 | 常见使用场景 |\n",
    "| ---- | ---- | ---- | ---- | ---- | ---- | ---- |\n",
    "| `r` | 文本只读 | 报错 | 从文件开头读 | 只读 | 文本文件 | 读取配置文件、文本日志等内容 |\n",
    "| `w` | 文本写入 | 创建新文件 | 清空内容后从头写 | 只写 | 文本文件 | 创建新的文本记录、覆盖旧的文本数据 |\n",
    "| `a` | 文本追加 | 创建新文件 | 在文件末尾追加内容 | 只写 | 文本文件 | 记录日志信息、添加新的文本条目 |\n",
    "| `r+` | 文本读写 | 报错 | 从开头可读写 | 读写 | 文本文件 | 修改文本文件内容，如编辑文章、配置文件修改 |\n",
    "| `rb` | 二进制只读 | 报错 | 从文件开头读 | 只读 | 二进制文件（如图片、音频、视频） | 读取图片、音频文件用于展示或分析 |\n",
    "| `wb` | 二进制写入 | 创建新文件 | 清空内容后从头写 | 只写 | 二进制文件（如图片、音频、视频） | 保存图片、音频文件的修改 | "
   ]
  },
  {
   "cell_type": "code",
   "execution_count": 3,
   "metadata": {},
   "outputs": [
    {
     "name": "stdout",
     "output_type": "stream",
     "text": [
      "创建成功!\n"
     ]
    }
   ],
   "source": [
    "with open(\"32.悯农.txt\",\"w\",encoding=\"utf-8\") as f:\n",
    "    f.write(\"悯农\\n\")\n",
    "    f.write(\"锄禾日当午,\\n\")\n",
    "    f.write(\"汗滴禾下土,\\n\")\n",
    "    f.write(\"谁知盘中餐,\\n\")\n",
    "    f.write(\"粒粒皆辛苦.\\n\")\n",
    "print(\"创建成功!\")"
   ]
  }
 ],
 "metadata": {
  "kernelspec": {
   "display_name": "Python 3",
   "language": "python",
   "name": "python3"
  },
  "language_info": {
   "codemirror_mode": {
    "name": "ipython",
    "version": 3
   },
   "file_extension": ".py",
   "mimetype": "text/x-python",
   "name": "python",
   "nbconvert_exporter": "python",
   "pygments_lexer": "ipython3",
   "version": "3.12.6"
  }
 },
 "nbformat": 4,
 "nbformat_minor": 2
}
