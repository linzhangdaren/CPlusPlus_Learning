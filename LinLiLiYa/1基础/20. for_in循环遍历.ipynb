{
 "cells": [
  {
   "cell_type": "code",
   "execution_count": null,
   "metadata": {},
   "outputs": [],
   "source": [
    "#依次把列表里的元素放到变量里面，然后打印出来\n",
    "列表=[1,2,3,4,5,6,7,8,9,10]\n",
    "for 变量 in 列表:\n",
    "    print(变量)"
   ]
  },
  {
   "cell_type": "code",
   "execution_count": null,
   "metadata": {},
   "outputs": [],
   "source": [
    "#循环+判断条件输出\n",
    "体温列表=[35.5,35.2,38.9,39.9,36.5]\n",
    "for 体温 in 体温列表:\n",
    "    if 体温>=37.5:\n",
    "        print(体温)"
   ]
  },
  {
   "cell_type": "code",
   "execution_count": null,
   "metadata": {},
   "outputs": [],
   "source": [
    "# 升级版+下标\n",
    "体温列表 = [35.5, 35.2, 38.9, 39.9, 36.5]\n",
    "for 下标, 体温 in enumerate(体温列表):\n",
    "    if 体温 >= 37.5:\n",
    "        print(f\"下标: {下标}, 体温: {体温}\")"
   ]
  },
  {
   "cell_type": "markdown",
   "metadata": {},
   "source": [
    "字典的循环遍历函数:  \n",
    "```\n",
    "字典={\n",
    "    \"张三\":37.5,\n",
    "    \"王五\":38.9,\n",
    "    \"李四\":39.9\n",
    "}\n",
    "    字典.keys()：#所有键  \n",
    "    字典.values()：#所有值  \n",
    "    字典.items()：#所有键值对 "
   ]
  },
  {
   "cell_type": "code",
   "execution_count": null,
   "metadata": {},
   "outputs": [],
   "source": [
    "字典={\n",
    "    \"张三\":37.5,\n",
    "    \"王五\":38.9,\n",
    "    \"李四\":39.9\n",
    "}\n",
    "for 键,值 in 字典.items():\n",
    "    if 值>37.5:\n",
    "        print(键,值)\n",
    "     "
   ]
  },
  {
   "cell_type": "code",
   "execution_count": null,
   "metadata": {},
   "outputs": [],
   "source": [
    "# 另一种写法:\n",
    "字典 = {\"张三\": 37.5, \"王五\": 38.9, \"李四\": 39.9}\n",
    "for 变量 in 字典.items():\n",
    "    键=变量[0]\n",
    "    值=变量[1]\n",
    "    if 值 > 37.5:\n",
    "        print(键, 值)"
   ]
  },
  {
   "cell_type": "markdown",
   "metadata": {},
   "source": []
  }
 ],
 "metadata": {
  "kernelspec": {
   "display_name": "Python 3",
   "language": "python",
   "name": "python3"
  },
  "language_info": {
   "codemirror_mode": {
    "name": "ipython",
    "version": 3
   },
   "file_extension": ".py",
   "mimetype": "text/x-python",
   "name": "python",
   "nbconvert_exporter": "python",
   "pygments_lexer": "ipython3",
   "version": "3.12.6"
  }
 },
 "nbformat": 4,
 "nbformat_minor": 2
}
