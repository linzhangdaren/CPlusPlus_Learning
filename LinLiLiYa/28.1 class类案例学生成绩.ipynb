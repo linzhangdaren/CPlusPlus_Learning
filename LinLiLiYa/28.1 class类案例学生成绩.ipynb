{
 "cells": [
  {
   "cell_type": "markdown",
   "metadata": {},
   "source": [
    " 定义一个学生类  \n",
    " 要求: \n",
    " 1. 属性包括学生姓名、学号，以及语数英三科的成绩  \n",
    " 2. 能够设置学生某科目的成绩  \n",
    " 3. 能够打印出该学生的所有科目成绩"
   ]
  },
  {
   "cell_type": "code",
   "execution_count": 8,
   "metadata": {},
   "outputs": [
    {
     "name": "stdout",
     "output_type": "stream",
     "text": [
      "学生姓名：鹏华, 学号：001\n",
      "语文: 85\n",
      "数学: 90\n",
      "英语: 92\n"
     ]
    }
   ],
   "source": [
    "# 定义学生类\n",
    "class 学生:\n",
    "    def __init__(self, 姓名, 学号):\n",
    "        self.姓名 = 姓名\n",
    "        self.学号 = 学号\n",
    "        self.成绩 = {\"语文\": 0, \"数学\": 0, \"英语\": 0}\n",
    "\n",
    "    def 设置成绩(self, 科目, 分数):\n",
    "        if 科目 in self.成绩:\n",
    "            self.成绩[科目] = 分数\n",
    "        else:\n",
    "            print(\"科目不存在！\")\n",
    "\n",
    "    def 输出成绩(self):\n",
    "        print(f\"学生姓名：{self.姓名}, 学号：{self.学号}\")\n",
    "        for 科目, 分数 in self.成绩.items():\n",
    "            print(f\"{科目}: {分数}\")\n",
    "\n",
    "\n",
    "# 实例化学生对象\n",
    "鹏华 = 学生(\"鹏华\", \"001\")\n",
    "\n",
    "# 设置成绩\n",
    "鹏华.设置成绩(\"语文\", 85)\n",
    "鹏华.设置成绩(\"数学\", 90)\n",
    "鹏华.设置成绩(\"英语\", 92)\n",
    "\n",
    "# 输出成绩\n",
    "鹏华.输出成绩()"
   ]
  }
 ],
 "metadata": {
  "kernelspec": {
   "display_name": "Python 3",
   "language": "python",
   "name": "python3"
  },
  "language_info": {
   "codemirror_mode": {
    "name": "ipython",
    "version": 3
   },
   "file_extension": ".py",
   "mimetype": "text/x-python",
   "name": "python",
   "nbconvert_exporter": "python",
   "pygments_lexer": "ipython3",
   "version": "3.12.6"
  }
 },
 "nbformat": 4,
 "nbformat_minor": 2
}
