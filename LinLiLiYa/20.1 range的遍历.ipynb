{
 "cells": [
  {
   "cell_type": "markdown",
   "metadata": {},
   "source": [
    "range(1,10) 表示从1到9  \n",
    "range()为整数数列生成器，可以生成指定范围内的整数序列  \n",
    "也是有头无尾,有始无终\n",
    "配合for循环使用，可以遍历整数序列\n",
    "```\n",
    "for 变量 in range(1,10)\n",
    "    print(变量)\n",
    "```\n",
    "会依次输出1到9"
   ]
  },
  {
   "cell_type": "code",
   "execution_count": null,
   "metadata": {},
   "outputs": [],
   "source": [
    "for 变量 in range(1,10):\n",
    "    print(变量)"
   ]
  },
  {
   "cell_type": "markdown",
   "metadata": {},
   "source": [
    "range(1,10,2)#这里的2表示步长为2也就是间距的意思  \n",
    "会输出1,3,5,7,9\n",
    "方便输出奇偶数"
   ]
  },
  {
   "cell_type": "code",
   "execution_count": null,
   "metadata": {},
   "outputs": [],
   "source": [
    "#输出1到9的奇数\n",
    "for 变量 in range(1,10,2):\n",
    "    print(变量)\n"
   ]
  },
  {
   "cell_type": "code",
   "execution_count": null,
   "metadata": {},
   "outputs": [],
   "source": [
    "# 输出1到9的偶数\n",
    "for 变量 in range(2, 10, 2):\n",
    "    print(变量)"
   ]
  },
  {
   "cell_type": "code",
   "execution_count": 9,
   "metadata": {},
   "outputs": [
    {
     "name": "stdout",
     "output_type": "stream",
     "text": [
      "5050\n"
     ]
    }
   ],
   "source": [
    "# 计算1到100的累加和\n",
    "累加和=0\n",
    "for 变量 in range(1,101):\n",
    "    累加和 = 累加和 + 变量\n",
    "print(累加和)"
   ]
  }
 ],
 "metadata": {
  "kernelspec": {
   "display_name": "Python 3",
   "language": "python",
   "name": "python3"
  },
  "language_info": {
   "codemirror_mode": {
    "name": "ipython",
    "version": 3
   },
   "file_extension": ".py",
   "mimetype": "text/x-python",
   "name": "python",
   "nbconvert_exporter": "python",
   "pygments_lexer": "ipython3",
   "version": "3.12.6"
  }
 },
 "nbformat": 4,
 "nbformat_minor": 2
}
