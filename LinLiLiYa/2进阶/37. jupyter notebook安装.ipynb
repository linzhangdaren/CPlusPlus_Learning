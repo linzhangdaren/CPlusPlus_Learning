{
 "cells": [
  {
   "cell_type": "markdown",
   "metadata": {},
   "source": [
    "Jupyter Notebook 的安装:\n",
    "\n",
    "首先，你需要安装 Python 3.x 环境。\n",
    "\n",
    "然后，你可以从官方网站下载安装包，或者使用 pip 命令安装：\n",
    "\n",
    "```\n",
    "pip install notebook\n",
    "```\n",
    "\n",
    "\n",
    "安装完成后，你可以在命令行中输入 `jupyter notebook` 启动服务。\n",
    "\n",
    "打开浏览器，输入 `http://localhost:8888` 访问服务。\n",
    "\n",
    "然后，你就可以在浏览器中打开 Jupyter Notebook 编辑器，进行代码编写、运行、测试等操作。"
   ]
  },
  {
   "cell_type": "code",
   "execution_count": null,
   "metadata": {},
   "outputs": [],
   "source": [
    "#安装\n",
    "pip install jupyter\n",
    "#启动\n",
    "jupyter notebook\n",
    "#打开浏览器，输入http://localhost:8888/，进入jupyter notebook\n",
    "#关闭jupyter notebook 只关闭浏览器是不够的\n",
    "#终端也得关闭\n",
    "#快捷键: Ctrl + C \n",
    "jupyter notebook stop\n"
   ]
  }
 ],
 "metadata": {
  "language_info": {
   "name": "python"
  }
 },
 "nbformat": 4,
 "nbformat_minor": 2
}
