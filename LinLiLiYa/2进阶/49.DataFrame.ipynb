{
 "cells": [
  {
   "cell_type": "markdown",
   "id": "a80575a2",
   "metadata": {},
   "source": [
    "pandas 的 DataFame 使用  \n",
    "DataFame 是由 Series组合到一起形成的表格字典"
   ]
  },
  {
   "cell_type": "code",
   "execution_count": null,
   "id": "8d963821",
   "metadata": {},
   "outputs": [],
   "source": [
    "import pandas as pd"
   ]
  },
  {
   "cell_type": "markdown",
   "id": "041c3d8b",
   "metadata": {},
   "source": [
    "### 创建DataFame的几种方法"
   ]
  },
  {
   "cell_type": "markdown",
   "id": "57283117",
   "metadata": {},
   "source": [
    "第一种方法 参数传入字典"
   ]
  },
  {
   "cell_type": "code",
   "execution_count": null,
   "id": "edb82351",
   "metadata": {},
   "outputs": [],
   "source": [
    "#DataFrame的创建\n",
    "s_id=pd.Series([\"01\",\"02\",\"03\",\"04\",\"05\"])\n",
    "s_class=pd.Series([\"二班\",\"一班\",\"二班\",\"三班\",\"一班\"])\n",
    "s_grade=pd.Series([90,80,70,60,99])\n",
    "#创建DataFrame 列标题\n",
    "d1=pd.DataFrame({\"学号\":s_id,\"班级\":s_class,\"成绩\":s_grade})\n",
    "print(d1)"
   ]
  },
  {
   "cell_type": "markdown",
   "id": "882cbdb9",
   "metadata": {},
   "source": [
    "第二种方法 列表直接传入字典"
   ]
  },
  {
   "cell_type": "code",
   "execution_count": null,
   "id": "c7dc4b79",
   "metadata": {},
   "outputs": [],
   "source": [
    "# 直接用列表组合生成DataFrame\n",
    "data = [\n",
    "    [\"01\", \"二班\", 90],\n",
    "    [\"02\", \"一班\", 80],\n",
    "    [\"03\", \"二班\", 70],\n",
    "    [\"04\", \"三班\", 60],\n",
    "    [\"05\", \"一班\", 99]\n",
    "]\n",
    "d2 = pd.DataFrame(data, columns=[\"学号\", \"班级\", \"成绩\"])\n",
    "print(d2)"
   ]
  },
  {
   "cell_type": "code",
   "execution_count": null,
   "id": "244848c7",
   "metadata": {},
   "outputs": [],
   "source": [
    "#或者单个列表组合\n",
    "l_id= [\"01\", \"02\", \"03\", \"04\", \"05\"]\n",
    "l_class= [\"二班\", \"一班\", \"二班\", \"三班\", \"一班\"]\n",
    "l_score= [80, 90, 70, 60, 100]\n",
    "\n",
    "df2= pd.DataFrame({\"学号\": l_id, \"班级\": l_class, \"成绩\": l_score})\n",
    "print(df2)"
   ]
  },
  {
   "cell_type": "markdown",
   "id": "7a617118",
   "metadata": {},
   "source": [
    "第三种方法 Series自带index索引组合到DataFrame中自动变为索引列"
   ]
  },
  {
   "cell_type": "code",
   "execution_count": null,
   "id": "701c2e9b",
   "metadata": {},
   "outputs": [],
   "source": [
    "si_id=pd.Series([\"01\",\"02\",\"03\",\"04\",\"05\"],index=[\"小红\",\"小蓝\",\"小黄\",\"小绿\",\"小紫\"])\n",
    "si_class=pd.Series([\"二班\",\"一班\",\"二班\",\"三班\",\"一班\"],index=[\"小红\",\"小蓝\",\"小黄\",\"小绿\",\"小紫\"])\n",
    "si_grade=pd.Series([90,80,70,60,99],index=[\"小红\",\"小蓝\",\"小黄\",\"小绿\",\"小紫\"])\n",
    "\n",
    "df3=pd.DataFrame({\"学号\":si_id,\"班级\":si_class,\"成绩\":si_grade})\n",
    "print(df3)"
   ]
  },
  {
   "cell_type": "markdown",
   "id": "1b5f4bc7",
   "metadata": {},
   "source": [
    "第四种方法 标签索引 字典嵌套字典形式"
   ]
  },
  {
   "cell_type": "code",
   "execution_count": null,
   "id": "66c516ed",
   "metadata": {},
   "outputs": [],
   "source": [
    "df4=pd.DataFrame({\"学号\":{\"小红\":\"01\",\"小蓝\":\"02\",\"小黄\":\"03\",\"小绿\":\"04\",\"小紫\":\"05\"},\n",
    "                   \"班级\":{\"小红\":\"二班\",\"小蓝\":\"一班\",\"小黄\":\"二班\",\"小绿\":\"三班\",\"小紫\":\"一班\"},\n",
    "                   \"成绩\":{\"小红\":90,\"小蓝\":80,\"小黄\":70,\"小绿\":60,\"小紫\":99}})\n",
    "print(df4)"
   ]
  },
  {
   "cell_type": "markdown",
   "id": "f224c64c",
   "metadata": {},
   "source": [
    "### 获取索引和列名"
   ]
  },
  {
   "cell_type": "code",
   "execution_count": null,
   "id": "f52a31a6",
   "metadata": {},
   "outputs": [],
   "source": [
    "#获取索引\n",
    "print(df4.index)    "
   ]
  },
  {
   "cell_type": "code",
   "execution_count": null,
   "id": "44041630",
   "metadata": {},
   "outputs": [],
   "source": [
    "#获取列名\n",
    "print(df4.columns)"
   ]
  },
  {
   "cell_type": "code",
   "execution_count": null,
   "id": "c6128f5b",
   "metadata": {},
   "outputs": [],
   "source": [
    "#获取值\n",
    "print(df4.values)\n",
    "#类型为numpy.ndarray"
   ]
  },
  {
   "cell_type": "markdown",
   "id": "0095ef4d",
   "metadata": {},
   "source": [
    "### 其他使用方式"
   ]
  },
  {
   "cell_type": "code",
   "execution_count": null,
   "id": "70074a69",
   "metadata": {},
   "outputs": [],
   "source": [
    "# 置换 转置 列换行 行换列\n",
    "print(df4.T)"
   ]
  },
  {
   "cell_type": "markdown",
   "id": "31e2960c",
   "metadata": {},
   "source": [
    "### 提取行和列"
   ]
  },
  {
   "cell_type": "markdown",
   "id": "65c94ec4",
   "metadata": {},
   "source": [
    "单个/多个列的提取"
   ]
  },
  {
   "cell_type": "code",
   "execution_count": null,
   "id": "e7786d89",
   "metadata": {},
   "outputs": [],
   "source": [
    "#提取列 方式1\n",
    "print(df4[\"学号\"])#单个列 # 返回的是Series\n",
    "print(df4[[\"学号\",\"成绩\"]])#多个列 # 返回的是DataFrame"
   ]
  },
  {
   "cell_type": "code",
   "execution_count": null,
   "id": "a4d9584c",
   "metadata": {},
   "outputs": [],
   "source": [
    "#提取列 方式2\n",
    "print(df4.学号) #如果列名中有-或者空格等特殊字符，不能用这种方式"
   ]
  },
  {
   "cell_type": "markdown",
   "id": "f03d6d72",
   "metadata": {},
   "source": [
    "提取行 loc/iloc"
   ]
  },
  {
   "cell_type": "code",
   "execution_count": null,
   "id": "3bf8ad6b",
   "metadata": {},
   "outputs": [],
   "source": [
    "# 提取行 loc方法\n",
    "df4.loc[\"小红\"]  # 根据索引标签提取行"
   ]
  },
  {
   "cell_type": "code",
   "execution_count": null,
   "id": "74775773",
   "metadata": {},
   "outputs": [],
   "source": [
    "#提取行 iloc方法\n",
    "df4.iloc[0]  # 根据行号提取行，0表示第一行"
   ]
  },
  {
   "cell_type": "markdown",
   "id": "4d013305",
   "metadata": {},
   "source": [
    "任意行的组合 loc/iloc"
   ]
  },
  {
   "cell_type": "code",
   "execution_count": null,
   "id": "da7c9b9c",
   "metadata": {},
   "outputs": [],
   "source": [
    "# 提取任意行的组合 loc方法\n",
    "df4.loc[[\"小红\", \"小蓝\"]]  # 根据索引标签提取多行"
   ]
  },
  {
   "cell_type": "code",
   "execution_count": null,
   "id": "a7a9244c",
   "metadata": {},
   "outputs": [],
   "source": [
    "# 提取任意行组合 iloc方法\n",
    "df4.iloc[[1, 4]]  # 根据行号提取多行"
   ]
  },
  {
   "cell_type": "markdown",
   "id": "45aa897b",
   "metadata": {},
   "source": [
    "### 切片 loc iloc"
   ]
  },
  {
   "cell_type": "code",
   "execution_count": null,
   "id": "1f0d0cfb",
   "metadata": {},
   "outputs": [],
   "source": [
    "df4.loc[\"小红\":\"小紫\"]"
   ]
  },
  {
   "cell_type": "code",
   "execution_count": null,
   "id": "c7ab7bb6",
   "metadata": {},
   "outputs": [],
   "source": [
    "df4.iloc[0:3]  "
   ]
  },
  {
   "cell_type": "markdown",
   "id": "0a159bb4",
   "metadata": {},
   "source": [
    "### 提取单独指定的某一个值"
   ]
  },
  {
   "cell_type": "code",
   "execution_count": null,
   "id": "cc362216",
   "metadata": {},
   "outputs": [],
   "source": [
    "df4.loc[\"小红\",\"成绩\"]"
   ]
  },
  {
   "cell_type": "code",
   "execution_count": null,
   "id": "99669542",
   "metadata": {},
   "outputs": [],
   "source": [
    "#提取第一行第二列的值\n",
    "df4.iloc[0, 1]  # 第一行第二列的值"
   ]
  },
  {
   "cell_type": "markdown",
   "id": "10aeb5f2",
   "metadata": {},
   "source": [
    "### 提取部分数据"
   ]
  },
  {
   "cell_type": "code",
   "execution_count": null,
   "id": "0f7dceeb",
   "metadata": {},
   "outputs": [],
   "source": [
    "df4.loc[\"小红\":\"小绿\", \"班级\":\"成绩\"]  # 提取小红到小绿的成绩"
   ]
  },
  {
   "cell_type": "code",
   "execution_count": null,
   "id": "29aee80a",
   "metadata": {},
   "outputs": [],
   "source": [
    "#提取部分列\n",
    "df4.loc[:,\"班级\":\"成绩\"]  # 提取所有行的学号到成绩列"
   ]
  },
  {
   "cell_type": "markdown",
   "id": "ecfbeea2",
   "metadata": {},
   "source": [
    "### 提取不相邻的行或列"
   ]
  },
  {
   "cell_type": "code",
   "execution_count": null,
   "id": "7115e9cc",
   "metadata": {},
   "outputs": [],
   "source": [
    "df4.loc[[\"小红\",\"小紫\"],\"学号\":\"成绩\"]"
   ]
  },
  {
   "cell_type": "markdown",
   "id": "6fc2cc3c",
   "metadata": {},
   "source": [
    "### 判断筛选 行"
   ]
  },
  {
   "cell_type": "code",
   "execution_count": null,
   "id": "4a641349",
   "metadata": {},
   "outputs": [],
   "source": [
    "#成绩大于90的行\n",
    "df4[df4[\"成绩\"] > 90]  # 返回成绩大于90的行"
   ]
  },
  {
   "cell_type": "markdown",
   "id": "58bce215",
   "metadata": {},
   "source": [
    "### head()方法 获取前几行数据"
   ]
  },
  {
   "cell_type": "code",
   "execution_count": null,
   "id": "bb1d906c",
   "metadata": {},
   "outputs": [],
   "source": [
    "# 只看前几行的方法\n",
    "df4.head()  # 返回前5行"
   ]
  },
  {
   "cell_type": "code",
   "execution_count": null,
   "id": "84e9cff5",
   "metadata": {},
   "outputs": [],
   "source": [
    "# 看前3行\n",
    "df4.head(3)  # 返回前3行"
   ]
  }
 ],
 "metadata": {
  "kernelspec": {
   "display_name": "Python 3",
   "language": "python",
   "name": "python3"
  },
  "language_info": {
   "codemirror_mode": {
    "name": "ipython",
    "version": 3
   },
   "file_extension": ".py",
   "mimetype": "text/x-python",
   "name": "python",
   "nbconvert_exporter": "python",
   "pygments_lexer": "ipython3",
   "version": "3.13.3"
  }
 },
 "nbformat": 4,
 "nbformat_minor": 5
}
