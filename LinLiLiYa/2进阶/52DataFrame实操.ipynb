{
 "cells": [
  {
   "cell_type": "code",
   "execution_count": null,
   "id": "06b1573b",
   "metadata": {},
   "outputs": [],
   "source": [
    "import pandas as pd"
   ]
  },
  {
   "cell_type": "code",
   "execution_count": null,
   "id": "85b2cb20",
   "metadata": {},
   "outputs": [],
   "source": [
    "students = pd.DataFrame({\n",
    "    \"001\": {\"姓名\": \"小陈\", \"考试1\": 85, \"考试2\": 95, \"考试3\": 92},\n",
    "    \"002\": {\"姓名\": \"小夏\", \"考试1\": 90, \"考试2\": 92, \"考试3\": 93},\n",
    "    \"003\": {\"姓名\": \"小唐\", \"考试1\": 88, \"考试2\": 90, \"考试3\": 95},\n",
    "    \"004\": {\"姓名\": \"小唐\", \"考试1\": 88, \"考试2\": 90, \"考试3\": 95},\n",
    "    \"005\": {\"姓名\": \"小唐\", \"考试1\": 88, \"考试2\": 90, \"考试3\": 95},\n",
    "    \"006\": {\"姓名\": \"小唐\", \"考试1\": 88, \"考试2\": 90, \"考试3\": 95}\n",
    "}).T\n",
    "\n",
    "students"
   ]
  },
  {
   "cell_type": "code",
   "execution_count": null,
   "id": "5656f992",
   "metadata": {},
   "outputs": [],
   "source": [
    "students = pd.DataFrame({\n",
    "    \"001\": {\"姓名\": \"小陈\", \"考试1\": 85, \"考试2\": 95, \"考试3\": 92},\n",
    "    \"002\": {\"姓名\": \"小夏\", \"考试1\": 90, \"考试2\": 92, \"考试3\": 93},\n",
    "    \"003\": {\"姓名\": \"小唐\", \"考试1\": 88, \"考试2\": 90, \"考试3\": 95},\n",
    "    \"004\": {\"姓名\": \"小唐\", \"考试1\": 88, \"考试2\": 90, \"考试3\": 95},\n",
    "    \"005\": {\"姓名\": \"小唐\", \"考试1\": 88, \"考试2\": 90, \"考试3\": 95},\n",
    "    \"006\": {\"姓名\": \"小唐\", \"考试1\": 88, \"考试2\": 90, \"考试3\": 95}\n",
    "}).T\n",
    "\n",
    "students"
   ]
  },
  {
   "cell_type": "code",
   "execution_count": null,
   "id": "50392921",
   "metadata": {},
   "outputs": [],
   "source": [
    "students = pd.DataFrame({\n",
    "    \"001\": {\"姓名\": \"小陈\", \"考试1\": 85, \"考试2\": 95, \"考试3\": 92},\n",
    "    \"002\": {\"姓名\": \"小夏\", \"考试1\": 90, \"考试2\": 92, \"考试3\": 93},\n",
    "    \"003\": {\"姓名\": \"小唐\", \"考试1\": 88, \"考试2\": 90, \"考试3\": 95},\n",
    "    \"004\": {\"姓名\": \"小唐\", \"考试1\": 88, \"考试2\": 90, \"考试3\": 95},\n",
    "    \"005\": {\"姓名\": \"小唐\", \"考试1\": 88, \"考试2\": 90, \"考试3\": 95},\n",
    "    \"006\": {\"姓名\": \"小唐\", \"考试1\": 88, \"考试2\": 90, \"考试3\": 95}\n",
    "}).T\n",
    "\n",
    "students"
   ]
  },
  {
   "cell_type": "markdown",
   "id": "6aa48890",
   "metadata": {},
   "source": [
    "创建一个名为students的Dataframe 包含如下:  \n",
    "要求索引为学号"
   ]
  },
  {
   "cell_type": "markdown",
   "id": "6613f7dc",
   "metadata": {},
   "source": [
    "{\n",
    "    \"001\": {\"姓名\": \"小陈\", \"考试1\": 85, \"考试2\": 95, \"考试3\": 92},\n",
    "    \"002\": {\"姓名\": \"小夏\", \"考试1\": 90, \"考试2\": 92, \"考试3\": 93},\n",
    "    \"003\": {\"姓名\": \"小唐\", \"考试1\": 88, \"考试2\": 90, \"考试3\": 95},\n",
    "    \"004\": {\"姓名\": \"小唐\", \"考试1\": 88, \"考试2\": 90, \"考试3\": 95},\n",
    "    \"005\": {\"姓名\": \"小唐\", \"考试1\": 88, \"考试2\": 90, \"考试3\": 95},\n",
    "    \"006\": {\"姓名\": \"小唐\", \"考试1\": 88, \"考试2\": 90, \"考试3\": 95}\n",
    "}"
   ]
  },
  {
   "cell_type": "code",
   "execution_count": null,
   "id": "0d56c554",
   "metadata": {},
   "outputs": [],
   "source": [
    "students = pd.DataFrame({\n",
    "    \"001\": {\"姓名\": \"小陈\", \"考试1\": 85, \"考试2\": 95, \"考试3\": 92},\n",
    "    \"002\": {\"姓名\": \"小夏\", \"考试1\": 90, \"考试2\": 92, \"考试3\": 93},\n",
    "    \"003\": {\"姓名\": \"小唐\", \"考试1\": 88, \"考试2\": 90, \"考试3\": 95},\n",
    "    \"004\": {\"姓名\": \"小唐\", \"考试1\": 88, \"考试2\": 90, \"考试3\": 95},\n",
    "    \"005\": {\"姓名\": \"小唐\", \"考试1\": 88, \"考试2\": 90, \"考试3\": 95},\n",
    "    \"006\": {\"姓名\": \"小唐\", \"考试1\": 88, \"考试2\": 90, \"考试3\": 95}\n",
    "}).T\n",
    "\n",
    "students"
   ]
  },
  {
   "cell_type": "markdown",
   "id": "60f7a12c",
   "metadata": {},
   "source": [
    "给students添加一列考试4  \n",
    "数据为:[90,80,86,91,92,40]"
   ]
  },
  {
   "cell_type": "code",
   "execution_count": null,
   "id": "d726375c",
   "metadata": {},
   "outputs": [],
   "source": [
    "students[\"考试4\"]=[90,80,86,91,92,40]\n",
    "students\n",
    "#如果是pd.Series #需要加索引\n",
    "# students[\"考试4\"]=pd.Series([90,80,86,91,92,40],index=students.index)"
   ]
  },
  {
   "cell_type": "markdown",
   "id": "703b99e2",
   "metadata": {},
   "source": [
    "给students添加一行索引为007  \n",
    "数据为:\"小杨\",91,99,81,77"
   ]
  },
  {
   "cell_type": "code",
   "execution_count": null,
   "id": "3822780c",
   "metadata": {},
   "outputs": [],
   "source": [
    "students.loc[\"007\"]=[\"小杨\",91,99,81,77]\n",
    "students"
   ]
  },
  {
   "cell_type": "markdown",
   "id": "dd98b39a",
   "metadata": {},
   "source": [
    "删除行  \n",
    "006和007的结果赋值一个新的变量不改变原有的变量"
   ]
  },
  {
   "cell_type": "code",
   "execution_count": null,
   "id": "1f3c978c",
   "metadata": {},
   "outputs": [],
   "source": [
    "new_students=students.drop([\"006\",\"007\"],axis=0)#axis=0表示行，axis=1表示列这里可以省略，默认是0\n",
    "new_students"
   ]
  },
  {
   "cell_type": "markdown",
   "id": "8b4b37f8",
   "metadata": {},
   "source": [
    "删除列  \n",
    "删除考试2和考试4的结果不改变本身"
   ]
  },
  {
   "cell_type": "code",
   "execution_count": null,
   "id": "14ca74a5",
   "metadata": {},
   "outputs": [],
   "source": [
    "new_students2=students.drop([\"考试2\",\"考试4\"],axis=1)\n",
    "new_students2"
   ]
  },
  {
   "cell_type": "markdown",
   "id": "ed8d6f08",
   "metadata": {},
   "source": [
    "列加分  \n",
    "考试2这一列加1分"
   ]
  },
  {
   "cell_type": "code",
   "execution_count": 17,
   "id": "2d72c1c4",
   "metadata": {},
   "outputs": [
    {
     "data": {
      "text/html": [
       "<div>\n",
       "<style scoped>\n",
       "    .dataframe tbody tr th:only-of-type {\n",
       "        vertical-align: middle;\n",
       "    }\n",
       "\n",
       "    .dataframe tbody tr th {\n",
       "        vertical-align: top;\n",
       "    }\n",
       "\n",
       "    .dataframe thead th {\n",
       "        text-align: right;\n",
       "    }\n",
       "</style>\n",
       "<table border=\"1\" class=\"dataframe\">\n",
       "  <thead>\n",
       "    <tr style=\"text-align: right;\">\n",
       "      <th></th>\n",
       "      <th>姓名</th>\n",
       "      <th>考试1</th>\n",
       "      <th>考试3</th>\n",
       "    </tr>\n",
       "  </thead>\n",
       "  <tbody>\n",
       "    <tr>\n",
       "      <th>001</th>\n",
       "      <td>小陈</td>\n",
       "      <td>89</td>\n",
       "      <td>92</td>\n",
       "    </tr>\n",
       "    <tr>\n",
       "      <th>002</th>\n",
       "      <td>小夏</td>\n",
       "      <td>94</td>\n",
       "      <td>93</td>\n",
       "    </tr>\n",
       "    <tr>\n",
       "      <th>003</th>\n",
       "      <td>小唐</td>\n",
       "      <td>92</td>\n",
       "      <td>95</td>\n",
       "    </tr>\n",
       "    <tr>\n",
       "      <th>004</th>\n",
       "      <td>小唐</td>\n",
       "      <td>92</td>\n",
       "      <td>95</td>\n",
       "    </tr>\n",
       "    <tr>\n",
       "      <th>005</th>\n",
       "      <td>小唐</td>\n",
       "      <td>92</td>\n",
       "      <td>95</td>\n",
       "    </tr>\n",
       "    <tr>\n",
       "      <th>006</th>\n",
       "      <td>小唐</td>\n",
       "      <td>92</td>\n",
       "      <td>95</td>\n",
       "    </tr>\n",
       "    <tr>\n",
       "      <th>007</th>\n",
       "      <td>小杨</td>\n",
       "      <td>95</td>\n",
       "      <td>81</td>\n",
       "    </tr>\n",
       "  </tbody>\n",
       "</table>\n",
       "</div>"
      ],
      "text/plain": [
       "     姓名 考试1 考试3\n",
       "001  小陈  89  92\n",
       "002  小夏  94  93\n",
       "003  小唐  92  95\n",
       "004  小唐  92  95\n",
       "005  小唐  92  95\n",
       "006  小唐  92  95\n",
       "007  小杨  95  81"
      ]
     },
     "execution_count": 17,
     "metadata": {},
     "output_type": "execute_result"
    }
   ],
   "source": [
    "new_students2[\"考试1\"]=new_students2[\"考试1\"]+2\n",
    "new_students2"
   ]
  },
  {
   "cell_type": "markdown",
   "id": "34c16342",
   "metadata": {},
   "source": [
    "多行列批量加分  \n",
    " \n",
    "第一列加1分  \n",
    "第二列加2分"
   ]
  },
  {
   "cell_type": "code",
   "execution_count": 18,
   "id": "1827f8fe",
   "metadata": {},
   "outputs": [
    {
     "data": {
      "text/html": [
       "<div>\n",
       "<style scoped>\n",
       "    .dataframe tbody tr th:only-of-type {\n",
       "        vertical-align: middle;\n",
       "    }\n",
       "\n",
       "    .dataframe tbody tr th {\n",
       "        vertical-align: top;\n",
       "    }\n",
       "\n",
       "    .dataframe thead th {\n",
       "        text-align: right;\n",
       "    }\n",
       "</style>\n",
       "<table border=\"1\" class=\"dataframe\">\n",
       "  <thead>\n",
       "    <tr style=\"text-align: right;\">\n",
       "      <th></th>\n",
       "      <th>考试1</th>\n",
       "      <th>考试3</th>\n",
       "    </tr>\n",
       "  </thead>\n",
       "  <tbody>\n",
       "    <tr>\n",
       "      <th>001</th>\n",
       "      <td>90</td>\n",
       "      <td>94</td>\n",
       "    </tr>\n",
       "    <tr>\n",
       "      <th>002</th>\n",
       "      <td>95</td>\n",
       "      <td>95</td>\n",
       "    </tr>\n",
       "    <tr>\n",
       "      <th>003</th>\n",
       "      <td>93</td>\n",
       "      <td>97</td>\n",
       "    </tr>\n",
       "    <tr>\n",
       "      <th>004</th>\n",
       "      <td>93</td>\n",
       "      <td>97</td>\n",
       "    </tr>\n",
       "    <tr>\n",
       "      <th>005</th>\n",
       "      <td>93</td>\n",
       "      <td>97</td>\n",
       "    </tr>\n",
       "    <tr>\n",
       "      <th>006</th>\n",
       "      <td>93</td>\n",
       "      <td>97</td>\n",
       "    </tr>\n",
       "    <tr>\n",
       "      <th>007</th>\n",
       "      <td>96</td>\n",
       "      <td>83</td>\n",
       "    </tr>\n",
       "  </tbody>\n",
       "</table>\n",
       "</div>"
      ],
      "text/plain": [
       "    考试1 考试3\n",
       "001  90  94\n",
       "002  95  95\n",
       "003  93  97\n",
       "004  93  97\n",
       "005  93  97\n",
       "006  93  97\n",
       "007  96  83"
      ]
     },
     "execution_count": 18,
     "metadata": {},
     "output_type": "execute_result"
    }
   ],
   "source": [
    "bonus=pd.Series({\"考试1\":1,\"考试3\":2})\n",
    "bonus+new_students2[[\"考试1\",\"考试3\"]]"
   ]
  }
 ],
 "metadata": {
  "kernelspec": {
   "display_name": "Python 3",
   "language": "python",
   "name": "python3"
  },
  "language_info": {
   "codemirror_mode": {
    "name": "ipython",
    "version": 3
   },
   "file_extension": ".py",
   "mimetype": "text/x-python",
   "name": "python",
   "nbconvert_exporter": "python",
   "pygments_lexer": "ipython3",
   "version": "3.13.3"
  }
 },
 "nbformat": 4,
 "nbformat_minor": 5
}
