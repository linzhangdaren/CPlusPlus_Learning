{
 "cells": [
  {
   "cell_type": "markdown",
   "id": "13275d12",
   "metadata": {},
   "source": [
    "### 索引自动对齐"
   ]
  },
  {
   "cell_type": "markdown",
   "id": "4e988048",
   "metadata": {},
   "source": [
    "索引值一致的 会自动运算"
   ]
  },
  {
   "cell_type": "code",
   "execution_count": null,
   "id": "38c9e02b",
   "metadata": {},
   "outputs": [],
   "source": [
    "import pandas as pd\n",
    "\n",
    "# 创建第一个Series，5个元素，索引为0, 1, 2, 3, 4\n",
    "s1 = pd.Series([1, 2, 3, 4, 5], index=[0, 1, 2, 3, 4])\n",
    "\n",
    "# 创建第二个Series，5个元素，索引为2, 3, 4, 5, 6\n",
    "s2 = pd.Series([6, 7, 8, 9, 10], index=[2, 3, 4, 5, 6])"
   ]
  },
  {
   "cell_type": "code",
   "execution_count": null,
   "id": "a16c956d",
   "metadata": {},
   "outputs": [],
   "source": [
    "s1+s2  # 直接相加会导致索引对齐，未对齐的索引会返回NaN"
   ]
  },
  {
   "cell_type": "markdown",
   "id": "c494eedf",
   "metadata": {},
   "source": [
    "直接相加会出现空白的NaN值  \n",
    "缺省的如何保留?用`fill_value`参数来指定缺省值"
   ]
  },
  {
   "cell_type": "code",
   "execution_count": null,
   "id": "aec193f0",
   "metadata": {},
   "outputs": [],
   "source": [
    "# 使用add方法进行相加，指定缺省值fill_value为0\n",
    "s1.add(s2, fill_value=0)"
   ]
  },
  {
   "cell_type": "code",
   "execution_count": null,
   "id": "d0ed3785",
   "metadata": {},
   "outputs": [],
   "source": [
    "#乘法\n",
    "s1.mul(s2, fill_value=1)  # 使用mul方法进行相乘，指定缺省值fill_value为1"
   ]
  },
  {
   "cell_type": "code",
   "execution_count": null,
   "id": "6017ee5b",
   "metadata": {},
   "outputs": [],
   "source": [
    "#除法\n",
    "s1.div(s2, fill_value=1)  # 使用div方法进行相除，指定缺省值fill_value为1"
   ]
  },
  {
   "cell_type": "markdown",
   "id": "dd0b841a",
   "metadata": {},
   "source": [
    "### 最大/最小/和/平均值的计算"
   ]
  },
  {
   "cell_type": "code",
   "execution_count": null,
   "id": "557f5f85",
   "metadata": {},
   "outputs": [],
   "source": [
    "print(s1.max()) # 获取s1的最大值\n",
    "print(s1.min()) # 获取s1的最小值\n",
    "print(s1.mean()) # 获取s1的平均值\n",
    "print(s1.median()) # 获取s1的中位数\n",
    "print(s1.std()) # 获取s1的标准差"
   ]
  },
  {
   "cell_type": "markdown",
   "id": "24e58d41",
   "metadata": {},
   "source": [
    "### 批量一次获取/描述.describe()"
   ]
  },
  {
   "cell_type": "code",
   "execution_count": null,
   "id": "1f706733",
   "metadata": {},
   "outputs": [],
   "source": [
    "s1.describe()  # 获取s1的描述性统计信息\n",
    "# count 个数 5\n",
    "# mean 平均值 3.0\n",
    "# std 标准差 1.581139\n",
    "# min 最小值 1.0\n",
    "# 25% 第25百分位数 2.0\n",
    "# 50% 第50百分位数（中位数） 3.0\n",
    "# 75% 第75百分位数 4.0\n",
    "# max 最大值 5.0"
   ]
  },
  {
   "cell_type": "markdown",
   "id": "85e9e8b8",
   "metadata": {},
   "source": [
    "### 单数做运算 广播机制"
   ]
  },
  {
   "cell_type": "code",
   "execution_count": null,
   "id": "559166ed",
   "metadata": {},
   "outputs": [],
   "source": [
    "s1*2"
   ]
  },
  {
   "cell_type": "markdown",
   "id": "8743e4e8",
   "metadata": {},
   "source": [
    "### 函数运算 赋值新的索引"
   ]
  },
  {
   "cell_type": "code",
   "execution_count": null,
   "id": "dd0e946e",
   "metadata": {},
   "outputs": [],
   "source": [
    "#分数判断等级划分 赋值新的索引\n",
    "# 不会改变原来的数据索引 所以记得赋值\n",
    "def get_grade(score):\n",
    "    if score >= 5:\n",
    "        return 'A'\n",
    "    elif score >= 4:\n",
    "        return 'B'\n",
    "    elif score >= 3:\n",
    "        return 'C'\n",
    "    elif score >= 2:\n",
    "        return 'D'\n",
    "    else:\n",
    "        return 'E'\n",
    "    \n",
    "# 使用apply方法对s1中的每个元素应用get_grade函数\n",
    "new_s1=s1.apply(get_grade)#因为传的是函数 所以不需要括号!!!\n",
    "print(new_s1)"
   ]
  }
 ],
 "metadata": {
  "kernelspec": {
   "display_name": "Python 3",
   "language": "python",
   "name": "python3"
  },
  "language_info": {
   "codemirror_mode": {
    "name": "ipython",
    "version": 3
   },
   "file_extension": ".py",
   "mimetype": "text/x-python",
   "name": "python",
   "nbconvert_exporter": "python",
   "pygments_lexer": "ipython3",
   "version": "3.13.3"
  }
 },
 "nbformat": 4,
 "nbformat_minor": 5
}
