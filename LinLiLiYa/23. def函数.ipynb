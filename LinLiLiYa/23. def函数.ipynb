{
 "cells": [
  {
   "cell_type": "code",
   "execution_count": null,
   "metadata": {},
   "outputs": [],
   "source": [
    "def 加法(变量1,变量2):\n",
    "    结果=变量1+变量2\n",
    "    return 结果\n",
    "\n",
    "数字1=int(input(\"请输入第一个数字：\"))\n",
    "数字2=int(input(\"请输入第二个数字：\"))\n",
    "结果=加法(数字1,数字2)\n",
    "print(f\"结果为:{数字1}+{数字2}={结果}\")"
   ]
  },
  {
   "cell_type": "code",
   "execution_count": null,
   "metadata": {},
   "outputs": [],
   "source": [
    "# 精简以上写法\n",
    "def 加法(变量1, 变量2):\n",
    "    return 变量1 + 变量2\n",
    "\n",
    "数字1 = int(input(\"请输入第一个数字：\"))\n",
    "数字2 = int(input(\"请输入第二个数字：\"))\n",
    "print(f\"结果为: {数字1} + {数字2} = {加法(数字1, 数字2)}\")"
   ]
  },
  {
   "cell_type": "code",
   "execution_count": null,
   "metadata": {},
   "outputs": [],
   "source": []
  }
 ],
 "metadata": {
  "kernelspec": {
   "display_name": "Python 3",
   "language": "python",
   "name": "python3"
  },
  "language_info": {
   "codemirror_mode": {
    "name": "ipython",
    "version": 3
   },
   "file_extension": ".py",
   "mimetype": "text/x-python",
   "name": "python",
   "nbconvert_exporter": "python",
   "pygments_lexer": "ipython3",
   "version": "3.12.6"
  }
 },
 "nbformat": 4,
 "nbformat_minor": 2
}
