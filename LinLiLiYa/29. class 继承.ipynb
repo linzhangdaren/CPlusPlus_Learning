{
 "cells": [
  {
   "cell_type": "markdown",
   "metadata": {},
   "source": [
    "# 继承的基本语法"
   ]
  },
  {
   "cell_type": "code",
   "execution_count": null,
   "metadata": {},
   "outputs": [],
   "source": [
    "#继承语法:\n",
    "class 父类():\n",
    "    def __init__(self, 名字, 年龄):\n",
    "        self.名字=名字\n",
    "        self.年龄=年龄\n",
    "    def 父类函数(self):\n",
    "        print(\"父类函数\")\n",
    "        \n",
    "class 子类(父类):\n",
    "    pass\n",
    "\n",
    "#实例化子类对象\n",
    "孩子=子类(\"小明\", 18)\n",
    "print(孩子.名字)\n",
    "print(孩子.年龄)\n",
    "孩子.父类函数()"
   ]
  },
  {
   "cell_type": "markdown",
   "metadata": {},
   "source": [
    "# 子类如有构造函数,就用子类的构造函数"
   ]
  },
  {
   "cell_type": "code",
   "execution_count": null,
   "metadata": {},
   "outputs": [],
   "source": [
    "class 动物:\n",
    "    def __init__(self,名字, 性别):\n",
    "        self.名字=名字\n",
    "        self.性别=性别\n",
    "\n",
    "class 狗(动物):\n",
    "    def __init__(self,名字, 性别):#子类有构造将不再调用父类的构造函数\n",
    "        self.名字=名字\n",
    "        self.性别=性别"
   ]
  },
  {
   "cell_type": "markdown",
   "metadata": {},
   "source": [
    "# 子类有构造还能再调用父类的构造吗？"
   ]
  },
  {
   "cell_type": "code",
   "execution_count": null,
   "metadata": {},
   "outputs": [],
   "source": [
    "# 用super()函数调用父类的方法\n",
    "class 动物:\n",
    "    def __init__(self, 名字, 性别):\n",
    "        self.名字 = 名字\n",
    "        self.性别 = 性别\n",
    "\n",
    "\n",
    "class 狗(动物):\n",
    "    def __init__(self, 名字, 性别, 年龄):  # 子类构造函数 不再使用父类的\n",
    "        super().__init__(名字, 性别)  # 追加父类的构造函数\n",
    "        self.年龄 = 年龄"
   ]
  }
 ],
 "metadata": {
  "kernelspec": {
   "display_name": "Python 3",
   "language": "python",
   "name": "python3"
  },
  "language_info": {
   "codemirror_mode": {
    "name": "ipython",
    "version": 3
   },
   "file_extension": ".py",
   "mimetype": "text/x-python",
   "name": "python",
   "nbconvert_exporter": "python",
   "pygments_lexer": "ipython3",
   "version": "3.12.6"
  }
 },
 "nbformat": 4,
 "nbformat_minor": 2
}
