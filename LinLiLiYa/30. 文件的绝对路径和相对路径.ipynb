{
 "cells": [
  {
   "cell_type": "markdown",
   "metadata": {},
   "source": [
    "绝对路径和相对路径的概念:  \n",
    "Windows 下绝对路径：\n",
    "- 本地：以盘符开头，用 `\\` 分隔目录和文件。Python 中可用双反斜杠，如 `C:\\\\Users\\\\file.txt`；或原始字符串，如 `r'C:\\Users\\file.txt'`。\n",
    "- 网络：以 `\\\\` 开头，接服务器名或 IP，再分隔共享文件夹和文件，如 `\\\\Server\\Share\\file.txt` 或 `\\\\192.168.1.10\\Share\\file.txt`。 \n",
    "\n",
    "相对路径：   \n",
    "- `file.txt` 或 `./file.txt`：当前工作目录的 `file.txt`，`./` 可省。\n",
    "- `../file.txt`：上一级目录的 `file.txt`。\n",
    "- `../../file.txt`：上上级目录的 `file.txt`，可多个 `../` 逐级向上。\n",
    "- `subdir/file.txt`：当前目录下 `subdir` 子目录的 `file.txt`。\n",
    "- `subdir1/subdir2/file.txt`：当前目录下 `subdir1` 内 `subdir2` 中的 `file.txt`。 "
   ]
  },
  {
   "cell_type": "markdown",
   "metadata": {},
   "source": [
    "编辑器里可以直接右键复制路径和相对路径"
   ]
  },
  {
   "cell_type": "markdown",
   "metadata": {},
   "source": []
  }
 ],
 "metadata": {
  "language_info": {
   "name": "python"
  }
 },
 "nbformat": 4,
 "nbformat_minor": 2
}
