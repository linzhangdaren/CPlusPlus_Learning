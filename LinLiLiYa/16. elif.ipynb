{
 "cells": [
  {
   "cell_type": "markdown",
   "metadata": {},
   "source": [
    "90分-100分 优秀  \n",
    "80分-89分 良好  \n",
    "70分-79分 及格  \n",
    "60分-69分 不及格  "
   ]
  },
  {
   "cell_type": "code",
   "execution_count": 6,
   "metadata": {},
   "outputs": [
    {
     "name": "stdout",
     "output_type": "stream",
     "text": [
      "及格\n"
     ]
    }
   ],
   "source": [
    "分数=75\n",
    "if 90<=分数<=100:\n",
    "    print(\"优秀\")\n",
    "elif 80<=分数<=89:\n",
    "    print(\"良好\")\n",
    "elif 70<=分数<=79:\n",
    "    print(\"及格\")\n",
    "elif 60<=分数<=69:\n",
    "    print(\"不及格\")\n",
    "else:\n",
    "    print(\"不在分数线内\")"
   ]
  },
  {
   "cell_type": "code",
   "execution_count": null,
   "metadata": {},
   "outputs": [],
   "source": []
  }
 ],
 "metadata": {
  "kernelspec": {
   "display_name": "Python 3",
   "language": "python",
   "name": "python3"
  },
  "language_info": {
   "codemirror_mode": {
    "name": "ipython",
    "version": 3
   },
   "file_extension": ".py",
   "mimetype": "text/x-python",
   "name": "python",
   "nbconvert_exporter": "python",
   "pygments_lexer": "ipython3",
   "version": "3.12.6"
  }
 },
 "nbformat": 4,
 "nbformat_minor": 2
}
