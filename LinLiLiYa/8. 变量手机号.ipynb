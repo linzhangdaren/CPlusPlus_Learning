{
 "cells": [
  {
   "cell_type": "markdown",
   "metadata": {},
   "source": [
    "手机通讯录要储存人的姓名/电话号码等  \n",
    "姓名: 张三  \n",
    "电话号码: 13812345678  \n",
    "\n",
    "其中:姓名和电话号码这俩叫做变量也就是盒子信封  \n",
    "张三和13812345678就是变量的值也就是数据或包裹里的东西/信封里的信  \n",
    "\n",
    "变量的命名规范:  \n",
    "1. 变量名只能包含字母、数字和下划线，且不能以数字开头。  \n",
    "2. 变量名的长度不能超过30个字符。  \n",
    "3. 变量名的命名要见名思议，不要用拼音、缩写、中文等。  \n",
    "4. 不要用引号,变成字符串了"
   ]
  },
  {
   "cell_type": "code",
   "execution_count": null,
   "metadata": {},
   "outputs": [],
   "source": [
    "电话号码 = \"12345\"\n",
    "print(电话号码)"
   ]
  },
  {
   "cell_type": "markdown",
   "metadata": {},
   "source": [
    "python是从上到下运行的  \n",
    "所以先定义变量再去输出变量不然会报错  "
   ]
  },
  {
   "cell_type": "markdown",
   "metadata": {},
   "source": [
    "如果变量的值更新了,好比换了一个手机号 又想保留之前的记录,怎么办呢?"
   ]
  },
  {
   "cell_type": "code",
   "execution_count": 2,
   "metadata": {},
   "outputs": [
    {
     "name": "stdout",
     "output_type": "stream",
     "text": [
      "老电话号码是:\n",
      "123\n",
      "现在的电话号码是:\n",
      "456\n"
     ]
    }
   ],
   "source": [
    "电话号码=\"123\"\n",
    "老电话号码=电话号码\n",
    "电话号码=\"456\"\n",
    "print(\"老电话号码是:\")\n",
    "print(老电话号码)\n",
    "print(\"现在的电话号码是:\")\n",
    "print(电话号码)"
   ]
  },
  {
   "cell_type": "markdown",
   "metadata": {},
   "source": [
    "有了变量可以省很多力气 不用重复的输入某个固定的字段了"
   ]
  },
  {
   "cell_type": "code",
   "execution_count": 3,
   "metadata": {},
   "outputs": [
    {
     "name": "stdout",
     "output_type": "stream",
     "text": [
      "张三读了一首诗:床前明月光，疑是地上霜。举头望明月，低头思故乡。\n",
      "王五也读了一首诗:床前明月光，疑是地上霜。举头望明月，低头思故乡。\n",
      "李四也读了一首诗:床前明月光，疑是地上霜。举头望明月，低头思故乡。\n"
     ]
    }
   ],
   "source": [
    "诗=\"床前明月光，疑是地上霜。举头望明月，低头思故乡。\"\n",
    "print(\"张三读了一首诗:\"+诗)\n",
    "print(\"王五也读了一首诗:\"+诗)\n",
    "print(\"李四也读了一首诗:\"+诗)"
   ]
  }
 ],
 "metadata": {
  "kernelspec": {
   "display_name": "Python 3",
   "language": "python",
   "name": "python3"
  },
  "language_info": {
   "codemirror_mode": {
    "name": "ipython",
    "version": 3
   },
   "file_extension": ".py",
   "mimetype": "text/x-python",
   "name": "python",
   "nbconvert_exporter": "python",
   "pygments_lexer": "ipython3",
   "version": "3.12.6"
  }
 },
 "nbformat": 4,
 "nbformat_minor": 2
}
