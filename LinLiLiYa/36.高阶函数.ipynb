{
 "cells": [
  {
   "cell_type": "code",
   "execution_count": null,
   "metadata": {},
   "outputs": [],
   "source": [
    "def 计算(数值, 次方):\n",
    "    if 次方==2:\n",
    "        结果=数值**2\n",
    "    elif 次方==3:\n",
    "        结果=数值**3\n",
    "    else:\n",
    "        print(\"只支持2次方和3次方的计算\")\n",
    "        return \n",
    "    print(f\"\"\"\n",
    "          |数字参数|{数值}|\n",
    "          |计算结果|{结果}|\n",
    "          \"\"\" )\n",
    "\n",
    "计算(2,2)"
   ]
  },
  {
   "cell_type": "code",
   "execution_count": 2,
   "metadata": {},
   "outputs": [
    {
     "name": "stdout",
     "output_type": "stream",
     "text": [
      "4 的平方是: 16\n",
      "3 的立方是: 27\n",
      "5 加 10 等于: 15\n"
     ]
    }
   ],
   "source": [
    "# 定义一个简单的平方函数，它会作为参数传入高阶函数\n",
    "def 平方(x):\n",
    "    return x * x\n",
    "\n",
    "# 定义一个简单的立方函数，同样用于作为参数传入高阶函数\n",
    "def 立方(x):\n",
    "    return x * x * x\n",
    "\n",
    "#定义一个加10的函数，用于作为参数传入高阶函数\n",
    "def 加10(x):\n",
    "    return x + 10\n",
    "\n",
    "# 定义高阶函数，它接受一个函数和一个数字作为参数\n",
    "# 该函数会调用传入的函数对数字进行处理\n",
    "def 计算器(算法, 数值):\n",
    "    return 算法(数值)\n",
    "\n",
    "# 调用高阶函数，传入 square 函数和数字 4\n",
    "结果1 = 计算器(平方, 4)\n",
    "print(f\"4 的平方是: {结果1}\")\n",
    "\n",
    "# 调用高阶函数，传入 cube 函数和数字 3\n",
    "结果2 = 计算器(立方, 3)\n",
    "print(f\"3 的立方是: {结果2}\")\n",
    "\n",
    "# 调用高阶函数，传入 add10 函数和数字 5\n",
    "结果3 = 计算器(加10, 5)\n",
    "print(f\"5 加 10 等于: {结果3}\")"
   ]
  }
 ],
 "metadata": {
  "kernelspec": {
   "display_name": "Python 3",
   "language": "python",
   "name": "python3"
  },
  "language_info": {
   "codemirror_mode": {
    "name": "ipython",
    "version": 3
   },
   "file_extension": ".py",
   "mimetype": "text/x-python",
   "name": "python",
   "nbconvert_exporter": "python",
   "pygments_lexer": "ipython3",
   "version": "3.12.6"
  }
 },
 "nbformat": 4,
 "nbformat_minor": 2
}
