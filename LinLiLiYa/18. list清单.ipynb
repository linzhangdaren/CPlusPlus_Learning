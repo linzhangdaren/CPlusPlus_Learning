{
 "cells": [
  {
   "cell_type": "markdown",
   "metadata": {},
   "source": [
    "如果要购买很多物品需要一个清单  \n",
    "如果一个一个定义太麻烦了  \n",
    "物品1=\"内存条\"  \n",
    "物品2=\"cpu\"  \n",
    "物品3=\"显卡\"  \n",
    "物品4=\"机箱\"  \n",
    "物品5=\"电源\"  \n",
    "物品6=\"散热器\"  \n",
    "物品7=\"鼠标\"  \n",
    "物品8=\"主板\"  \n",
    "物品9=\"硬盘\"  \n",
    "等等...  "
   ]
  },
  {
   "cell_type": "markdown",
   "metadata": {},
   "source": [
    "如何精简化呢?  \n",
    "电脑主机清单=[\"内存条\",\"显卡\",\"CPU\",\"硬盘\",\"机箱\",\"主板\",\"电源\",\"散热器\",\"风扇\",\"电池\",\"机箱\"]\n",
    "可以竖着写，然后用逗号隔开，这样就可以精简化了。\n",
    "这样即可"
   ]
  },
  {
   "cell_type": "code",
   "execution_count": null,
   "metadata": {},
   "outputs": [],
   "source": [
    "电脑主机清单=[\n",
    "    \"内存条\",\n",
    "    \"显卡\",\n",
    "    \"主板\",\n",
    "    \"CPU\",\n",
    "    \"硬盘\",\n",
    "    \"机箱\",\n",
    "    \"电源\",\n",
    "    \"散热器\",\n",
    "    \"风扇\",\n",
    "    \"电源适配器\",\n",
    "    \"电源线\"\n",
    "]\n",
    "print(电脑主机清单)"
   ]
  },
  {
   "cell_type": "markdown",
   "metadata": {},
   "source": [
    "增删查改:用对象名.方法名()来操作对象。  \n",
    "1. 增加一个零件:电脑清单.append(\"机箱\")\n",
    "2. 删除一个零件:电脑清单.remove(\"机箱\")\n",
    "3. 查询一个零件是否在清单中:电脑清单.count(\"机箱\")\n",
    "4. 修改一个零件:电脑清单[0] = \"主板\""
   ]
  },
  {
   "cell_type": "markdown",
   "metadata": {},
   "source": [
    "列表的内置函数:  \n",
    "max(列表) #返回列表中的最大值  \n",
    "min(列表) #返回列表中的最小值  \n",
    "sum(列表) #返回列表中所有元素的和  \n",
    "len(列表) #返回列表的长度  \n",
    "sorted(列表) #返回列表排序后的结果  \n",
    "列表.append(元素) #在列表末尾添加元素  \n",
    "列表.extend(列表) #将列表添加到另一个列表末尾  \n",
    "列表.insert(索引, 元素) #在指定索引处插入元素  \n",
    "列表.remove(元素) #删除列表中第一个指定元素  \n",
    "列表.pop(索引) #删除指定索引处的元素，并返回该元素  \n",
    "列表.clear() #清空列表  \n",
    "列表.index(元素) #返回指定元素的索引  \n",
    "列表.count(元素) #返回指定元素在列表中出现的次数  \n",
    "列表.sort() #对列表进行排序  \n",
    "列表.reverse() #对列表进行反转  \n",
    "列表1 + 列表2 #将两个列表连接成一个新的列表  \n",
    "元素 in 列表 #判断元素是否在列表中  \n",
    "元素 not in 列表 #判断元素是否不在列表中  \n",
    "列表[索引] #返回指定索引处的元素  \n",
    "列表[开始:结束:步长] #返回列表中指定范围的元素，步长默认为1  \n",
    "列表[::2] #返回列表中所有偶数索引处的元素  \n",
    "列表[::-1] #返回列表中所有元素的逆序"
   ]
  },
  {
   "cell_type": "markdown",
   "metadata": {},
   "source": []
  },
  {
   "cell_type": "code",
   "execution_count": 1,
   "metadata": {},
   "outputs": [
    {
     "name": "stdout",
     "output_type": "stream",
     "text": [
      "1\n",
      "10\n",
      "55\n",
      "10\n",
      "5.5\n",
      "[1, 2, 3, 4, 5, 6, 7, 8, 9, 10]\n",
      "[10, 9, 8, 7, 6, 5, 4, 3, 2, 1]\n"
     ]
    }
   ],
   "source": [
    "列表=[1,2,3,4,5,6,7,8,9,10]\n",
    "#查询列表中最小的元素\n",
    "print(min(列表))\n",
    "#查询列表中最大的元素\n",
    "print(max(列表))\n",
    "#查询列表中元素的和\n",
    "print(sum(列表))\n",
    "#查询列表中元素的个数\n",
    "print(len(列表))\n",
    "#查询列表中元素的平均值\n",
    "print(sum(列表)/len(列表))\n",
    "\n",
    "#列表排序\n",
    "列表.sort()\n",
    "print(列表)\n",
    "#列表反转\n",
    "列表.reverse()\n",
    "print(列表)\n"
   ]
  }
 ],
 "metadata": {
  "kernelspec": {
   "display_name": "Python 3",
   "language": "python",
   "name": "python3"
  },
  "language_info": {
   "codemirror_mode": {
    "name": "ipython",
    "version": 3
   },
   "file_extension": ".py",
   "mimetype": "text/x-python",
   "name": "python",
   "nbconvert_exporter": "python",
   "pygments_lexer": "ipython3",
   "version": "3.12.6"
  }
 },
 "nbformat": 4,
 "nbformat_minor": 2
}
