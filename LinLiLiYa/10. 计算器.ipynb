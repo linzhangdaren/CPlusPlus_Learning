{
 "cells": [
  {
   "cell_type": "markdown",
   "metadata": {},
   "source": [
    "python中的计算符号:  \n",
    "+ 加法  \n",
    "- 减法  \n",
    "* 乘法  \n",
    "/ 除法  \n",
    "% 取余  \n",
    "** 乘方  \n",
    "// 取整除  \n",
    "() 优先级  \n",
    "** 指数运算  \n",
    "/ 除法运算，结果为浮点数  \n",
    "// 除法运算，结果为整数"
   ]
  },
  {
   "cell_type": "markdown",
   "metadata": {},
   "source": [
    "sin 开放 需要导入 math 模块"
   ]
  },
  {
   "cell_type": "code",
   "execution_count": 1,
   "metadata": {},
   "outputs": [
    {
     "name": "stdout",
     "output_type": "stream",
     "text": [
      "2.0\n"
     ]
    }
   ],
   "source": [
    "import math\n",
    "四的开方=math.sqrt(4)\n",
    "print(四的开方)"
   ]
  },
  {
   "cell_type": "markdown",
   "metadata": {},
   "source": [
    "在Python中，`math`模块提供了许多用于数学计算的函数。以下是一些常见的`math`函数：\n",
    "\n",
    "1. **三角函数**\n",
    "    - `math.sin(x)`：返回弧度为`x`的正弦值。\n",
    "    - `math.cos(x)`：返回弧度为`x`的余弦值。\n",
    "    - `math.tan(x)`：返回弧度为`x`的正切值。\n",
    "    - `math.asin(x)`：返回`x`的反正弦值，结果以弧度表示，取值范围在`[-π/2, π/2]`。\n",
    "    - `math.acos(x)`：返回`x`的反余弦值，结果以弧度表示，取值范围在`[0, π]`。\n",
    "    - `math.atan(x)`：返回`x`的反正切值，结果以弧度表示，取值范围在`[-π/2, π/2]`。\n",
    "\n",
    "2. **对数与指数函数**\n",
    "    - `math.exp(x)`：返回`e`的`x`次幂，其中`e`是自然常数，约等于2.71828。\n",
    "    - `math.log(x)`：返回`x`的自然对数，即以`e`为底的对数。\n",
    "    - `math.log10(x)`：返回`x`以10为底的对数。\n",
    "    - `math.pow(x, y)`：返回`x`的`y`次幂。\n",
    "    - `math.sqrt(x)`：返回`x`的平方根。\n",
    "\n",
    "3. **数值计算函数**\n",
    "    - `math.ceil(x)`：返回大于或等于`x`的最小整数。\n",
    "    - `math.floor(x)`：返回小于或等于`x`的最大整数。\n",
    "    - `math.trunc(x)`：返回`x`的整数部分，直接截断小数部分。\n",
    "    - `math.fabs(x)`：返回`x`的绝对值。\n",
    "    - `math.fmod(x, y)`：返回`x`除以`y`的余数，与`%`运算符类似，但对于负数的处理可能不同。\n",
    "    - `math.gcd(a, b)`：返回两个整数`a`和`b`的最大公约数。\n",
    "\n",
    "4. **特殊常数**\n",
    "    - `math.pi`：数学常数π，约等于3.141592653589793。\n",
    "    - `math.e`：数学常数`e`，自然对数的底数，约等于2.718281828459045。\n",
    "\n",
    "5. **双曲函数**\n",
    "    - `math.sinh(x)`：返回`x`的双曲正弦值。\n",
    "    - `math.cosh(x)`：返回`x`的双曲余弦值。\n",
    "    - `math.tanh(x)`：返回`x`的双曲正切值。\n",
    "\n",
    "6. **角度与弧度转换函数**\n",
    "    - `math.degrees(x)`：将弧度`x`转换为角度。\n",
    "    - `math.radians(x)`：将角度`x`转换为弧度。\n",
    "\n",
    "这些函数只是`math`模块中的一部分，还有其他一些函数可用于更复杂的数学计算。在使用`math`模块的函数时，需要先导入`math`模块。例如：\n",
    "\n",
    "```python\n",
    "import math\n",
    "\n",
    "print(math.sin(math.pi / 2))  \n",
    "print(math.log(100, 10))  \n",
    "```\n"
   ]
  },
  {
   "cell_type": "markdown",
   "metadata": {},
   "source": []
  }
 ],
 "metadata": {
  "kernelspec": {
   "display_name": "Python 3",
   "language": "python",
   "name": "python3"
  },
  "language_info": {
   "codemirror_mode": {
    "name": "ipython",
    "version": 3
   },
   "file_extension": ".py",
   "mimetype": "text/x-python",
   "name": "python",
   "nbconvert_exporter": "python",
   "pygments_lexer": "ipython3",
   "version": "3.12.6"
  }
 },
 "nbformat": 4,
 "nbformat_minor": 2
}
