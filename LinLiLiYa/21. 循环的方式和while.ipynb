{
 "cells": [
  {
   "cell_type": "code",
   "execution_count": null,
   "metadata": {},
   "outputs": [],
   "source": [
    "#各种循环的方式\n",
    "列表=[1,2,3,4,5]\n",
    "#for循环\n",
    "for 变量 in 列表:\n",
    "    print(变量)\n",
    "#range,len,列表[i]下标循环\n",
    "for 变量 in range(len(列表)):\n",
    "    print(列表[变量])\n",
    "#while,列表[i]下标循环  \n",
    "变量=0\n",
    "while 变量<len(列表):\n",
    "    print(列表[变量])\n",
    "    变量+=1"
   ]
  },
  {
   "cell_type": "code",
   "execution_count": null,
   "metadata": {},
   "outputs": [],
   "source": [
    "# while 平均值 按键退出案例\n",
    "# 平均值=累加和/个数\n",
    "累加和=0\n",
    "个数=0\n",
    "print(\"平均值计算器\")\n",
    "用户输入 = int(input(\"请输入数字后按回车,\\n按下q键后终止输入\"))\n",
    "while 用户输入!=\"quit\":\n",
    "    累加和=累加和+用户输入\n",
    "    个数=个数+1"
   ]
  }
 ],
 "metadata": {
  "kernelspec": {
   "display_name": "Python 3",
   "language": "python",
   "name": "python3"
  },
  "language_info": {
   "name": "python",
   "version": "3.12.6"
  }
 },
 "nbformat": 4,
 "nbformat_minor": 2
}
