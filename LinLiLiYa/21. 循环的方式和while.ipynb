{
 "cells": [
  {
   "cell_type": "code",
   "execution_count": null,
   "metadata": {},
   "outputs": [],
   "source": [
    "#各种循环的方式\n",
    "列表=[1,2,3,4,5]\n",
    "#for循环\n",
    "for 变量 in 列表:\n",
    "    print(变量)\n",
    "#range,len,列表[i]下标循环\n",
    "for 变量 in range(len(列表)):\n",
    "    print(列表[变量])\n",
    "#while,列表[i]下标循环  \n",
    "变量=0\n",
    "while 变量<len(列表):\n",
    "    print(列表[变量])\n",
    "    变量+=1"
   ]
  },
  {
   "cell_type": "code",
   "execution_count": null,
   "metadata": {},
   "outputs": [],
   "source": [
    "# while 平均值 按键退出案例\n",
    "# 平均值=累加和/个数\n",
    "total = 0  # 累加和\n",
    "count = 0  # 个数\n",
    "\n",
    "print(\"平均值计算器\")\n",
    "\n",
    "while True:\n",
    "    user_input = input(\"请输入一个数字（输入 q 退出）: \")\n",
    "\n",
    "    # 检测用户是否输入退出指令\n",
    "    if user_input.lower() == \"q\":\n",
    "        break  # 退出循环\n",
    "\n",
    "    # 尝试将输入转换为数字\n",
    "    try:\n",
    "        number = float(user_input)\n",
    "        total += number  # 累加数字\n",
    "        count += 1  # 计数+1\n",
    "    except ValueError:\n",
    "        print(\"错误：输入的不是有效数字！\")\n",
    "\n",
    "# 计算并输出结果（避免除零错误）\n",
    "if count > 0:\n",
    "    average = total / count\n",
    "    print(f\"您共输入了 {count} 个数字，平均值为 {average:.2f}\")\n",
    "else:\n",
    "    print(\"未输入任何数字。\")"
   ]
  }
 ],
 "metadata": {
  "kernelspec": {
   "display_name": "Python 3",
   "language": "python",
   "name": "python3"
  },
  "language_info": {
   "name": "python",
   "version": "3.12.6"
  }
 },
 "nbformat": 4,
 "nbformat_minor": 2
}
