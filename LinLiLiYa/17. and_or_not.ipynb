{
 "cells": [
  {
   "cell_type": "markdown",
   "metadata": {},
   "source": [
    "与或非  \n",
    "and 与运算符，表示两个条件都为真时，结果才为真。  \n",
    "or 或运算符，表示两个条件有一个为真时，结果就为真。  \n",
    "not 非运算符，表示取反，即如果条件为真，则结果为假，反之亦然。  \n",
    "多个条件满足与否"
   ]
  }
 ],
 "metadata": {
  "language_info": {
   "name": "python"
  }
 },
 "nbformat": 4,
 "nbformat_minor": 2
}
