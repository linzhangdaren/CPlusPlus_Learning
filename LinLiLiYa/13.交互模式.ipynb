{
 "cells": [
  {
   "cell_type": "markdown",
   "metadata": {},
   "source": [
    "用cmd命令行模式时候就是交互模式  \n",
    "输入命令回车直接显示结果  \n",
    "不需要print()函数  \n",
    "控制台和cmd都是这种模式  \n",
    "\n",
    "如果退出交互模式需要输入quit()或者ctrl+D\n",
    "\n",
    "好处是不创建任何python文件  \n",
    "不需要print()函数  \n",
    "\n",
    "但是不会保存代码\n",
    "\n",
    "计算器啊什么的\n",
    "\n"
   ]
  },
  {
   "cell_type": "code",
   "execution_count": null,
   "metadata": {},
   "outputs": [],
   "source": []
  }
 ],
 "metadata": {
  "language_info": {
   "name": "python"
  }
 },
 "nbformat": 4,
 "nbformat_minor": 2
}
