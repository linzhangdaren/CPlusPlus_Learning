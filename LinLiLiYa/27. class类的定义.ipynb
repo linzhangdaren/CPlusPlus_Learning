{
 "cells": [
  {
   "cell_type": "code",
   "execution_count": 2,
   "metadata": {},
   "outputs": [
    {
     "name": "stdout",
     "output_type": "stream",
     "text": [
      "小白\n"
     ]
    }
   ],
   "source": [
    "#定义一个类\n",
    "class 动物:\n",
    "    def __init__(self,名字,性别,颜色): #构造函数 self表示自身是固定写法 定义了对象有哪些属性\n",
    "        self.名字=名字\n",
    "        self.性别=性别\n",
    "        self.颜色=颜色\n",
    "\n",
    "#实例化对象\n",
    "猫=动物(\"小白\",\"雌性\",\"黄色\")\n",
    "print(猫.名字)\n"
   ]
  },
  {
   "cell_type": "markdown",
   "metadata": {},
   "source": []
  }
 ],
 "metadata": {
  "kernelspec": {
   "display_name": "Python 3",
   "language": "python",
   "name": "python3"
  },
  "language_info": {
   "codemirror_mode": {
    "name": "ipython",
    "version": 3
   },
   "file_extension": ".py",
   "mimetype": "text/x-python",
   "name": "python",
   "nbconvert_exporter": "python",
   "pygments_lexer": "ipython3",
   "version": "3.12.6"
  }
 },
 "nbformat": 4,
 "nbformat_minor": 2
}
