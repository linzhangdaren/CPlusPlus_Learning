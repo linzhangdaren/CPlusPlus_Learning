{
 "cells": [
  {
   "cell_type": "markdown",
   "id": "f6790cd8",
   "metadata": {},
   "source": [
    "### 查询电脑的IP地址  \n",
    "cmd中输入ipconfig/all可以查看到电脑的IP地址"
   ]
  },
  {
   "cell_type": "markdown",
   "id": "e9bb097a",
   "metadata": {},
   "source": [
    "### localhost 本机地址"
   ]
  },
  {
   "cell_type": "markdown",
   "id": "c7e19b84",
   "metadata": {},
   "source": [
    "127.0.0.1本机地址 对应的域名是localhost(别名)  \n",
    "域名:ip地址不好记，所以可以把域名和ip地址绑定起来  \n",
    "这样就可以用域名来访问对应的ip地址  \n",
    "可以说类似字典的关系一个Key一个Value"
   ]
  },
  {
   "cell_type": "markdown",
   "id": "67f645f3",
   "metadata": {},
   "source": [
    "### ping&ipconfig"
   ]
  },
  {
   "cell_type": "markdown",
   "id": "864c13c5",
   "metadata": {},
   "source": [
    "检查网络:ping 127.0.0.1  \n",
    "检查网卡信息:ipconfig  "
   ]
  },
  {
   "cell_type": "markdown",
   "id": "adf10c87",
   "metadata": {},
   "source": [
    "### 小技巧 创建服务器"
   ]
  },
  {
   "cell_type": "markdown",
   "id": "5addaf85",
   "metadata": {},
   "source": [
    "可以使用Python自带的http.server模块来创建文件服务器  \n",
    "```python\n",
    "cd 文件夹路径\n",
    "python -m http.server 8000# 8000为端口号，可以自定义\n",
    "```\n",
    "然后在浏览器中输入http://localhost:8000/1.ip地址 即可访问到文件  \n",
    "关闭cd命令窗口即可退出文件服务器"
   ]
  },
  {
   "cell_type": "markdown",
   "id": "2e782b95",
   "metadata": {},
   "source": [
    "### 端口号"
   ]
  },
  {
   "cell_type": "markdown",
   "id": "7d2b6d45",
   "metadata": {},
   "source": [
    "动态端口：一般用1024-65535之间的端口号 这些端口号是公认的 系统不自己占用  \n",
    "知名端口号:0-1023,1024-49151,49152-65535"
   ]
  },
  {
   "cell_type": "markdown",
   "id": "b1d7076c",
   "metadata": {},
   "source": [
    "根据PID或端口号互查  \n",
    "netstat -ano | findstr \"XXX\""
   ]
  }
 ],
 "metadata": {
  "language_info": {
   "name": "python"
  }
 },
 "nbformat": 4,
 "nbformat_minor": 5
}
