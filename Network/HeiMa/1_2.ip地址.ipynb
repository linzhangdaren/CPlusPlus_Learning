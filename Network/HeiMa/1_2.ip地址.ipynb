{
 "cells": [
  {
   "cell_type": "markdown",
   "id": "f6790cd8",
   "metadata": {},
   "source": [
    "### 查询电脑的IP地址  \n",
    "cmd中输入ipconfig/all可以查看到电脑的IP地址"
   ]
  },
  {
   "cell_type": "markdown",
   "id": "e9bb097a",
   "metadata": {},
   "source": [
    "### localhost 本机地址"
   ]
  },
  {
   "cell_type": "markdown",
   "id": "c7e19b84",
   "metadata": {},
   "source": [
    "127.0.0.1本机地址 对应的域名是localhost(别名)  \n",
    "域名:ip地址不好记，所以可以把域名和ip地址绑定起来  \n",
    "这样就可以用域名来访问对应的ip地址  \n",
    "可以说类似字典的关系一个Key一个Value"
   ]
  },
  {
   "cell_type": "markdown",
   "id": "67f645f3",
   "metadata": {},
   "source": [
    "### ping&ipconfig"
   ]
  },
  {
   "cell_type": "markdown",
   "id": "864c13c5",
   "metadata": {},
   "source": [
    "检查网络:ping 127.0.0.1  \n",
    "检查网卡信息:ipconfig  "
   ]
  },
  {
   "cell_type": "markdown",
   "id": "adf10c87",
   "metadata": {},
   "source": [
    "### 小技巧 创建服务器"
   ]
  },
  {
   "cell_type": "markdown",
   "id": "5addaf85",
   "metadata": {},
   "source": [
    "可以使用Python自带的http.server模块来创建文件服务器  \n",
    "```python\n",
    "cd 文件夹路径\n",
    "python -m http.server 8000# 8000为端口号，可以自定义\n",
    "```\n",
    "然后在浏览器中输入http://localhost:8000/1.ip地址 即可访问到文件  \n",
    "关闭cd命令窗口即可退出文件服务器"
   ]
  },
  {
   "cell_type": "markdown",
   "id": "2e782b95",
   "metadata": {},
   "source": [
    "### 端口号"
   ]
  },
  {
   "cell_type": "markdown",
   "id": "7d2b6d45",
   "metadata": {},
   "source": [
    "动态端口：一般用1024-65535之间的端口号 这些端口号是公认的 系统不自己占用  \n",
    "知名端口号:0-1023,1024-49151,49152-65535"
   ]
  },
  {
   "cell_type": "markdown",
   "id": "b1d7076c",
   "metadata": {},
   "source": [
    "根据PID或端口号互查  \n",
    "netstat -ano | findstr \"XXX\""
   ]
  },
  {
   "cell_type": "markdown",
   "id": "aafc8b52",
   "metadata": {},
   "source": [
    "### 套接字"
   ]
  },
  {
   "cell_type": "markdown",
   "id": "cea7d522",
   "metadata": {},
   "source": [
    "1. **地址类型（family: AF_INET）**  \n",
    "   - **举例**：就像你家的门牌号（如101室），IPv4地址（如`192.168.1.1`）让网络能找到“收件人”（比如路由器）。\n",
    "\n",
    "2. **套接字类型（type: SOCK_STREAM）**  \n",
    "   - **举例**：好比打电话，TCP协议确保你和对方能听清、说全（如视频通话不会卡顿/断片）。\n",
    "\n",
    "3. **协议类型（proto: 0）**  \n",
    "   - **举例**：就像点外卖时默认选“最快送达”，系统自动挑TCP，不用你手动指定用哪种配送方式。\n",
    "\n",
    "4. **阻塞模式（blocking: True）**  \n",
    "   - **举例**：类似排队等奶茶，必须等拿到奶茶（数据）才能走，期间啥都干不了。"
   ]
  },
  {
   "cell_type": "markdown",
   "id": "7467de86",
   "metadata": {},
   "source": [
    "简单说明"
   ]
  },
  {
   "cell_type": "markdown",
   "id": "5fd5af50",
   "metadata": {},
   "source": [
    "### socket 参数大白话解释（精简版）\n",
    "\n",
    "1. **family（地址族）**  \n",
    "   - `AF_INET`：国内快递（IPv4 地址）  \n",
    "   - `AF_INET6`：国际快递（IPv6 地址）  \n",
    "   - `AF_UNIX`：家里传纸条（本地通信）  \n",
    "\n",
    "2. **type（套接字类型）**  \n",
    "   - `SOCK_STREAM`（TCP）：打电话（必须接通、按顺序说、不漏听）  \n",
    "   - `SOCK_DGRAM`（UDP）：发微信（发了就行，对方可能收不到）  \n",
    "   - `SOCK_RAW`：拆开快递看物流单（直接操作底层网络）  \n",
    "\n",
    "3. **proto（协议）**  \n",
    "   - `0`：默认套餐（系统自动选）  \n",
    "   - 其他值：指定菜名（如 `TCP=6`、`UDP=17`）  \n",
    "\n",
    "4. **超时设置**  \n",
    "   - `settimeout(5)`：等人最多 5 分钟（超时就走）  \n",
    "   - `setblocking(False)`：不等了，先发消息（非阻塞）  \n",
    "\n",
    "5. **套接字选项**  \n",
    "   - `SO_REUSEADDR`：多人共用一个地址（允许多程序用同一端口）  \n",
    "   - `SO_KEEPALIVE`：定期问「还在吗？」（保持连接活跃）  \n",
    "\n",
    "6. **连接参数**  \n",
    "   - `bind`：注册电话号码（固定端口）  \n",
    "   - `connect`：拨号（打给对方）  \n",
    "   - `listen`：设置总机容量（同时接几个电话）  \n",
    "   - `accept`：接起电话并分配分机（给来电者新通道）"
   ]
  }
 ],
 "metadata": {
  "language_info": {
   "name": "python"
  }
 },
 "nbformat": 4,
 "nbformat_minor": 5
}
