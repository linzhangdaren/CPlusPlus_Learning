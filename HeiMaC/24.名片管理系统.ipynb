{
 "cells": [
  {
   "cell_type": "markdown",
   "metadata": {},
   "source": [
    "# 名片管理系统:  \n",
    "欢迎使用名片管理系统 v1.0\n",
    "请选择功能:\n",
    "1. 新增名片\n",
    "2. 显示全部\n",
    "3. 查询名片\n",
    "0. 退出系统"
   ]
  },
  {
   "cell_type": "markdown",
   "metadata": {},
   "source": [
    "# 第一步:基础框架"
   ]
  },
  {
   "cell_type": "code",
   "execution_count": null,
   "metadata": {},
   "outputs": [],
   "source": [
    "home_page = \"\"\"\n",
    "******名片管理系统 v1.0******\n",
    "\n",
    "        请选择功能:\n",
    "        1. 新增名片\n",
    "        2. 显示全部\n",
    "        3. 查询名片\n",
    "\n",
    "        0. 退出系统\n",
    "****************************\n",
    "\"\"\"\n",
    "\n",
    "\n",
    "while True:\n",
    "    print(home_page)\n",
    "    输入选项= int(input(\"请输入操作:\"))\n",
    "\n",
    "    if 输入选项==1:\n",
    "        print(\"新增名片\")\n",
    "    elif 输入选项==2:\n",
    "        print(\"显示全部\")\n",
    "    elif 输入选项==3:\n",
    "        print(\"查询名片\")\n",
    "    elif 输入选项==0:\n",
    "        print(\"退出系统\")\n",
    "        break#或者exit(0)全部停止\n",
    "    else:\n",
    "        print(\"输入错误，请重新输入\")"
   ]
  },
  {
   "cell_type": "markdown",
   "metadata": {},
   "source": [
    "# 第二部:菜单函数内容"
   ]
  },
  {
   "cell_type": "code",
   "execution_count": null,
   "metadata": {},
   "outputs": [],
   "source": [
    "名片库=[]\n",
    "\n",
    "def 添加名片():\n",
    "    \"\"\"\n",
    "    print(\"添加名片\")    \n",
    "    \"\"\"\n",
    "    print(\"请录入用户信息:\")\n",
    "    姓名=input(\"请输入姓名：\")\n",
    "    年龄=input(\"请输入年龄：\")\n",
    "    \n",
    "    录入的信息 = [姓名,年龄]\n",
    "    名片库.append(录入的信息)#也可以直接 名片库.append([姓名,年龄])\n",
    "    print(\"添加成功！\")\n",
    "    print(\"当前名片库：\",名片库)\n",
    "    "
   ]
  }
 ],
 "metadata": {
  "kernelspec": {
   "display_name": "Python 3",
   "language": "python",
   "name": "python3"
  },
  "language_info": {
   "codemirror_mode": {
    "name": "ipython",
    "version": 3
   },
   "file_extension": ".py",
   "mimetype": "text/x-python",
   "name": "python",
   "nbconvert_exporter": "python",
   "pygments_lexer": "ipython3",
   "version": "3.12.6"
  }
 },
 "nbformat": 4,
 "nbformat_minor": 2
}
