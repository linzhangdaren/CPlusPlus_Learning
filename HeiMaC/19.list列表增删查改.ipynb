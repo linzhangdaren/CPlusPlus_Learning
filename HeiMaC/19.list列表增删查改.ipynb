{
 "cells": [
  {
   "cell_type": "markdown",
   "metadata": {},
   "source": [
    "列表的定义与输出"
   ]
  },
  {
   "cell_type": "code",
   "execution_count": null,
   "metadata": {},
   "outputs": [],
   "source": [
    "list1=['周杰伦','王力宏','陶喆','林俊杰']\n",
    "#可以用\"双引号\"\n",
    "#索引是从0开始的list1[0]\n",
    "#可动态添加元素\n",
    "print(list1)"
   ]
  },
  {
   "cell_type": "markdown",
   "metadata": {},
   "source": [
    "增删查改 CRUD 创建（Create）、读取（Read）、更新（Update）和删除（Delete)"
   ]
  },
  {
   "cell_type": "code",
   "execution_count": null,
   "metadata": {},
   "outputs": [],
   "source": [
    "#添加元素 list.append('李荣浩')\n",
    "\n",
    "#移除元素 list.remove('李荣浩')\n",
    "#索引移除 list.pop(2)  #删除索引为2的元素并显示删除了哪个元素\n",
    "\n",
    "#查询元素list.index(\"Jay\")  #返回索引值\n",
    "\n",
    "#修改元素list[0]=\"Jay\"\n",
    "\n",
    "\n",
    "\n"
   ]
  },
  {
   "cell_type": "markdown",
   "metadata": {},
   "source": [
    "list常用函数\n",
    "# 1. len()函数：返回列表的长度 如: len(list1)\n",
    "# 2. max()函数：返回列表中最大的元素 如: max(list1)\n",
    "# 3. min()函数：返回列表中最小的元素 如: min(list1)\n",
    "# 4. sum()函数：返回列表中所有元素的和 如: sum(list1)\n",
    "# 5. sorted()函数：对列表进行排序 如: sorted(list1)\n",
    "# 6. list()函数：将元组、字符串等转换为列表 如: list(\"hello\")\n",
    "# 7. append()函数：在列表末尾添加元素 如: list1.append(4)\n",
    "# 8. extend()函数：在列表末尾添加多个元素 如: list1.extend([5,6,7])\n",
    "# 9. insert()函数：在指定位置插入元素 如: list1.insert(2, 3)\n",
    "# 10. remove()函数：删除列表中第一个指定元素 如: list1.remove(3)\n",
    "# 11. pop()函数：删除列表中指定位置的元素，并返回该元素 如: list1.pop(2)\n",
    "# 12. clear()函数：清空列表 如: list1.clear()\n",
    "# 13. index()函数：返回列表中第一个指定元素的索引 如: list1.index(3)\n",
    "# 14. count()函数：返回列表中指定元素出现的次数 如: list1.count(3)\n",
    "# 15. reverse()函数：反转列表 如: list1.reverse()\n",
    "# 16. copy()函数：复制列表 如: list2 = list1.copy()\n",
    "# 17. sort()函数：对列表进行排序 如: list1.sort()\n"
   ]
  }
 ],
 "metadata": {
  "kernelspec": {
   "display_name": "Python 3",
   "language": "python",
   "name": "python3"
  },
  "language_info": {
   "codemirror_mode": {
    "name": "ipython",
    "version": 3
   },
   "file_extension": ".py",
   "mimetype": "text/x-python",
   "name": "python",
   "nbconvert_exporter": "python",
   "pygments_lexer": "ipython3",
   "version": "3.12.6"
  }
 },
 "nbformat": 4,
 "nbformat_minor": 2
}
