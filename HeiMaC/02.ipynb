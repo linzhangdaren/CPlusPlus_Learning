{
 "cells": [
  {
   "cell_type": "markdown",
   "metadata": {},
   "source": [
    "# C语言在Vscode中的环境配置\n",
    "\n",
    "- 安装GCC编译器: https://sourceforge.net/projects/mingw-w64/\n",
    "\n",
    "    1. 安装时取消更新对勾\n",
    "\n",
    "    2. 安装完成添加环境变量 cmd检测: gcc --version\n",
    "\n",
    "- 安装VScode&插件\n",
    "    1. chines-simplified语言包\n",
    "    2. c/c++ Compile Run插件 这个是支持编码中有中文输出汉字编码的插件\n",
    "    3. c/c++Extension PacK c环境包\n",
    "- 设置插件\n",
    "    1. 右键compile run 选择扩展设置\n",
    "    2. 找到 c-cpp-compile-run:c-flags\n",
    "    3. 末尾添加 (空格)-fexec-charset=GBK"
   ]
  },
  {
   "cell_type": "markdown",
   "metadata": {},
   "source": []
  },
  {
   "cell_type": "markdown",
   "metadata": {},
   "source": []
  }
 ],
 "metadata": {
  "language_info": {
   "name": "python"
  }
 },
 "nbformat": 4,
 "nbformat_minor": 2
}
