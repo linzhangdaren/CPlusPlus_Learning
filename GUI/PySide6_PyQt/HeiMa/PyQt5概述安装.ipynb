{
 "cells": [
  {
   "cell_type": "markdown",
   "id": "47a10d95",
   "metadata": {},
   "source": [
    "pyqt5安装命令"
   ]
  },
  {
   "cell_type": "markdown",
   "id": "3ef94d83",
   "metadata": {},
   "source": [
    "安装pyqt6"
   ]
  },
  {
   "cell_type": "code",
   "execution_count": null,
   "id": "cda9ebc9",
   "metadata": {},
   "outputs": [],
   "source": [
    "pip install PyQt6"
   ]
  },
  {
   "cell_type": "markdown",
   "id": "2d5526b1",
   "metadata": {},
   "source": [
    "安装pyqt6工具包"
   ]
  },
  {
   "cell_type": "code",
   "execution_count": null,
   "id": "81c4dd46",
   "metadata": {},
   "outputs": [],
   "source": [
    "pip install pyqt6-tools"
   ]
  },
  {
   "cell_type": "markdown",
   "id": "eebee91a",
   "metadata": {},
   "source": [
    "安装PyQt类型提示语法检测包\n",
    "可选包"
   ]
  },
  {
   "cell_type": "code",
   "execution_count": null,
   "id": "3cc697cf",
   "metadata": {},
   "outputs": [],
   "source": [
    "# pip install PyQt6-stubs"
   ]
  },
  {
   "cell_type": "markdown",
   "id": "568c740e",
   "metadata": {},
   "source": [
    "安装PyQt5的目录：C:\\Python38\\Lib\\site-packages\\PyQt6\n",
    "或者用Everything直接搜索:designer.exe  \n",
    "可以直接打开设计按钮  \n",
    "如果无法运行出现报错 那就添加环境变量  或者python版本太高"
   ]
  },
  {
   "cell_type": "markdown",
   "id": "761cf15c",
   "metadata": {},
   "source": [
    "平替:安装pyside\n"
   ]
  },
  {
   "cell_type": "code",
   "execution_count": null,
   "id": "e44cd074",
   "metadata": {},
   "outputs": [],
   "source": [
    "pip install PySide6"
   ]
  }
 ],
 "metadata": {
  "kernelspec": {
   "display_name": "Python 3",
   "language": "python",
   "name": "python3"
  },
  "language_info": {
   "codemirror_mode": {
    "name": "ipython",
    "version": 3
   },
   "file_extension": ".py",
   "mimetype": "text/x-python",
   "name": "python",
   "nbconvert_exporter": "python",
   "pygments_lexer": "ipython3",
   "version": "3.13.3"
  }
 },
 "nbformat": 4,
 "nbformat_minor": 5
}
