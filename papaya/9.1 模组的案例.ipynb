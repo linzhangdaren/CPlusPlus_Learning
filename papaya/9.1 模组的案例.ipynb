{
 "cells": [
  {
   "cell_type": "markdown",
   "metadata": {},
   "source": [
    "随机模组 random 模块"
   ]
  },
  {
   "cell_type": "code",
   "execution_count": null,
   "metadata": {},
   "outputs": [],
   "source": [
    "import random\n",
    "数字=[1,2,3,4,5,6]\n",
    "# 洗牌模式\n",
    "random.shuffle(数字)\n",
    "print(数字)#输出结果\n",
    "\n",
    "#抽牌模式\n",
    "抽牌=random.choice(数字)\n",
    "print(抽牌)\n",
    "\n",
    "#指定范围内的随机数\n",
    "指定范围随机数=random.randint(1,10)\n",
    "print(指定范围随机数)"
   ]
  }
 ],
 "metadata": {
  "kernelspec": {
   "display_name": "Python 3",
   "language": "python",
   "name": "python3"
  },
  "language_info": {
   "codemirror_mode": {
    "name": "ipython",
    "version": 3
   },
   "file_extension": ".py",
   "mimetype": "text/x-python",
   "name": "python",
   "nbconvert_exporter": "python",
   "pygments_lexer": "ipython3",
   "version": "3.12.6"
  }
 },
 "nbformat": 4,
 "nbformat_minor": 2
}
