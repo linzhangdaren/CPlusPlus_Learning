{
 "cells": [
  {
   "cell_type": "code",
   "execution_count": null,
   "metadata": {},
   "outputs": [],
   "source": [
    "牛排=500\n",
    "猪排=450\n",
    "鱼排=400\n",
    "print(牛排==猪排)\n",
    "print(牛排>猪排)\n",
    "print(牛排<猪排)\n",
    "print(牛排!=猪排)\n"
   ]
  },
  {
   "cell_type": "markdown",
   "metadata": {},
   "source": [
    "bool布尔判断直接用 < > == !=;符号来做判断即可  \n"
   ]
  },
  {
   "cell_type": "code",
   "execution_count": null,
   "metadata": {},
   "outputs": [],
   "source": [
    "print(牛排==猪排 and 牛排==鱼排)#与\n",
    "print(牛排==猪排 or 牛排==鱼排)#或\n",
    "print(not 牛排==猪排)#非"
   ]
  },
  {
   "cell_type": "markdown",
   "metadata": {},
   "source": [
    "与或非 其中not可以理解为反向 翻转"
   ]
  },
  {
   "cell_type": "code",
   "execution_count": null,
   "metadata": {},
   "outputs": [],
   "source": [
    "if 牛排==猪排:\n",
    "    print(\"牛排和猪排一样\")\n",
    "else:\n",
    "    print(\"牛排和猪排不一样\")"
   ]
  },
  {
   "cell_type": "markdown",
   "metadata": {},
   "source": [
    "判断语句如果对就输出什么,如果不对就输出什么"
   ]
  },
  {
   "cell_type": "code",
   "execution_count": null,
   "metadata": {},
   "outputs": [],
   "source": [
    "点餐=input(\"请问您点的餐是什么？A牛排 B猪排\").upper\n",
    "if 点餐==\"A\":\n",
    "    print(f\"您点的是牛排,价格为{牛排}\")\n",
    "elif 点餐==\"B\":\n",
    "    print(\"您点的是猪排,价格为{猪排}\")\n"
   ]
  },
  {
   "cell_type": "markdown",
   "metadata": {},
   "source": [
    ".upper的意思是把 输入的字符改为大写字母"
   ]
  }
 ],
 "metadata": {
  "kernelspec": {
   "display_name": "Python 3",
   "language": "python",
   "name": "python3"
  },
  "language_info": {
   "codemirror_mode": {
    "name": "ipython",
    "version": 3
   },
   "file_extension": ".py",
   "mimetype": "text/x-python",
   "name": "python",
   "nbconvert_exporter": "python",
   "pygments_lexer": "ipython3",
   "version": "3.12.6"
  }
 },
 "nbformat": 4,
 "nbformat_minor": 2
}
