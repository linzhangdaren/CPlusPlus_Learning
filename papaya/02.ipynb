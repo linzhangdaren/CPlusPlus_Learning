{
 "cells": [
  {
   "cell_type": "code",
   "execution_count": null,
   "metadata": {},
   "outputs": [],
   "source": [
    "print(\"Hello, world!\")  \n",
    "# 注释 快捷键ctrl+/"
   ]
  },
  {
   "cell_type": "markdown",
   "metadata": {},
   "source": [
    "打印输出一段文字 内容为: Hello, world!"
   ]
  },
  {
   "cell_type": "code",
   "execution_count": 6,
   "metadata": {},
   "outputs": [],
   "source": [
    "a=\"hello world\"\n",
    "print(a)"
   ]
  },
  {
   "cell_type": "markdown",
   "metadata": {},
   "source": [
    "```a=\"hello world\" ```   \n",
    "变量=值  \n",
    "盒子=物品(数据)  \n",
    "\n",
    "把物品(数据)放入装入盒子里  \n",
    "写了一封信 信里的内容是一段话(数据):hello world 然后装入a信封里(变量a)\n"
   ]
  },
  {
   "cell_type": "markdown",
   "metadata": {},
   "source": [
    "```print(a) ```   \n",
    "打印(变量的值)  \n",
    "读取信件a里的内容   \n",
    "查看(盒子中的物品&数据)  \n",
    "\n",
    "注意：不是查看盒子  \n",
    "你的快递到了查看包裹里的物品的意思"
   ]
  },
  {
   "cell_type": "code",
   "execution_count": null,
   "metadata": {},
   "outputs": [],
   "source": [
    "午餐=100\n",
    "晚餐=150\n",
    "饭费=午餐+晚餐\n",
    "一星期饭费=饭费*7\n",
    "print(\"饭费为：\",饭费,\" \",\"一星期饭费为：\",一星期饭费)\n",
    "print(\"饭费为:\"+str(饭费)+\" \"+\"一星期饭费为:\"+str(一星期饭费))\n",
    "print(f\"饭费为:{饭费} 一星期饭费为:{一星期饭费}\")\n",
    "\n"
   ]
  },
  {
   "cell_type": "markdown",
   "metadata": {},
   "source": [
    "变量可以直接拿来计算前提是需要相同的类型  \n",
    "格式化输出 f\"\""
   ]
  },
  {
   "cell_type": "code",
   "execution_count": null,
   "metadata": {},
   "outputs": [],
   "source": [
    "月生活费=16000\n",
    "日平均=(月生活费/30)\n",
    "print(\"日平均生活费为：\",日平均)\n",
    "#去小数输出\n",
    "日平均=round(月生活费/30)\n",
    "print(\"日平均生活费为：\",日平均)\n",
    "#去小数快速写法\n",
    "日平均=月生活费//30\n",
    "print(\"日平均生活费为：\",日平均)\n",
    "#保留两位小数\n",
    "日平均=round(月生活费/30,2)\n",
    "print(\"日平均生活费为：\",日平均)\n",
    "#查看数据类型\n",
    "print(type(日平均))\n",
    "print(type(月生活费))"
   ]
  },
  {
   "cell_type": "markdown",
   "metadata": {},
   "source": [
    "小数位用round()来控制  \n",
    "不保留小数写法:  \n",
    "```num=123.123```  \n",
    " ```print(round(123.123)) ```   \n",
    "保留两位小数写法:  \n",
    "```num=123.123```  \n",
    "```print(round(num,2))```"
   ]
  },
  {
   "cell_type": "markdown",
   "metadata": {},
   "source": [
    "用tpye(变量名)查看变量的数据类型\n",
    "```python a = 10\n",
    "print(type(a)) # <class 'int'>\n",
    "```"
   ]
  },
  {
   "cell_type": "code",
   "execution_count": null,
   "metadata": {},
   "outputs": [],
   "source": [
    "print(\"Hello World!\")\n",
    "print('hello world')\n",
    "print(\"\"\"\n",
    "       第一行\n",
    "       第二行\n",
    "       第三行\n",
    "      \"\"\")"
   ]
  },
  {
   "cell_type": "markdown",
   "metadata": {},
   "source": [
    "字符串的输出用''单引号或者\"\"双引号括起来  \n",
    "两者是一样的输出效果  \n",
    "如果字符串中有单引号那么就用双引号括起来，反之亦然 如:  \n",
    "```python\n",
    "print(\"这句话是'他'说的\")\n",
    "pirnt('这句话是\"他\"说的')\n",
    "```"
   ]
  },
  {
   "cell_type": "markdown",
   "metadata": {},
   "source": [
    "如果输出多行输出用\"\"\"...\"\"\"包裹\n",
    "```python\n",
    "print(\"\"\"\n",
    "第一行\n",
    "第二行\n",
    "第三行\n",
    "\"\"\")\n",
    "```"
   ]
  },
  {
   "cell_type": "code",
   "execution_count": null,
   "metadata": {},
   "outputs": [],
   "source": [
    "姓名=input(\"请输入您的姓名：\")\n",
    "print(\"您输入的姓名是：\" + 姓名)"
   ]
  },
  {
   "cell_type": "markdown",
   "metadata": {},
   "source": [
    "互动实时输入input()  \n",
    "把你(用户)输入的东西放到盒子里  \n",
    "用加号连接字符串和数字"
   ]
  },
  {
   "cell_type": "code",
   "execution_count": null,
   "metadata": {},
   "outputs": [],
   "source": [
    "姓名=input(\"请输入您的姓名：\")\n",
    "出生年=input(\"请输入您的出生年份：\")\n",
    "print(type(出生年))  #检查输入的年是什么类型\n",
    "年龄=2021-int(出生年)  #由于输入的类型是str字符串无法和数字做运算需要吧str转为int类型\n",
    "#转换的几个关键词:int整数,str字符串,float浮点数,bool布尔值\n",
    "print(\"您好，\"+姓名+\"，您的年龄是\"+str(年龄)+\"。\")\n",
    "print(f\"您好,{姓名},您的年龄是{年龄}。\")  #使用f-string格式化输出"
   ]
  },
  {
   "cell_type": "markdown",
   "metadata": {},
   "source": [
    "字符串和字符串拼接 数字和数字运算  \n",
    "不同意类别的无法进行拼接或运算  \n",
    "\n",
    "当数据类型不一致无法进行拼接和计算  \n",
    "123-\"123\"是无法计算的好比123+壹贰叁  \n",
    "水是无法测量高度的需要冻成冰块转换一下  \n",
    "\n",
    "如文字和数字拼接时，需要将数字转化为字符串  \n",
    "格式化输出不需要再去把数字转为字符串了  \n"
   ]
  },
  {
   "cell_type": "markdown",
   "metadata": {},
   "source": []
  }
 ],
 "metadata": {
  "kernelspec": {
   "display_name": "Python 3",
   "language": "python",
   "name": "python3"
  },
  "language_info": {
   "codemirror_mode": {
    "name": "ipython",
    "version": 3
   },
   "file_extension": ".py",
   "mimetype": "text/x-python",
   "name": "python",
   "nbconvert_exporter": "python",
   "pygments_lexer": "ipython3",
   "version": "3.12.6"
  }
 },
 "nbformat": 4,
 "nbformat_minor": 2
}
