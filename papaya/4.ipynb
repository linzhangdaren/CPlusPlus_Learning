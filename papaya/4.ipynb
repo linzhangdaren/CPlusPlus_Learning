{
 "cells": [
  {
   "cell_type": "code",
   "execution_count": null,
   "metadata": {},
   "outputs": [],
   "source": [
    "学生=[\"小明\",\"小华\",\"小杰\",\"阿花\"]\n",
    "print(学生)\n",
    "print(len(学生))#查看有几个学生\n",
    "print(学生[0])#查看第一个学生\n",
    "print(学生[-1])#查看最后一个学生倒数第一个\n",
    "print(学生[1:3])#查看第二个到第三个学生\n",
    "print(学生[:3])#查看前三个学生\n",
    "print(学生[1:])#查看第二个学生到最后一个学生\n"
   ]
  },
  {
   "cell_type": "markdown",
   "metadata": {},
   "source": [
    "学生=[\"小明\",\"小华\",\"小杰\",\"阿花\"]  \n",
    "正值下标  0    1      2      3(顺数)\n",
    "负值下标  0   -3     -2     -1(倒数)\n",
    "学生[1:3]      1      2      (不包括3 包首不包尾 有始无终)\n"
   ]
  },
  {
   "cell_type": "code",
   "execution_count": null,
   "metadata": {},
   "outputs": [],
   "source": [
    "唐诗=\"床前明月光\"\n",
    "print(唐诗)\n",
    "print(len(唐诗))#查看字数\n",
    "print(唐诗[0])#查看第一个字"
   ]
  },
  {
   "cell_type": "markdown",
   "metadata": {},
   "source": [
    "字符串和清单有异曲同工之处一样的"
   ]
  },
  {
   "cell_type": "code",
   "execution_count": null,
   "metadata": {},
   "outputs": [],
   "source": [
    "唐诗=(list(唐诗))#将字符串转化为列表\n",
    "print(唐诗)"
   ]
  },
  {
   "cell_type": "markdown",
   "metadata": {},
   "source": [
    "字符串转为清单列表"
   ]
  },
  {
   "cell_type": "code",
   "execution_count": null,
   "metadata": {},
   "outputs": [],
   "source": [
    "日期=\"2025/1/16\"\n",
    "print(日期.split(\"/\"))#将日期按照/符号拆分日期"
   ]
  },
  {
   "cell_type": "markdown",
   "metadata": {},
   "source": [
    "字符串日期按照特定符号分割日期"
   ]
  },
  {
   "cell_type": "code",
   "execution_count": null,
   "metadata": {},
   "outputs": [],
   "source": [
    "班级学生=['张三','李四','王五','赵六']\n",
    "print(\"/\".join(班级学生))"
   ]
  },
  {
   "cell_type": "markdown",
   "metadata": {},
   "source": [
    "用特定符号连接字符串，比如逗号、空格、换行符等。"
   ]
  },
  {
   "cell_type": "code",
   "execution_count": null,
   "metadata": {},
   "outputs": [],
   "source": [
    "学生=[\"一号\",\"二号\",\"三号\",\"四号\",\"五号\"]\n",
    "学生[0]=\"1号\"\n",
    "print(学生)\n",
    "学生=(1,2,3,4,5)#元组类型不可修改\n",
    "# 学生[0]=1#元祖类型不可修改不然会报错的"
   ]
  },
  {
   "cell_type": "markdown",
   "metadata": {},
   "source": [
    "修改清单列表 直接单独再次赋值即可  \n",
    "如果想锁定清单不让其修改直接吧[]改为()即可改下括号就能锁定  \n",
    "类似静态一样 这叫元组tuple  \n",
    "元组和列表命令通用的唯一差别不能修改核增减元素"
   ]
  },
  {
   "cell_type": "markdown",
   "metadata": {},
   "source": [
    "学生=[\"1\",\"2\",\"3\",\"4\",\"5\"]\n",
    "学生.append(\"6\")#增加一个元素 在最后面\n",
    "print(学生)\n",
    "\n",
    "学生.extend([\"7\",\"8\",\"9\"])#增加多个元素 在最后面\n",
    "print(学生)\n"
   ]
  },
  {
   "cell_type": "markdown",
   "metadata": {},
   "source": [
    "列表添加数据 用.append()默认在后面  \n",
    ".extend()增加多个元素在末尾  \n"
   ]
  },
  {
   "cell_type": "code",
   "execution_count": null,
   "metadata": {},
   "outputs": [],
   "source": [
    "学生=[\"1\",\"2\",\"3\",\"4\",\"5\"]\n",
    "学生.remove(\"3\")#删除元素名字为\"3\"\n",
    "学生.pop()#删除最后一个元素\n",
    "学生.pop(0)#删除第一个元素\n",
    "print(学生)"
   ]
  },
  {
   "cell_type": "markdown",
   "metadata": {},
   "source": [
    "删除清单的内容 .remove或者.pop  \n",
    "删除时，如果删除的元素不存在，会报错。  \n",
    "所以先检查要删除的元素是否存在，再进行删除  \n",
    "```print(\"6\"in 学生)  \n",
    "if \"6\" in 学生:\n",
    "    学生.remove(\"6\")  \n",
    "else:\n",
    "    print(\"6 不在学生列表中\")\n",
    "```   \n",
    "\n",
    "如果找到元素可以进一步查找到元素的下标\n",
    "print(学生.index(\"1\"))\n",
    "输出制定姓名元素的下标"
   ]
  },
  {
   "cell_type": "markdown",
   "metadata": {},
   "source": []
  }
 ],
 "metadata": {
  "kernelspec": {
   "display_name": "Python 3",
   "language": "python",
   "name": "python3"
  },
  "language_info": {
   "codemirror_mode": {
    "name": "ipython",
    "version": 3
   },
   "file_extension": ".py",
   "mimetype": "text/x-python",
   "name": "python",
   "nbconvert_exporter": "python",
   "pygments_lexer": "ipython3",
   "version": "3.12.6"
  }
 },
 "nbformat": 4,
 "nbformat_minor": 2
}
