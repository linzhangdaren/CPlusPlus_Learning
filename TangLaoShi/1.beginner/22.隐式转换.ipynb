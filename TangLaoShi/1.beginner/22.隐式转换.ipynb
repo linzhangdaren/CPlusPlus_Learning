{
 "cells": [
  {
   "cell_type": "markdown",
   "metadata": {},
   "source": [
    "## 隐式转换 大装小\n",
    "虽然decimal非常大但是不能装浮点看是可以装整型"
   ]
  },
  {
   "cell_type": "code",
   "execution_count": 3,
   "metadata": {
    "dotnet_interactive": {
     "language": "csharp"
    },
    "polyglot_notebook": {
     "kernelName": "csharp"
    },
    "vscode": {
     "languageId": "polyglot-notebook"
    }
   },
   "outputs": [],
   "source": [
    "long l=1;\n",
    "int i=1;\n",
    "l=i; //隐式转换，大装小 这种不允许i=l"
   ]
  },
  {
   "cell_type": "markdown",
   "metadata": {},
   "source": [
    "char和int之间的转换"
   ]
  },
  {
   "cell_type": "code",
   "execution_count": null,
   "metadata": {
    "dotnet_interactive": {
     "language": "csharp"
    },
    "polyglot_notebook": {
     "kernelName": "csharp"
    },
    "vscode": {
     "languageId": "polyglot-notebook"
    }
   },
   "outputs": [],
   "source": [
    "int z='张';\n",
    "int p='鹏';;\n",
    "int h='华';\n",
    "Console.WriteLine(z+p+h);\n",
    "Console.WriteLine(\"字符拼接打印\"+z+p+h);\n"
   ]
  },
  {
   "cell_type": "markdown",
   "metadata": {},
   "source": [
    "特殊类型 bool char string 不存在转换"
   ]
  },
  {
   "cell_type": "markdown",
   "metadata": {},
   "source": [
    "```csharp\n",
    "// double -> float -> 整形（无符号、有符号）-> char\n",
    "double d = 1.123456789;\n",
    "float f = (float)d; // 显式转换\n",
    "int i = (int)f; // 显式转换\n",
    "char c = (char)i; // 显式转换\n",
    "\n",
    "// decimal -> 整形（无符号、有符号）-> char\n",
    "decimal dec = 123.456m;\n",
    "int intNum = (int)dec; // 显式转换\n",
    "char charNum = (char)intNum; // 显式转换\n",
    "\n",
    "// long -> int -> short -> sbyte\n",
    "long l = 1234567890123456789L;\n",
    "int i2 = (int)l; // 显式转换\n",
    "short s = (short)i2; // 显式转换\n",
    "sbyte sb = (sbyte)s; // 显式转换\n",
    "\n",
    "// ulong -> uint -> ushort -> byte\n",
    "ulong ul = 12345678901234567890UL;\n",
    "uint ui = (uint)ul; // 显式转换\n",
    "ushort us = (ushort)ui; // 显式转换\n",
    "byte b = (byte)us; // 显式转换\n",
    "\n",
    "// 无符号没法隐式存储有符号的\n",
    "int signedNum = -1;\n",
    "// uint unsignedNum = signedNum; // 错误：无法从有符号转换为无符号\n",
    "\n",
    "// 有符号的可以隐式存储无符号（范围大小）\n",
    "uint unsignedNum = 1234567890;\n",
    "long signedNum2 = unsignedNum; // 正确：无符号到有符号的隐式转换"
   ]
  }
 ],
 "metadata": {
  "kernelspec": {
   "display_name": ".NET (C#)",
   "language": "C#",
   "name": ".net-csharp"
  },
  "language_info": {
   "name": "python"
  },
  "polyglot_notebook": {
   "kernelInfo": {
    "defaultKernelName": "csharp",
    "items": [
     {
      "aliases": [],
      "name": "csharp"
     }
    ]
   }
  }
 },
 "nbformat": 4,
 "nbformat_minor": 2
}
