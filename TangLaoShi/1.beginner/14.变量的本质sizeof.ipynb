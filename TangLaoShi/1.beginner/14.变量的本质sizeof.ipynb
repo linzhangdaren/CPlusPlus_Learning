{
 "cells": [
  {
   "cell_type": "markdown",
   "metadata": {},
   "source": [
    "测变量类型的占用空间大小"
   ]
  },
  {
   "cell_type": "code",
   "execution_count": null,
   "metadata": {
    "dotnet_interactive": {
     "language": "csharp"
    },
    "polyglot_notebook": {
     "kernelName": "csharp"
    },
    "vscode": {
     "languageId": "polyglot-notebook"
    }
   },
   "outputs": [],
   "source": [
    "int sbyteSize=sizeof(sbyte);\n",
    "int byteSize=sizeof(byte);\n",
    "int shrotSize=sizeof(short);\n",
    "int intSize=sizeof(int);\n",
    "int longSize=sizeof(long);\n",
    "int floatSize=sizeof(float);\n",
    "int doubleSize=sizeof(double);\n",
    "int decimalSize=sizeof(decimal);\n",
    "int boolSize=sizeof(bool);\n",
    "int charSize=sizeof(char);//占用2个和别的语言不一样\n",
    "// int stringSize=sizeof(string);\n",
    "Console.WriteLine(\"sbyteSize=\"+sbyteSize);\n",
    "Console.WriteLine(\"byteSize=\"+byteSize);\n",
    "Console.WriteLine(\"shrotSize=\"+shrotSize);\n",
    "Console.WriteLine(\"intSize=\"+intSize);\n",
    "Console.WriteLine(\"longSize=\"+longSize);\n",
    "Console.WriteLine(\"floatSize=\"+floatSize);\n",
    "Console.WriteLine(\"doubleSize=\"+doubleSize);\n",
    "Console.WriteLine(\"decimalSize=\"+decimalSize);\n",
    "Console.WriteLine(\"boolSize=\"+boolSize);\n",
    "Console.WriteLine(\"charSize=\"+charSize);\n",
    "\n",
    "\n"
   ]
  },
  {
   "cell_type": "markdown",
   "metadata": {},
   "source": [
    "得出结论：\n",
    "1. 无符号和有符号占用的空间是一样的\n",
    "2. string无法用sizeof 因为string是引用类型\n",
    "3. char占用2个字节"
   ]
  }
 ],
 "metadata": {
  "kernelspec": {
   "display_name": ".NET (C#)",
   "language": "C#",
   "name": ".net-csharp"
  },
  "language_info": {
   "name": "python"
  },
  "polyglot_notebook": {
   "kernelInfo": {
    "defaultKernelName": "csharp",
    "items": [
     {
      "aliases": [],
      "name": "csharp"
     }
    ]
   }
  }
 },
 "nbformat": 4,
 "nbformat_minor": 2
}
