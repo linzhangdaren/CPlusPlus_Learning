{
 "cells": [
  {
   "cell_type": "markdown",
   "metadata": {},
   "source": [
    "折叠代码 只在编辑有用 发布时会自动删除"
   ]
  },
  {
   "cell_type": "code",
   "execution_count": null,
   "metadata": {
    "dotnet_interactive": {
     "language": "csharp"
    },
    "polyglot_notebook": {
     "kernelName": "csharp"
    },
    "vscode": {
     "languageId": "polyglot-notebook"
    }
   },
   "outputs": [],
   "source": [
    "region\n",
    "//折叠代码\n",
    "#endregion"
   ]
  },
  {
   "cell_type": "markdown",
   "metadata": {},
   "source": [
    "有符号的变量"
   ]
  },
  {
   "cell_type": "markdown",
   "metadata": {
    "vscode": {
     "languageId": "polyglot-notebook"
    }
   },
   "source": [
    "\n",
    "| 数据类型 | 范围 |\n",
    "|----------|------|\n",
    "| sbyte    | -128~127 |\n",
    "| int      | -2147483648~2147483647 |\n",
    "| short    | -32768~32767 |\n",
    "| long     | -9223372036854775808~9223372036854775807 |\n"
   ]
  },
  {
   "cell_type": "markdown",
   "metadata": {},
   "source": [
    "无符号的变量"
   ]
  },
  {
   "cell_type": "markdown",
   "metadata": {},
   "source": [
    "| 数据类型 | 范围 |\n",
    "|----------|------|\n",
    "| byte     | 0~255 |\n",
    "| uint     | 0~4294967295 |\n",
    "| ushort   | 0~65535 |\n",
    "| ulong    | 0~18446744073709551615 |"
   ]
  },
  {
   "cell_type": "markdown",
   "metadata": {},
   "source": [
    "浮点数(小数)"
   ]
  },
  {
   "cell_type": "code",
   "execution_count": null,
   "metadata": {
    "dotnet_interactive": {
     "language": "csharp"
    },
    "polyglot_notebook": {
     "kernelName": "csharp"
    },
    "vscode": {
     "languageId": "polyglot-notebook"
    }
   },
   "outputs": [],
   "source": [
    "float f=0.1234567890f;\n",
    "Console.WriteLine(f)"
   ]
  },
  {
   "cell_type": "code",
   "execution_count": null,
   "metadata": {
    "dotnet_interactive": {
     "language": "csharp"
    },
    "polyglot_notebook": {
     "kernelName": "csharp"
    },
    "vscode": {
     "languageId": "polyglot-notebook"
    }
   },
   "outputs": [],
   "source": [
    "double d=0.123456789012345678901234567890;\n",
    "Console.WriteLine(d)"
   ]
  },
  {
   "cell_type": "code",
   "execution_count": null,
   "metadata": {
    "dotnet_interactive": {
     "language": "csharp"
    },
    "polyglot_notebook": {
     "kernelName": "csharp"
    },
    "vscode": {
     "languageId": "polyglot-notebook"
    }
   },
   "outputs": [],
   "source": [
    "decimal m=0.1234567890123456789012345678901234567890m;\n",
    "Console.WriteLine(m)"
   ]
  },
  {
   "cell_type": "markdown",
   "metadata": {},
   "source": [
    "特殊类型"
   ]
  },
  {
   "cell_type": "code",
   "execution_count": null,
   "metadata": {
    "dotnet_interactive": {
     "language": "csharp"
    },
    "polyglot_notebook": {
     "kernelName": "csharp"
    },
    "vscode": {
     "languageId": "polyglot-notebook"
    }
   },
   "outputs": [],
   "source": [
    "bool b=true;\n",
    "char c='a';\n",
    "string s=\"hello world\";"
   ]
  },
  {
   "cell_type": "markdown",
   "metadata": {},
   "source": [
    " 人物信息 案例"
   ]
  },
  {
   "cell_type": "code",
   "execution_count": 8,
   "metadata": {
    "dotnet_interactive": {
     "language": "csharp"
    },
    "polyglot_notebook": {
     "kernelName": "csharp"
    },
    "vscode": {
     "languageId": "polyglot-notebook"
    }
   },
   "outputs": [
    {
     "name": "stdout",
     "output_type": "stream",
     "text": [
      "姓名:张三\n",
      "年龄:20\n",
      "性别:True\n",
      "身高:1.75\n",
      "体重:75.5\n"
     ]
    }
   ],
   "source": [
    "//姓名\n",
    "string name=\"张三\";\n",
    "//年龄\n",
    "byte age=20;\n",
    "//性别 true男 false女\n",
    "bool sex=true;\n",
    "//身高\n",
    "float height=1.75f;\n",
    "//体重\n",
    "double weight=75.5;\n",
    "//打印\n",
    "Console.WriteLine(\"姓名:\"+name);\n",
    "Console.WriteLine(\"年龄:\"+age);\n",
    "Console.WriteLine(\"性别:\"+sex);\n",
    "Console.WriteLine(\"身高:\"+height);\n",
    "Console.WriteLine(\"体重:\"+weight);"
   ]
  }
 ],
 "metadata": {
  "kernelspec": {
   "display_name": ".NET (C#)",
   "language": "C#",
   "name": ".net-csharp"
  },
  "language_info": {
   "name": "python"
  },
  "polyglot_notebook": {
   "kernelInfo": {
    "defaultKernelName": "csharp",
    "items": [
     {
      "aliases": [],
      "name": "csharp"
     }
    ]
   }
  }
 },
 "nbformat": 4,
 "nbformat_minor": 2
}
