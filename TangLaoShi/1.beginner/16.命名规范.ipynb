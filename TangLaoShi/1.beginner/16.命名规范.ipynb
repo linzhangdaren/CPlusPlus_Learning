{
 "cells": [
  {
   "cell_type": "markdown",
   "metadata": {},
   "source": [
    "变量 一般用驼峰"
   ]
  },
  {
   "cell_type": "code",
   "execution_count": null,
   "metadata": {
    "dotnet_interactive": {
     "language": "csharp"
    },
    "polyglot_notebook": {
     "kernelName": "csharp"
    },
    "vscode": {
     "languageId": "polyglot-notebook"
    }
   },
   "outputs": [],
   "source": [
    "string myName=\"张鹏华\";\n",
    "int myAge=18;\n",
    "string myMotherName=\"妈妈\";"
   ]
  },
  {
   "cell_type": "markdown",
   "metadata": {},
   "source": [
    "函数&类 一般用帕斯卡"
   ]
  },
  {
   "cell_type": "markdown",
   "metadata": {},
   "source": [
    "class Student{\n",
    "    string name;\n",
    "}"
   ]
  }
 ],
 "metadata": {
  "kernelspec": {
   "display_name": ".NET (C#)",
   "language": "C#",
   "name": ".net-csharp"
  },
  "language_info": {
   "name": "python"
  },
  "polyglot_notebook": {
   "kernelInfo": {
    "defaultKernelName": "csharp",
    "items": [
     {
      "aliases": [],
      "name": "csharp"
     }
    ]
   }
  }
 },
 "nbformat": 4,
 "nbformat_minor": 2
}
