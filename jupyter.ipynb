{
 "cells": [
  {
   "cell_type": "markdown",
   "metadata": {},
   "source": [
    "# Jupyter Keyboard Shortcuts\n",
    "基于Markdown All in One插件，在VSCode中实现Jupyter Notebook的快捷键"
   ]
  },
  {
   "cell_type": "markdown",
   "metadata": {},
   "source": [
    "| 功能             | 快捷键               |\n",
    "|------------------|----------------------|\n",
    "| 切换粗体         | `Ctrl + B`           |\n",
    "| 切换斜体         | `Ctrl + I`           |\n",
    "| 切换删除线       | `Alt + S`            |\n",
    "| 提升标题等级     | `Ctrl + Shift + ]`   |\n",
    "| 降低标题等级     | `Ctrl + Shift + [`    |\n",
    "| 切换数学环境     | `Ctrl + M`           |\n",
    "| 切换预览         | `Ctrl + Shift + V`    |\n",
    "| 切换侧边预览     | `Ctrl + K V`         |\n",
    "| 格式化表格       | `Alt + Shift + F`     |\n",
    "| 切换任务项勾选   | `Alt + C`            |\n",
    "| 切换行内代码块   | `Ctrl + Shift + \\`   |\n",
    "| 切换代码块       | `Ctrl + \\`           |"
   ]
  },
  {
   "cell_type": "markdown",
   "metadata": {},
   "source": []
  },
  {
   "cell_type": "markdown",
   "metadata": {},
   "source": [
    "### 常用快捷键:\n",
    "1. **运行代码块，选择下面的代码块**: Shift + 回车\n",
    "2. **运行选中的代码块**: Ctrl + 回车\n",
    "3. **运行代码块并且插入下面**: Alt + 回车\n",
    "4. **把文本块变成代码**: Y\n",
    "5. **把代码块变成文本**: M\n",
    "6. **把代码块变成多级标题**: 数字 1/2/3/4/5/6\n",
    "7. **在上面插入代码块**: A\n",
    "8. **在下面插入代码块**: B\n",
    "9. **复制选择的代码块**: C\n",
    "10. **在单元格下方粘贴代码块**: V\n",
    "11. **删除选中单元格**: DD\n",
    "12. **撤销删除**: Z\n",
    "13. **保存文件**: Ctrl + S"
   ]
  },
  {
   "cell_type": "markdown",
   "metadata": {},
   "source": [
    "### 命令模式&编辑模式\n",
    "1. **命令模式:Esc或者鼠标点击空白区域\n",
    "2. **编辑模式:回车键或者鼠标点击代码框区域"
   ]
  },
  {
   "cell_type": "markdown",
   "metadata": {},
   "source": [
    "### 常用快捷键:\n",
    "1. **运行代码块，选择下面的代码块**: Shift + 回车\n",
    "2. **运行选中的代码块**: Ctrl + 回车\n",
    "3. **运行代码块并且插入下面**: Alt + 回车"
   ]
  },
  {
   "cell_type": "markdown",
   "metadata": {},
   "source": [
    "## MD格式编辑"
   ]
  },
  {
   "cell_type": "markdown",
   "metadata": {},
   "source": [
    "### 1. 标题"
   ]
  },
  {
   "cell_type": "markdown",
   "metadata": {
    "polyglot_notebook": {
     "kernelName": "http"
    }
   },
   "source": [
    "...\n",
    "# 一级标题\n",
    "## 二级标题\n",
    "### 三级标题\n",
    "#### 四级标题\n",
    "##### 五级标题\n",
    "###### 六级标题"
   ]
  },
  {
   "cell_type": "markdown",
   "metadata": {},
   "source": [
    "### 2. 文本格式"
   ]
  },
  {
   "cell_type": "markdown",
   "metadata": {},
   "source": [
    "**粗体**  \n",
    "*斜体*  \n",
    "***粗斜体***  \n",
    "~~删除线~~  \n",
    "<u>下划线</u>（需HTML）  \n",
    "`行内代码`  "
   ]
  },
  {
   "cell_type": "markdown",
   "metadata": {},
   "source": [
    "### 3. 列表"
   ]
  },
  {
   "cell_type": "markdown",
   "metadata": {},
   "source": [
    "- 项目1\n",
    "- 项目2\n",
    "  - 子项目A\n",
    "  - 子项目B  \n",
    "\n",
    "1. 第一点\n",
    "2. 第二点\n",
    "   1. 子点A\n",
    "   2. 子点B  \n",
    "\n",
    "- [x] 已完成任务\n",
    "- [ ] 未完成任务  \n"
   ]
  },
  {
   "cell_type": "markdown",
   "metadata": {},
   "source": [
    "### 4. 引用"
   ]
  },
  {
   "cell_type": "markdown",
   "metadata": {},
   "source": [
    "> 这是一段引用  \n",
    ">> 嵌套引用"
   ]
  },
  {
   "cell_type": "markdown",
   "metadata": {},
   "source": [
    "### 5. 代码块"
   ]
  },
  {
   "cell_type": "markdown",
   "metadata": {},
   "source": [
    "```python\n",
    "def hello_world():\n",
    "    print(\"Hello, Markdown!\")"
   ]
  },
  {
   "cell_type": "markdown",
   "metadata": {},
   "source": [
    "### 6. 链接"
   ]
  },
  {
   "cell_type": "markdown",
   "metadata": {},
   "source": [
    "[显示文本](https://example.com)  \n",
    "[内部链接](#标题名称)  \n",
    "<https://直接显示链接.com>"
   ]
  },
  {
   "cell_type": "markdown",
   "metadata": {},
   "source": [
    "### 7. 图片"
   ]
  },
  {
   "cell_type": "markdown",
   "metadata": {},
   "source": [
    "![替代文本](https://example.com/image.jpg)  \n",
    "![本地图片](path/to/image.png)  "
   ]
  },
  {
   "cell_type": "markdown",
   "metadata": {},
   "source": [
    "### 8. 水平线"
   ]
  },
  {
   "cell_type": "markdown",
   "metadata": {},
   "source": [
    "--- 或 *** 或 ___"
   ]
  },
  {
   "cell_type": "markdown",
   "metadata": {},
   "source": [
    "### 9. 表格"
   ]
  },
  {
   "cell_type": "markdown",
   "metadata": {},
   "source": [
    "| 表头1 | 表头2 |\n",
    "|-------|-------|\n",
    "| 单元格1 | 单元格2 |\n",
    "| 单元格3 | 单元格4 |"
   ]
  }
 ],
 "metadata": {
  "kernelspec": {
   "display_name": ".NET (C#)",
   "language": "C#",
   "name": ".net-csharp"
  },
  "language_info": {
   "codemirror_mode": {
    "name": "ipython",
    "version": 3
   },
   "file_extension": ".py",
   "mimetype": "text/x-python",
   "name": "python",
   "nbconvert_exporter": "python",
   "pygments_lexer": "ipython3",
   "version": "3.12.6"
  },
  "polyglot_notebook": {
   "kernelInfo": {
    "defaultKernelName": "csharp",
    "items": [
     {
      "aliases": [],
      "name": "csharp"
     }
    ]
   }
  }
 },
 "nbformat": 4,
 "nbformat_minor": 2
}
