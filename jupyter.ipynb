{
 "cells": [
  {
   "cell_type": "markdown",
   "metadata": {},
   "source": [
    "# Jupyter Keyboard Shortcuts\n",
    "基于Markdown All in One插件，在VSCode中实现Jupyter Notebook的快捷键"
   ]
  },
  {
   "cell_type": "markdown",
   "metadata": {},
   "source": [
    "| 功能             | 快捷键               |\n",
    "|------------------|----------------------|\n",
    "| 切换粗体         | `Ctrl + B`           |\n",
    "| 切换斜体         | `Ctrl + I`           |\n",
    "| 切换删除线       | `Alt + S`            |\n",
    "| 提升标题等级     | `Ctrl + Shift + ]`   |\n",
    "| 降低标题等级     | `Ctrl + Shift + [`    |\n",
    "| 切换数学环境     | `Ctrl + M`           |\n",
    "| 切换预览         | `Ctrl + Shift + V`    |\n",
    "| 切换侧边预览     | `Ctrl + K V`         |\n",
    "| 格式化表格       | `Alt + Shift + F`     |\n",
    "| 切换任务项勾选   | `Alt + C`            |\n",
    "| 切换行内代码块   | `Ctrl + Shift + \\``   |\n",
    "| 切换代码块       | `Ctrl + \\``           |"
   ]
  },
  {
   "cell_type": "markdown",
   "metadata": {},
   "source": [
    "### 常用快捷键:\n",
    "1. **运行代码块，选择下面的代码块**: Shift + 回车\n",
    "2. **运行选中的代码块**: Ctrl + 回车\n",
    "3. **运行代码块并且插入下面**: Alt + 回车\n",
    "4. **把文本块变成代码**: Y\n",
    "5. **把代码块变成文本**: M\n",
    "6. **把代码块变成多级标题**: 数字 1/2/3/4/5/6\n",
    "7. **在上面插入代码块**: A\n",
    "8. **在下面插入代码块**: B\n",
    "9. **复制选择的代码块**: C\n",
    "10. **在单元格下方粘贴代码块**: V\n",
    "11. **删除选中单元格**: DD\n",
    "12. **撤销删除**: Z\n",
    "13. **保存文件**: Ctrl + S"
   ]
  },
  {
   "cell_type": "markdown",
   "metadata": {},
   "source": [
    "### 命令模式&编辑模式\n",
    "1. **命令模式:Esc或者鼠标点击空白区域\n",
    "2. **编辑模式:回车键或者鼠标点击代码框区域"
   ]
  },
  {
   "cell_type": "markdown",
   "metadata": {},
   "source": [
    "### 常用快捷键:\n",
    "1. **运行代码块，选择下面的代码块**: Shift + 回车\n",
    "2. **运行选中的代码块**: Ctrl + 回车\n",
    "3. **运行代码块并且插入下面**: Alt + 回车"
   ]
  }
 ],
 "metadata": {
  "kernelspec": {
   "display_name": ".NET (C#)",
   "language": "C#",
   "name": ".net-csharp"
  },
  "language_info": {
   "codemirror_mode": {
    "name": "ipython",
    "version": 3
   },
   "file_extension": ".py",
   "mimetype": "text/x-python",
   "name": "python",
   "nbconvert_exporter": "python",
   "pygments_lexer": "ipython3",
   "version": "3.12.6"
  },
  "polyglot_notebook": {
   "kernelInfo": {
    "defaultKernelName": "csharp",
    "items": [
     {
      "aliases": [],
      "name": "csharp"
     }
    ]
   }
  }
 },
 "nbformat": 4,
 "nbformat_minor": 2
}
