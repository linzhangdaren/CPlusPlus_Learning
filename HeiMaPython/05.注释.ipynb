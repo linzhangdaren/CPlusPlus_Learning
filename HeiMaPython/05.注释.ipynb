{
 "cells": [
  {
   "cell_type": "markdown",
   "metadata": {},
   "source": [
    "名可名 主文件名+扩展名(后缀名)的隐藏和开启"
   ]
  },
  {
   "cell_type": "code",
   "execution_count": null,
   "metadata": {},
   "outputs": [],
   "source": [
    "#单行注释:\n",
    "# 这是一个单行注释\n",
    "\n",
    "#多行注释:\n",
    "'''\n",
    "这是一个多行注释\n",
    "这是一个多行注释\n",
    "这是一个多行注释\n",
    "'''\n",
    "#多行注释的另一种写法:\n",
    "\"\"\"\n",
    "这是一个多行注释\n",
    "这是一个多行注释\n",
    "这是一个多行注释\n",
    "\"\"\"\n",
    "#在Python中，单行注释以#开头，多行注释可以用单引号、双引号括起来，也可以用三引号括起来。"
   ]
  },
  {
   "cell_type": "code",
   "execution_count": null,
   "metadata": {},
   "outputs": [],
   "source": [
    "变量的概念"
   ]
  }
 ],
 "metadata": {
  "kernelspec": {
   "display_name": "Python 3",
   "language": "python",
   "name": "python3"
  },
  "language_info": {
   "name": "python",
   "version": "3.12.6"
  }
 },
 "nbformat": 4,
 "nbformat_minor": 2
}
