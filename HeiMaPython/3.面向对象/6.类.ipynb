{
 "cells": [
  {
   "cell_type": "markdown",
   "metadata": {},
   "source": [
    "# 类的定义  \n",
    "类就是一张图纸"
   ]
  },
  {
   "cell_type": "code",
   "execution_count": null,
   "metadata": {},
   "outputs": [],
   "source": [
    "#定义空类 \n",
    "class EmptyClass:\n",
    "    pass#用pass语句来定义一个空类\n",
    "\n",
    "#实例化一个空对象\n",
    "OBJ=EmptyClass()\n",
    "\n",
    "#打印对象类型\n",
    "print(OBJ)"
   ]
  },
  {
   "cell_type": "code",
   "execution_count": null,
   "metadata": {},
   "outputs": [],
   "source": [
    "#常规带初始化构造函数的类 self是隐形必传的参数对象自动传不用谢 但是class里要写明白\n",
    "class Person:\n",
    "    def __init__(self, name, age):\n",
    "        self.name = name\n",
    "        self.age = age\n",
    "        \n",
    "#实例化对象\n",
    "#p1 = Person(\"张三\")#缺少age参数，报错\n",
    "p2 = Person(\"李四\", 20)\n",
    "print(p2.name)\n",
    "print(p2.age)"
   ]
  },
  {
   "cell_type": "code",
   "execution_count": null,
   "metadata": {},
   "outputs": [],
   "source": [
    "#默认参数缺省值 不用传参时，会使用默认值 不会报错 \n",
    "class Person:\n",
    "    def __init__(self, name=\"\", age=0):\n",
    "        \"\"\"\n",
    "        这个是提示词\n",
    "        初始化:\n",
    "        姓名:\n",
    "        年龄:\n",
    "        \"\"\"\n",
    "        self.name = name\n",
    "        self.age = age\n",
    "        \n",
    "#实例化对象\n",
    "p1 = Person(\"张三\")\n",
    "p2 = Person(\"李四\", 20)\n",
    "print(p1.name)\n",
    "print(p1.age)"
   ]
  },
  {
   "cell_type": "code",
   "execution_count": 19,
   "metadata": {},
   "outputs": [
    {
     "name": "stdout",
     "output_type": "stream",
     "text": [
      "你好李四我的名字叫张三\n"
     ]
    }
   ],
   "source": [
    "#带函数方法的类\n",
    "class Person:\n",
    "    def __init__(self, name=\"\", age=0):\n",
    "        self.name = name\n",
    "        self.age = age\n",
    "        \n",
    "    def say_hello(self,name1):\n",
    "        print(f\"你好{name1}我的名字叫{self.name}\")\n",
    "\n",
    "p = Person(\"张三\", 20)\n",
    "\n",
    "p.say_hello(\"李四\")"
   ]
  }
 ],
 "metadata": {
  "kernelspec": {
   "display_name": "Python 3",
   "language": "python",
   "name": "python3"
  },
  "language_info": {
   "codemirror_mode": {
    "name": "ipython",
    "version": 3
   },
   "file_extension": ".py",
   "mimetype": "text/x-python",
   "name": "python",
   "nbconvert_exporter": "python",
   "pygments_lexer": "ipython3",
   "version": "3.12.6"
  }
 },
 "nbformat": 4,
 "nbformat_minor": 2
}
