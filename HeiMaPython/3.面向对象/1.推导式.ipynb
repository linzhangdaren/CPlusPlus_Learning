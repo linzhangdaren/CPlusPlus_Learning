{
 "cells": [
  {
   "cell_type": "markdown",
   "metadata": {},
   "source": [
    "##### 推导式就像是 “一句话工厂”，快速生成你想要的数据集合  \n",
    "- 列表推导式（List Comprehension）  \n",
    "把可迭代对象里每个元素拿出来，按表达式处理后，符合条件的就放进新列表,和筛选功能一样。 "
   ]
  },
  {
   "cell_type": "code",
   "execution_count": null,
   "metadata": {},
   "outputs": [],
   "source": [
    "#[要的结果 for 变量 in 可迭代对象 if 判断条件]（if 条件可选）\n",
    "\n",
    "#列表:筛选所有的奇数\n",
    "l=[1,2,3,4,5,6,7,8,9,10]\n",
    "l1=[i for i in l if i%2==1]\n",
    "print(l1)#[1, 3, 5, 7, 9]"
   ]
  },
  {
   "cell_type": "code",
   "execution_count": null,
   "metadata": {},
   "outputs": [],
   "source": [
    "#列出 0-10 所有偶数的平方\n",
    "\n",
    "# 0-10 :range(11)\n",
    "# 偶数：%2==0\n",
    "# 平方：**2\n",
    "\n",
    "#步骤 推演\n",
    "#1. for i in range(10)\n",
    "#2. [for in range(10)]\n",
    "#3. [i**2  for i in range(10)] # 前面加入i的意思是 要什么就放最前\n",
    "#4. [i**2 for i in range(10) if i%2==0] # 最后判断放最后\n",
    "\n",
    "list_even=[i**2 for i in range(11) if i%2==0]\n",
    "print(list_even)\n",
    "\n",
    "#相当于换了一下位置: 把判断放在了循环后面 把要的结果放在了前面\n",
    "list_even2=[]\n",
    "for i in range(11):\n",
    "    if i%2==0:\n",
    "        list_even2.append(i**2)"
   ]
  }
 ],
 "metadata": {
  "kernelspec": {
   "display_name": "Python 3",
   "language": "python",
   "name": "python3"
  },
  "language_info": {
   "codemirror_mode": {
    "name": "ipython",
    "version": 3
   },
   "file_extension": ".py",
   "mimetype": "text/x-python",
   "name": "python",
   "nbconvert_exporter": "python",
   "pygments_lexer": "ipython3",
   "version": "3.13.3"
  }
 },
 "nbformat": 4,
 "nbformat_minor": 2
}
