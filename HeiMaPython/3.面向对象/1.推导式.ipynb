{
 "cells": [
  {
   "cell_type": "markdown",
   "metadata": {},
   "source": [
    "##### 推导式就像是 “一句话工厂”，快速生成你想要的数据集合  \n",
    "- 列表推导式（List Comprehension）  \n",
    "把可迭代对象里每个元素拿出来，按表达式处理后，符合条件的就放进新列表,和筛选功能一样。 "
   ]
  },
  {
   "cell_type": "code",
   "execution_count": 1,
   "metadata": {},
   "outputs": [
    {
     "name": "stdout",
     "output_type": "stream",
     "text": [
      "[1, 3, 5, 7, 9]\n"
     ]
    }
   ],
   "source": [
    "#[要的结果 for 变量 in 可迭代对象 if 判断条件]（if 条件可选）\n",
    "\n",
    "#列表:筛选所有的奇数\n",
    "l=[1,2,3,4,5,6,7,8,9,10]\n",
    "l1=[i for i in l if i%2==1]\n",
    "print(l1)#[1, 3, 5, 7, 9]"
   ]
  },
  {
   "cell_type": "code",
   "execution_count": 2,
   "metadata": {},
   "outputs": [
    {
     "name": "stdout",
     "output_type": "stream",
     "text": [
      "[0, 4, 16, 36, 64, 100]\n"
     ]
    }
   ],
   "source": [
    "#列出 0-10 所有偶数的平方\n",
    "\n",
    "# 0-10 :range(11)\n",
    "# 偶数：%2==0\n",
    "# 平方：**2\n",
    "\n",
    "#步骤 推演\n",
    "#1. for i in range(10)\n",
    "#2. [for in range(10)]\n",
    "#3. [i**2  for i in range(10)] # 前面加入i的意思是 要什么就放最前\n",
    "#4. [i**2 for i in range(10) if i%2==0] # 最后判断放最后\n",
    "\n",
    "list_even=[i**2 for i in range(11) if i%2==0]\n",
    "print(list_even)\n",
    "\n",
    "#相当于换了一下位置: 把判断放在了循环后面 把要的结果放在了前面\n",
    "list_even2=[]\n",
    "for i in range(11):\n",
    "    if i%2==0:\n",
    "        list_even2.append(i**2)"
   ]
  },
  {
   "cell_type": "code",
   "execution_count": 3,
   "metadata": {},
   "outputs": [
    {
     "name": "stdout",
     "output_type": "stream",
     "text": [
      "<generator object <genexpr> at 0x00000210FAC28940>\n",
      "[0, 1, 2, 3, 4, 5, 6, 7, 8, 9]\n"
     ]
    }
   ],
   "source": [
    "#元组推导式 用元组形式的话需要强转为list\n",
    "t = (x for x in range(10))\n",
    "print(t)#推导式下直接无法print出元组的内容 但是可以for循环\n",
    "print(list(t))#转为列表即可输出"
   ]
  },
  {
   "cell_type": "code",
   "execution_count": 4,
   "metadata": {},
   "outputs": [
    {
     "name": "stdout",
     "output_type": "stream",
     "text": [
      "<generator object <genexpr> at 0x00000210FAC28A00>\n",
      "[0, 1, 2, 3, 4, 5, 6, 7, 8, 9]\n"
     ]
    }
   ],
   "source": [
    "#集合推导式 也需要强转成列表\n",
    "s =(x for x in range(10))#生成器\n",
    "print(s)\n",
    "print(list(s))"
   ]
  },
  {
   "cell_type": "code",
   "execution_count": 5,
   "metadata": {},
   "outputs": [
    {
     "name": "stdout",
     "output_type": "stream",
     "text": [
      "{1: 1, 2: 4, 3: 9, 4: 16, 5: 25, 6: 36, 7: 49, 8: 64, 9: 81}\n"
     ]
    }
   ],
   "source": [
    "#字典推导式\n",
    "d={key:key**2 for key in range(1,10)}\n",
    "print(d)"
   ]
  },
  {
   "cell_type": "code",
   "execution_count": 6,
   "metadata": {},
   "outputs": [
    {
     "name": "stdout",
     "output_type": "stream",
     "text": [
      "<zip object at 0x00000210FADFC700>\n",
      "{'张三': '18', '李四': '19', '王五': '20'}\n"
     ]
    }
   ],
   "source": [
    "#字典/列表/元组的高级用法\n",
    "\n",
    "#把两个列表合并成一个字典\n",
    "list1=[\"张三\",\"李四\",\"王五\"]#两个列表取短为基准合并\n",
    "list2=[\"18\",\"19\",\"20\",\"50\"]#两个列表取短为基准合并\n",
    "\n",
    "#组包合并 zip()\n",
    "dict1=zip(list1,list2)\n",
    "print(dict1)#无法输出zip格式的 需要用dict\n",
    "\n",
    "#转换字典格式\n",
    "d_dict=dict(dict1)\n",
    "\n",
    "print(d_dict)#输出字典"
   ]
  },
  {
   "cell_type": "code",
   "execution_count": 7,
   "metadata": {},
   "outputs": [
    {
     "name": "stdout",
     "output_type": "stream",
     "text": [
      "{1: '一', 2: '二', 3: '三'}\n"
     ]
    }
   ],
   "source": [
    "#合并两个列表为字典的推导式写法\n",
    "a=[1,2,3,4]#两个列表取短为基准合并\n",
    "b=[\"一\",\"二\",\"三\"]\n",
    "c={k:v for k,v in zip(a,b)}\n",
    "print(c)"
   ]
  }
 ],
 "metadata": {
  "kernelspec": {
   "display_name": "Python 3",
   "language": "python",
   "name": "python3"
  },
  "language_info": {
   "codemirror_mode": {
    "name": "ipython",
    "version": 3
   },
   "file_extension": ".py",
   "mimetype": "text/x-python",
   "name": "python",
   "nbconvert_exporter": "python",
   "pygments_lexer": "ipython3",
   "version": "3.13.3"
  }
 },
 "nbformat": 4,
 "nbformat_minor": 2
}
