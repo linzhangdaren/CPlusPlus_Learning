{
 "cells": [
  {
   "cell_type": "markdown",
   "metadata": {},
   "source": [
    "### 家具搬进房子\n",
    "1. 规则  \n",
    "- 家具分类不同,占用的面积也不同\n",
    "- 输出家具信息时,显示家具类型和占地面积\n",
    "2. 房子\n",
    "- 房子有自己的地址和占用面积\n",
    "- 房子可以添加家具\n",
    "  - 如果房子剩余面积可以容纳家具,则家具搬进房子\n",
    "  - 如果房子剩余面积不可以容纳家具,则家具不能搬进房子\n",
    "- 输出房子信息时,显示房子地址、占用面积和剩余面积、房子中家具的信息"
   ]
  },
  {
   "cell_type": "markdown",
   "metadata": {},
   "source": [
    "### 类的设计 可以用UML图表示"
   ]
  },
  {
   "cell_type": "markdown",
   "metadata": {},
   "source": [
    "UML（Unified Modeling Language，统一建模语言)\n",
    "Vscode中有UML插件如:\n",
    "\n",
    "- ArgoUML 后缀名:.argouml\n",
    "- VSCode UML 后缀名:.uml.umlx\n",
    "- VSCode PlantUML 后缀名:.puml.pumlx\n",
    "\n",
    "- VSCode Draw.io Integration 后缀名:.drawio.drawiox\n",
    "- VSCode ArgoUML 后缀名:.argouml.argoumlx\n",
    "- VSCode UML 后缀名:.uml.umlx"
   ]
  },
  {
   "cell_type": "markdown",
   "metadata": {},
   "source": [
    "1. ‌定义与作用‌\n",
    "UML是一种‌非专利的第三代建模语言‌，通过图表形式描述软件系统的结构、行为及交互，独立于具体编程语言。\n",
    "它帮助开发者在需求分析、设计阶段快速抽象模型，提升团队沟通效率，减少理解偏差。\n",
    "2. ‌核心特点‌\n",
    "‌标准化与通用性‌：UML统一了Booch、OMT等方法论的符号，被OMG（对象管理组）采纳为行业标准，解决了早期建模语言碎片化的问题。\n",
    "‌丰富的图形工具‌：包含14种图表，分为三类：\n",
    "‌结构性图形‌（如类图、组件图）描述系统静态结构；\n",
    "‌行为式图形‌（如用例图、状态图）展示系统动态行为；\n",
    "‌交互性图形‌（如时序图、通信图）细化控制流与数据流。\n",
    "3. ‌应用场景‌\n",
    "‌软件工程‌：适用于业务建模、数据建模、组件设计等，尤其在复杂系统架构中验证有效。\n",
    "‌跨阶段支持‌：从需求分析到代码生成，UML模型可通过工具直接转换为目标编程语言代码。\n",
    "4. ‌发展历史‌\n",
    "由Rumbaugh、Booch和Jacobson于1994-1995年合作开发，1997年发布UML 1.0，后续版本迭代至2.5，参与企业包括微软、IBM等。\n",
    "‌总结‌：UML是软件设计中的“工程蓝图”，通过标准化图形语言提升开发效率与系统可维护性，是现代面向对象技术的重要成果之一。"
   ]
  },
  {
   "cell_type": "markdown",
   "metadata": {},
   "source": [
    "### 房子家具练习题"
   ]
  },
  {
   "cell_type": "code",
   "execution_count": 1,
   "metadata": {},
   "outputs": [],
   "source": [
    "#家具类\n",
    "class Item:\n",
    "    def __init__(self,name,area):\n",
    "        \"\"\"家具类初始化\n",
    "        :param name: 家具的名称\n",
    "        :param area: 家具的占地面积\n",
    "        \"\"\"\n",
    "        self.name=name\n",
    "        self.area=area\n",
    "    \n",
    "    # def __str__(self):\n",
    "    #     return f\"__str__:家具的名称是:{self.name};占地面积是:{self.area}\"\n",
    "    def __repr__(self):\n",
    "        return f\"__repr__:家具的名称是:{self.name};占地面积是:{self.area}\"#内嵌列表也能输出"
   ]
  },
  {
   "cell_type": "code",
   "execution_count": 2,
   "metadata": {},
   "outputs": [],
   "source": [
    "## 测试:建一个家具对象\n",
    "# 床=Item(\"席梦思\",4)\n",
    "# print(床)"
   ]
  },
  {
   "cell_type": "code",
   "execution_count": 3,
   "metadata": {},
   "outputs": [],
   "source": [
    "#房子类        \n",
    "class House:\n",
    "    def __init__ (self,address,area):\n",
    "        \"\"\"房子类初始化\n",
    "        :param address: 地址\n",
    "        :param area: 房子的面积\n",
    "        :param items: 房子的家具\n",
    "        \"\"\"\n",
    "        self.address=address\n",
    "        self.area=area\n",
    "        self.free_area=area\n",
    "        self.items=[]\n",
    "        \n",
    "    #添家具方法\n",
    "    def add_item(self,item):\n",
    "        \"\"\"\n",
    "        给房子添加家具:\n",
    "        param item: 要添加的家具\n",
    "        \"\"\"\n",
    "        if item.area>self.free_area:\n",
    "            print(f\"{item.name}太大了,无法添加\")\n",
    "        else:\n",
    "            self.items.append(item)\n",
    "            self.free_area=self.free_area-item.area\n",
    "            \n",
    "        \n",
    "    def __str__(self):\n",
    "        return f\"房子的地址是:{self.address};房子的面积是:{self.area};剩余面积是:{self.free_area}\""
   ]
  },
  {
   "cell_type": "code",
   "execution_count": 4,
   "metadata": {},
   "outputs": [
    {
     "name": "stdout",
     "output_type": "stream",
     "text": [
      "[__repr__:家具的名称是:席梦思;占地面积是:40, __repr__:家具的名称是:沙发;占地面积是:10, __repr__:家具的名称是:茶几;占地面积是:70]\n",
      "房子的地址是:永宁花园;房子的面积是:120;剩余面积是:0\n"
     ]
    }
   ],
   "source": [
    "#创建一个房子对象\n",
    "house=House(\"永宁花园\",120)\n",
    "\n",
    "#创建家具\n",
    "床=Item(\"席梦思\",40)\n",
    "沙发=Item(\"沙发\",10)\n",
    "茶几=Item(\"茶几\",70)\n",
    "\n",
    "#添加家具\n",
    "house.add_item(床)\n",
    "house.add_item(沙发)\n",
    "house.add_item(茶几)\n",
    "\n",
    "#输出\n",
    "# print (house,\"家具个数:\",len(house.items))\n",
    "print (house.items)\n",
    "print(house)"
   ]
  }
 ],
 "metadata": {
  "kernelspec": {
   "display_name": "Python 3",
   "language": "python",
   "name": "python3"
  },
  "language_info": {
   "codemirror_mode": {
    "name": "ipython",
    "version": 3
   },
   "file_extension": ".py",
   "mimetype": "text/x-python",
   "name": "python",
   "nbconvert_exporter": "python",
   "pygments_lexer": "ipython3",
   "version": "3.13.3"
  }
 },
 "nbformat": 4,
 "nbformat_minor": 2
}
