{
  "cells": [
    {
      "cell_type": "markdown",
      "metadata": {},
      "source": [
        "# pip包管理工具\n",
        "**更新时间**：2024 - 09 - 05 17:36:00\n",
        "pip 是 Python 包管理工具，提供包的查找、下载、安装、卸载功能。\n",
        "**适用版本**：Python 2.7.9+ 或 Python 3.4+（自带pip）"
      ]
    },
    {
      "cell_type": "markdown",
      "metadata": {},
      "source": [
        "## 一、配置pip国内镜像（提升下载速度）"
      ]
    },
    {
      "cell_type": "markdown",
      "metadata": {},
      "source": [
        "### 方式一：自动配置（推荐）\n",
        "**操作步骤**：打开cmd控制台，运行以下命令"
      ]
    },
    {
      "cell_type": "code",
      "execution_count": null,
      "metadata": {},
      "outputs": [],
      "source": [
        "pip config set global.index-url https://pypi.doubanio.com/simple"
      ]
    },
    {
      "cell_type": "code",
      "execution_count": null,
      "metadata": {},
      "outputs": [],
      "source": [
        "pip install pygame"
      ]
    },
    {
      "cell_type": "code",
      "execution_count": null,
      "metadata": {},
      "outputs": [],
      "source": [
        "# pip config unset global.index-url"
      ]
    },
    {
      "cell_type": "markdown",
      "metadata": {},
      "source": [
        "### 方式二：手动配置\n",
        "**操作步骤**：\n",
        "1. 按 `Win + R` 输入 `%APPDATA%` 打开目录（通常路径：`C:\\Users\\用户名\\AppData\\Roaming\\`）\n",
        "2. 在该目录下创建 `pip` 文件夹\n",
        "3. 在 `pip` 文件夹内新建 `pip.ini` 文件，写入以下内容："
      ]
    },
    {
      "cell_type": "code",
      "execution_count": null,
      "metadata": {
        "language": "ini"
      },
      "outputs": [],
      "source": [
        "[global]\n",
        "timeout = 6000\n",
        "index-url = https://pypi.doubanio.com/simple\n",
        "[install]\n",
        "trusted-host = pypi.doubanio.com"
      ]
    },
    {
      "cell_type": "markdown",
      "metadata": {},
      "source": [
        "## 二、国内常用pip源（经测试豆瓣源最快）"
      ]
    },
    {
      "cell_type": "markdown",
      "metadata": {},
      "source": [
        "豆瓣源：https://pypi.doubanio.com/simple\t\t  trusted-host：pypi.doubanio.com  \n",
        "清华源：https://pypi.tuna.tsinghua.edu.cn/simple trusted-host：pypi.tuna.tsinghua.edu.cn  \n",
        "阿里源：https://mirrors.aliyun.com/pypi/simple\t  trusted-host：mirrors.aliyun.com  \n",
        "百度源：https://mirror.baidu.com/pypi/simple\t  trusted-host：mirror.baidu.com  "
      ]
    },
    {
      "cell_type": "code",
      "execution_count": null,
      "metadata": {},
      "outputs": [],
      "source": []
    }
  ],
  "metadata": {
    "kernelspec": {
      "display_name": "Python 3",
      "language": "python",
      "name": "python3"
    },
    "language_info": {
      "codemirror_mode": {
        "name": "ipython",
        "version": 3
      },
      "file_extension": ".py",
      "mimetype": "text/x-python",
      "name": "python",
      "nbconvert_exporter": "python",
      "pygments_lexer": "ipython3",
      "version": "3.13.3"
    }
  },
  "nbformat": 4,
  "nbformat_minor": 2
}
