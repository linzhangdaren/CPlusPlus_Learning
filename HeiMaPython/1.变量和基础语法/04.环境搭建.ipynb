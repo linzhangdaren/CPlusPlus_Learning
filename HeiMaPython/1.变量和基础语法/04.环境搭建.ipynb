{
 "cells": [
  {
   "cell_type": "markdown",
   "metadata": {},
   "source": [
    "插件:\n",
    "- Python Extension Pack 一个整合包一键安装了Python开发所需的插件\n",
    "- PYQT 用于Python的GUI编程\n",
    "- Code Runner 运行Python代码的插件\n",
    "- Path Intellisense 自动补全路径的插件\n",
    "- Chinese (Simplified) Language Pack 中文简体语言包"
   ]
  },
  {
   "cell_type": "markdown",
   "metadata": {},
   "source": [
    "配置:\n",
    "-  code run in terminal 快捷键勾选解决中文乱码问题\n",
    "- 手动指定编码 encoding 选择:utf-8 切回界面选择右下角GBK通过新的编码保存选择UTF-8\n",
    "- 让系统自动识别编码 auto Guess Encoding 自动选择编码\n",
    "- 当前目录下运行程序 Execute in File Dir 在终端中执行文件所在目录和下面的也勾选\n",
    "- 设置自动保存 auto save 保存文件时自动保存\n",
    "- 开启鼠标滚轮缩放界面:editor.mouseWheelZoom\n",
    "  "
   ]
  },
  {
   "cell_type": "markdown",
   "metadata": {},
   "source": []
  }
 ],
 "metadata": {
  "language_info": {
   "name": "python"
  }
 },
 "nbformat": 4,
 "nbformat_minor": 2
}
