{
 "cells": [
  {
   "cell_type": "markdown",
   "metadata": {},
   "source": [
    "配置好vscode后直接输入main直接转换为if__name__==\"__main__\":  \n",
    "自动生成mian函数"
   ]
  },
  {
   "cell_type": "markdown",
   "metadata": {},
   "source": []
  },
  {
   "cell_type": "markdown",
   "metadata": {},
   "source": [
    "设置按钮  \n",
    "用户代码片段  \n",
    "输入python  \n"
   ]
  },
  {
   "cell_type": "code",
   "execution_count": null,
   "metadata": {
    "vscode": {
     "languageId": "plaintext"
    }
   },
   "outputs": [],
   "source": [
    "{\n",
    "    \"Python main function\": {\n",
    "        \"prefix\": \"main\",\n",
    "        \"body\": [\n",
    "            \"if __name__ == '__main__':\",\n",
    "            \"\\tpass\"\n",
    "        ],\n",
    "        \"description\": \"Python main function\"\n",
    "    }\n",
    "}"
   ]
  },
  {
   "cell_type": "markdown",
   "metadata": {},
   "source": [
    "下面是不要pass"
   ]
  },
  {
   "cell_type": "code",
   "execution_count": null,
   "metadata": {
    "vscode": {
     "languageId": "plaintext"
    }
   },
   "outputs": [],
   "source": [
    "{\n",
    "    \"Python main function\": {\n",
    "        \"prefix\": \"main\",\n",
    "        \"body\": [\n",
    "            \"if __name__ == '__main__':\",\n",
    "            \"    \"  // 保留一个缩进，方便直接开始写代码\n",
    "        ],\n",
    "        \"description\": \"Python main function\"\n",
    "    }\n",
    "}"
   ]
  }
 ],
 "metadata": {
  "language_info": {
   "name": "python"
  }
 },
 "nbformat": 4,
 "nbformat_minor": 2
}
