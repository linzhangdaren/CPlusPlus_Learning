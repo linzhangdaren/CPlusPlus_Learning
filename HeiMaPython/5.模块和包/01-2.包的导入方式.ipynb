{
 "cells": [
  {
   "cell_type": "code",
   "execution_count": null,
   "metadata": {},
   "outputs": [],
   "source": [
    "# 导入模块\n",
    "import utils\n",
    "\n",
    "# 使用模块中功能\n",
    "print(utils.name)\n",
    "# 调用模块中的sum方法\n",
    "result = utils.sum(10,20)\n",
    "# 创建模块utils中的Person类对象\n",
    "p = utils.Person('张三',30)"
   ]
  },
  {
   "cell_type": "code",
   "execution_count": null,
   "metadata": {},
   "outputs": [],
   "source": [
    "# 从模块中导入部分功能\n",
    "from utils import name, sum\n",
    "\n",
    "# 使用name\n",
    "print(name)\n",
    "# 调用sum函数\n",
    "result = sum(10,20)"
   ]
  },
  {
   "cell_type": "code",
   "execution_count": null,
   "metadata": {},
   "outputs": [],
   "source": [
    "# 导入模块中全部功能\n",
    "from utils import *\n",
    "\n",
    "# 使用name\n",
    "print(name)\n",
    "# 调用sum函数\n",
    "result = sum(10,20)\n",
    "# 创建Person对象\n",
    "p = Person('林青霞',60)"
   ]
  },
  {
   "cell_type": "markdown",
   "metadata": {},
   "source": [
    "如果两个模块中有同名的变量、函数或者类，同时引入就可能出现冲突  \n",
    "局部引入冲突解决方案  \n",
    "可以通过as 给功能起别名  \n",
    "```python\n",
    "from hello import name as hello_name\n",
    "from hi import name as hi_name\n",
    "\n",
    "print(hello_name)\n",
    "print(hi_name)"
   ]
  },
  {
   "cell_type": "markdown",
   "metadata": {},
   "source": [
    "全部导入冲突  \n",
    "```python\n",
    "from hello import *\n",
    "from hi import *\n",
    "\n",
    "print(name)\n",
    "```\n",
    "解决方法：  \n",
    "```python\n",
    "import hello\n",
    "import hi\n",
    "\n",
    "print(hello.name)\n",
    "print(hi.name)\n",
    "```"
   ]
  },
  {
   "cell_type": "code",
   "execution_count": null,
   "metadata": {},
   "outputs": [],
   "source": []
  },
  {
   "cell_type": "markdown",
   "metadata": {},
   "source": []
  }
 ],
 "metadata": {
  "kernelspec": {
   "display_name": "Python 3",
   "language": "python",
   "name": "python3"
  },
  "language_info": {
   "codemirror_mode": {
    "name": "ipython",
    "version": 3
   },
   "file_extension": ".py",
   "mimetype": "text/x-python",
   "name": "python",
   "nbconvert_exporter": "python",
   "pygments_lexer": "ipython3",
   "version": "3.13.3"
  }
 },
 "nbformat": 4,
 "nbformat_minor": 2
}
