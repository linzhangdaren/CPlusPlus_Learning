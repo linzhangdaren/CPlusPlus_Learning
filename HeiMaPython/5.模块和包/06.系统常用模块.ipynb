{
 "cells": [
  {
   "cell_type": "markdown",
   "metadata": {},
   "source": [
    "os模块 - 操作系统接口"
   ]
  },
  {
   "cell_type": "code",
   "execution_count": null,
   "metadata": {},
   "outputs": [],
   "source": [
    "import os\n",
    "\n",
    "# 获取当前工作目录\n",
    "print(os.getcwd())\n",
    "\n",
    "# 列出目录内容\n",
    "print(os.listdir('.'))\n",
    "\n",
    "# 创建/删除目录\n",
    "os.mkdir('test_dir')\n",
    "os.rmdir('test_dir')\n",
    "\n",
    "# 路径拼接\n",
    "print(os.path.join('folder', 'file.txt'))\n"
   ]
  },
  {
   "cell_type": "markdown",
   "metadata": {},
   "source": [
    "sys模块 - 系统相关功能"
   ]
  },
  {
   "cell_type": "code",
   "execution_count": null,
   "metadata": {},
   "outputs": [],
   "source": [
    "import sys\n",
    "\n",
    "# 获取Python版本\n",
    "print(sys.version)\n",
    "\n",
    "# 获取模块搜索路径\n",
    "print(sys.path)\n",
    "\n",
    "# 命令行参数\n",
    "print(sys.argv)\n",
    "\n",
    "# 退出程序\n",
    "sys.exit(0)\n"
   ]
  },
  {
   "cell_type": "markdown",
   "metadata": {},
   "source": [
    "time模块 - 时间处理"
   ]
  },
  {
   "cell_type": "code",
   "execution_count": null,
   "metadata": {},
   "outputs": [],
   "source": [
    "import time\n",
    "\n",
    "# 获取当前时间戳\n",
    "print(time.time())\n",
    "\n",
    "# 格式化时间\n",
    "print(time.strftime(\"%Y-%m-%d %H:%M:%S\"))\n",
    "\n",
    "# 程序暂停2秒\n",
    "time.sleep(2)\n"
   ]
  },
  {
   "cell_type": "markdown",
   "metadata": {},
   "source": [
    "datetime模块 - 日期时间处理"
   ]
  },
  {
   "cell_type": "code",
   "execution_count": null,
   "metadata": {},
   "outputs": [],
   "source": [
    "from datetime import datetime, timedelta\n",
    "\n",
    "# 当前时间\n",
    "now = datetime.now()\n",
    "print(now)\n",
    "\n",
    "# 时间计算\n",
    "tomorrow = now + timedelta(days=1)\n",
    "print(tomorrow)\n",
    "\n",
    "# 格式化输出\n",
    "print(now.strftime(\"%Y年%m月%d日\"))\n"
   ]
  },
  {
   "cell_type": "markdown",
   "metadata": {},
   "source": [
    " json模块 - JSON数据处理"
   ]
  },
  {
   "cell_type": "code",
   "execution_count": null,
   "metadata": {},
   "outputs": [],
   "source": [
    "import json\n",
    "\n",
    "# 字典转JSON\n",
    "data = {\"name\": \"张三\", \"age\": 30}\n",
    "json_str = json.dumps(data, ensure_ascii=False)\n",
    "print(json_str)\n",
    "\n",
    "# JSON转字典\n",
    "data2 = json.loads(json_str)\n",
    "print(data2[\"name\"])\n"
   ]
  },
  {
   "cell_type": "markdown",
   "metadata": {},
   "source": [
    "random模块 - 随机数生成"
   ]
  },
  {
   "cell_type": "code",
   "execution_count": null,
   "metadata": {},
   "outputs": [],
   "source": [
    "import random\n",
    "\n",
    "# 生成随机整数\n",
    "print(random.randint(1, 100))\n",
    "\n",
    "# 随机选择\n",
    "items = ['苹果', '香蕉', '橙子']\n",
    "print(random.choice(items))\n",
    "\n",
    "# 打乱列表顺序\n",
    "random.shuffle(items)\n",
    "print(items)\n"
   ]
  },
  {
   "cell_type": "markdown",
   "metadata": {},
   "source": [
    "hashlib模块 - 哈希算法"
   ]
  },
  {
   "cell_type": "code",
   "execution_count": null,
   "metadata": {},
   "outputs": [],
   "source": [
    "import hashlib\n",
    "\n",
    "# MD5哈希\n",
    "md5 = hashlib.md5()\n",
    "md5.update(\"hello\".encode('utf-8'))\n",
    "print(md5.hexdigest())\n",
    "\n",
    "# SHA256哈希\n",
    "sha256 = hashlib.sha256()\n",
    "sha256.update(\"hello\".encode('utf-8'))\n",
    "print(sha256.hexdigest())\n"
   ]
  },
  {
   "cell_type": "markdown",
   "metadata": {},
   "source": [
    "csv模块 - CSV文件处理"
   ]
  },
  {
   "cell_type": "code",
   "execution_count": null,
   "metadata": {},
   "outputs": [],
   "source": [
    "import csv\n",
    "\n",
    "# 写入CSV文件\n",
    "with open('data.csv', 'w', newline='') as f:\n",
    "    writer = csv.writer(f)\n",
    "    writer.writerow(['姓名', '年龄', '城市'])\n",
    "    writer.writerow(['张三', '25', '北京'])\n",
    "    writer.writerow(['李四', '30', '上海'])\n",
    "\n",
    "# 读取CSV文件\n",
    "with open('data.csv', 'r') as f:\n",
    "    reader = csv.reader(f)\n",
    "    for row in reader:\n",
    "        print(row)\n"
   ]
  }
 ],
 "metadata": {
  "kernelspec": {
   "display_name": "Python 3",
   "language": "python",
   "name": "python3"
  },
  "language_info": {
   "name": "python",
   "version": "3.13.3"
  }
 },
 "nbformat": 4,
 "nbformat_minor": 2
}
