{
 "cells": [
  {
   "cell_type": "markdown",
   "id": "024406c6",
   "metadata": {},
   "source": [
    "### 绝对路径"
   ]
  },
  {
   "cell_type": "code",
   "execution_count": null,
   "id": "091f6bf9",
   "metadata": {},
   "outputs": [],
   "source": [
    "# 系统的路径:D:\\Cache\\VSCode_hc\\HeiMaPython\\5.模块和包\\20.abc.txt \n",
    "\n",
    "# python路径1:\"D:\\\\Cache\\\\VSCode_hc\\\\HeiMaPython\\\\5.模块和包\\\\20.abc.txt\"  \n",
    "# python路径2:\"D:/Cache/VSCode_hc/HeiMaPython/5.模块和包/20.abc.txt\"  \n"
   ]
  },
  {
   "cell_type": "code",
   "execution_count": null,
   "id": "e4aecee8",
   "metadata": {},
   "outputs": [],
   "source": [
    "file_path=\"D:/Cache/VSCode_hc/HeiMaPython/5.模块和包/20.abc.txt\"\n",
    "with open(file_path,\"r\",encoding=\"utf-8\") as f:\n",
    "    print(f.read())"
   ]
  },
  {
   "cell_type": "markdown",
   "id": "91eeeefe",
   "metadata": {},
   "source": [
    "### 相对路径"
   ]
  },
  {
   "cell_type": "code",
   "execution_count": null,
   "id": "da2fcad2",
   "metadata": {},
   "outputs": [],
   "source": [
    "# 当前路径 20.abc.txt #或者./abc.txt可以不写\n",
    "# 上级路径 ../5.模块和包/20.abc.txt#再上级就再加../即可"
   ]
  }
 ],
 "metadata": {
  "kernelspec": {
   "display_name": "Python 3",
   "language": "python",
   "name": "python3"
  },
  "language_info": {
   "codemirror_mode": {
    "name": "ipython",
    "version": 3
   },
   "file_extension": ".py",
   "mimetype": "text/x-python",
   "name": "python",
   "nbconvert_exporter": "python",
   "pygments_lexer": "ipython3",
   "version": "3.13.3"
  }
 },
 "nbformat": 4,
 "nbformat_minor": 5
}
