{
 "cells": [
  {
   "cell_type": "markdown",
   "metadata": {},
   "source": [
    "字符串自带索引和切片功能  [ ]\n",
    "但不支持修改和列表特有的方法"
   ]
  },
  {
   "cell_type": "code",
   "execution_count": null,
   "metadata": {},
   "outputs": [],
   "source": [
    "string=\"hello\"\n",
    "print(string)\n",
    "print(string[1])"
   ]
  },
  {
   "cell_type": "markdown",
   "metadata": {},
   "source": [
    "字符判断:大小写,数字,字母,汉字,标点符号,空格,其他"
   ]
  },
  {
   "cell_type": "code",
   "execution_count": null,
   "metadata": {},
   "outputs": [],
   "source": [
    "# -*- coding: utf-8 -*-\n",
    "\n",
    "def string_operations_demo():\n",
    "    # 1. 字符串创建\n",
    "    str1 = \"Hello World\"  # 双引号\n",
    "    str2 = 'Python is fun'  # 单引号\n",
    "    str3 = \"\"\"这是一个\n",
    "多行字符串\"\"\"  # 三引号（支持换行）\n",
    "    print(\"1. 创建字符串示例：\")\n",
    "    print(f\"str1: {str1}\\nstr2: {str2}\\nstr3: {str3}\\n\")\n",
    "\n",
    "    # 2. 访问字符（索引从0开始）\n",
    "    print(\"2. 访问字符示例：\")\n",
    "    print(f\"str1第一个字符: {str1[0]}\")       # 输出 H\n",
    "    print(f\"str1最后一个字符: {str1[-1]}\")    # 输出 d\n",
    "    print(f\"str1第3-7个字符: {str1[2:7]}\")    # 输出 llo W（左闭右开）\n",
    "    print()\n",
    "\n",
    "    # 3. 字符串拼接\n",
    "    print(\"3. 字符串拼接示例：\")\n",
    "    full_str = str1 + \" | \" + str2\n",
    "    print(f\"拼接结果: {full_str}\")  # 输出 Hello World | Python is fun\n",
    "    print(f\"重复3次: {str1 * 3}\")   # 输出 Hello WorldHello WorldHello World\n",
    "    print()\n",
    "\n",
    "    # 4. 字符串格式化（f-string，Python3.6+）\n",
    "    print(\"4. 字符串格式化示例：\")\n",
    "    name = \"Alice\"\n",
    "    age = 25\n",
    "    score = 92.5\n",
    "    formatted_str = f\"姓名：{name}，年龄：{age}岁，分数：{score:.1f}分\"\n",
    "    print(f\"格式化结果: {formatted_str}\")  # 输出 姓名：Alice，年龄：25岁，分数：92.5分\n",
    "    print()\n",
    "\n",
    "    # 5. 大小写转换\n",
    "    print(\"5. 大小写转换示例：\")\n",
    "    print(f\"全大写: {str1.upper()}\")      # 输出 HELLO WORLD\n",
    "    print(f\"全小写: {str2.lower()}\")      # 输出 python is fun\n",
    "    print(f\"首字母大写: {str2.title()}\")  # 输出 Python Is Fun\n",
    "    print()\n",
    "\n",
    "    # 6. 查找与替换\n",
    "    print(\"6. 查找与替换示例：\")\n",
    "    print(f\"查找'World'位置: {str1.find('World')}\")  # 输出 6（索引位置）\n",
    "    print(f\"是否包含'Python': {str1.__contains__('Python')}\")  # 输出 False\n",
    "    replaced_str = str1.replace(\"World\", \"Doubao\")\n",
    "    print(f\"替换结果: {replaced_str}\")  # 输出 Hello Doubao\n",
    "    print()\n",
    "\n",
    "    # 7. 分割与连接\n",
    "    print(\"7. 分割与连接示例：\")\n",
    "    words = str2.split(\" \")  # 按空格分割\n",
    "    print(f\"分割结果: {words}\")  # 输出 ['Python', 'is', 'fun']\n",
    "    joined_str = \"-\".join(words)\n",
    "    print(f\"连接结果: {joined_str}\")  # 输出 Python-is-fun\n",
    "    print()\n",
    "\n",
    "    # 8. 去除空白字符\n",
    "    print(\"8. 去除空白示例：\")\n",
    "    space_str = \"   前后有空格   \"\n",
    "    print(f\"去左空格: {space_str.lstrip()}\")  # 输出 前后有空格  \n",
    "    print(f\"去右空格: {space_str.rstrip()}\")  # 输出    前后有空格\n",
    "    print(f\"去全空格: {space_str.strip()}\")   # 输出 前后有空格\n",
    "    print()\n",
    "\n",
    "    # 9. 类型判断（部分常用方法）\n",
    "    print(\"9. 类型判断示例：\")\n",
    "    print(f\"是否全字母: {str2.isalpha()}\")      # 输出 False（包含空格）\n",
    "    print(f\"是否全数字: {'12345'.isdigit()}\")   # 输出 True\n",
    "    print(f\"是否首字母大写: {str1.istitle()}\")  # 输出 True（Hello World符合标题格式）\n",
    "\n",
    "\n",
    "if __name__ == \"__main__\":\n",
    "    string_operations_demo()\n",
    "\n",
    "    "
   ]
  },
  {
   "cell_type": "markdown",
   "metadata": {},
   "source": []
  }
 ],
 "metadata": {
  "kernelspec": {
   "display_name": "Python 3",
   "language": "python",
   "name": "python3"
  },
  "language_info": {
   "codemirror_mode": {
    "name": "ipython",
    "version": 3
   },
   "file_extension": ".py",
   "mimetype": "text/x-python",
   "name": "python",
   "nbconvert_exporter": "python",
   "pygments_lexer": "ipython3",
   "version": "3.13.3"
  }
 },
 "nbformat": 4,
 "nbformat_minor": 2
}
