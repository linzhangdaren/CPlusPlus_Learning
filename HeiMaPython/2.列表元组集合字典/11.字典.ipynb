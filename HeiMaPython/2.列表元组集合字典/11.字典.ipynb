{
 "cells": [
  {
   "cell_type": "markdown",
   "metadata": {},
   "source": [
    "### 字典 dictionary 是出列表以外最常用的"
   ]
  },
  {
   "cell_type": "markdown",
   "metadata": {},
   "source": [
    "#### 键:值 key:value  \n",
    "- 键是唯一的不可重复,值可以重复  \n",
    "- 用{}表示字典\n"
   ]
  },
  {
   "cell_type": "code",
   "execution_count": 1,
   "metadata": {},
   "outputs": [
    {
     "name": "stdout",
     "output_type": "stream",
     "text": [
      "{'中国': '北京', '美国': '华盛顿', '日本': '东京'}\n"
     ]
    }
   ],
   "source": [
    "d = {\n",
    "    \"中国\":\"北京\",\n",
    "    \"美国\":\"华盛顿\",\n",
    "    \"日本\":\"东京\"\n",
    "    }\n",
    "print (d)#输出{'中国': '北京', '美国': '华盛顿', '日本': '东京'}\n"
   ]
  },
  {
   "cell_type": "code",
   "execution_count": 2,
   "metadata": {},
   "outputs": [],
   "source": [
    "#创建一个空的字典/集合/列表\n",
    "N_dict=dict()\n",
    "N_set=set()\n",
    "N_list=list()"
   ]
  },
  {
   "cell_type": "markdown",
   "metadata": {},
   "source": [
    "### 增删查改  "
   ]
  },
  {
   "cell_type": "code",
   "execution_count": 3,
   "metadata": {},
   "outputs": [
    {
     "name": "stdout",
     "output_type": "stream",
     "text": [
      "{'中国': '北京', '美国': '华盛顿', '日本': '东京', '俄罗斯': '莫斯科'}\n",
      "{'中国': '北京', '美国': '华盛顿', '日本': '东京', '俄罗斯': '莫斯科', '印度': '新德里'}\n"
     ]
    }
   ],
   "source": [
    "#增1\n",
    "d[\"俄罗斯\"] = \"莫斯科\"\n",
    "print (d)#输出{'中国': '北京', '美国': '华盛顿', '俄罗斯': '莫斯科'}\n",
    "#增2\n",
    "d.setdefault(\"印度\", \"新德里\")\n",
    "print (d)#输出{'中国': '北京', '美国': '华盛顿', '俄罗斯': '莫斯科', '印度': '新德里'}\n"
   ]
  },
  {
   "cell_type": "code",
   "execution_count": 4,
   "metadata": {},
   "outputs": [
    {
     "name": "stdout",
     "output_type": "stream",
     "text": [
      "{'中国': '北京', '美国': '华盛顿', '俄罗斯': '莫斯科'}\n"
     ]
    }
   ],
   "source": [
    "#删除 \n",
    "d.pop(\"日本\")\n",
    "#删除2\n",
    "del d[\"印度\"]\n",
    "#全删除 清空 3 \n",
    "# d.clear()\n",
    "\n",
    "print (d)"
   ]
  },
  {
   "cell_type": "code",
   "execution_count": 5,
   "metadata": {},
   "outputs": [
    {
     "name": "stdout",
     "output_type": "stream",
     "text": [
      "{'中国': '北京', '美国': '北京', '俄罗斯': '莫斯科'}\n"
     ]
    }
   ],
   "source": [
    "#改\n",
    "d[\"美国\"]=\"北京\"\n",
    "print(d)"
   ]
  },
  {
   "cell_type": "code",
   "execution_count": 6,
   "metadata": {},
   "outputs": [
    {
     "name": "stdout",
     "output_type": "stream",
     "text": [
      "中国\n",
      "美国\n",
      "俄罗斯\n",
      "中国\n",
      "美国\n",
      "俄罗斯\n"
     ]
    }
   ],
   "source": [
    "#查 key 方法一:\n",
    "for key in d:\n",
    "    print(key)\n",
    "#查 key 方法二:keys\n",
    "for key in d.keys():\n",
    "    print(key)"
   ]
  },
  {
   "cell_type": "code",
   "execution_count": 7,
   "metadata": {},
   "outputs": [
    {
     "name": "stdout",
     "output_type": "stream",
     "text": [
      "北京\n",
      "北京\n",
      "莫斯科\n",
      "北京\n",
      "北京\n",
      "莫斯科\n"
     ]
    }
   ],
   "source": [
    "#查 value值 方法一:\n",
    "for value in d:\n",
    "    print(d[value])\n",
    "#查 value值 方法二:values\n",
    "for value in d.values():\n",
    "    print(value)"
   ]
  },
  {
   "cell_type": "code",
   "execution_count": 8,
   "metadata": {},
   "outputs": [
    {
     "name": "stdout",
     "output_type": "stream",
     "text": [
      "('中国', '北京')\n",
      "('美国', '北京')\n",
      "('俄罗斯', '莫斯科')\n",
      "中国 北京\n",
      "美国 北京\n",
      "俄罗斯 莫斯科\n",
      "中国 北京\n",
      "美国 北京\n",
      "俄罗斯 莫斯科\n"
     ]
    }
   ],
   "source": [
    "#查 键值对 方法一:items\n",
    "for item in d.items():\n",
    "    print(item)# 输出元组 ('key', 'value')可以解包\n",
    "\n",
    "#查 键值对 方法二:解包 items\n",
    "for key, value in d.items():\n",
    "    print(key, value)\n",
    "    \n",
    "#查 键值对 方法三:\n",
    "for key in d.keys():\n",
    "    print(key,d[key])"
   ]
  }
 ],
 "metadata": {
  "kernelspec": {
   "display_name": "Python 3",
   "language": "python",
   "name": "python3"
  },
  "language_info": {
   "codemirror_mode": {
    "name": "ipython",
    "version": 3
   },
   "file_extension": ".py",
   "mimetype": "text/x-python",
   "name": "python",
   "nbconvert_exporter": "python",
   "pygments_lexer": "ipython3",
   "version": "3.13.3"
  }
 },
 "nbformat": 4,
 "nbformat_minor": 2
}
