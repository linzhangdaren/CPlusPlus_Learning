{
 "cells": [
  {
   "cell_type": "markdown",
   "metadata": {},
   "source": [
    "### 切片 slice  \n",
    "有头无尾 虎头蛇尾\n",
    "\n",
    "格式: 列表[起始:结束:步长]   \n",
    "起始: 从哪个元素开始切片, 默认为0  \n",
    "结束: 到哪个元素结束切片, 但不包含结束元素本身, 默认为列表长度  \n",
    "步长: 控制切片的间隔, 默认为1, 步长为负数时, 表示从后往前切片    "
   ]
  },
  {
   "cell_type": "code",
   "execution_count": null,
   "metadata": {},
   "outputs": [],
   "source": [
    "l=[1,2,3,4,5,6,7,8,9,0]"
   ]
  },
  {
   "cell_type": "markdown",
   "metadata": {},
   "source": [
    "顺序切片"
   ]
  },
  {
   "cell_type": "code",
   "execution_count": null,
   "metadata": {},
   "outputs": [],
   "source": [
    "print(l[:3])#输出123 默认不写的话就是0\n",
    "print(l[0:10:2])#输出13579 从索引0开始到索引9结束，步长为2\n",
    "print(l[::])#输出1234567890 不写就是全部输出 步长默认为1\n",
    "#最后一个有啥意义? 可以当做复制"
   ]
  },
  {
   "cell_type": "markdown",
   "metadata": {},
   "source": [
    "倒序切片"
   ]
  },
  {
   "cell_type": "code",
   "execution_count": 3,
   "metadata": {},
   "outputs": [
    {
     "name": "stdout",
     "output_type": "stream",
     "text": [
      "[4, 3, 2]\n",
      "[4, 3, 2, 1]\n",
      "[0, 9, 8, 7, 6, 5]\n",
      "[0, 9, 8, 7, 6, 5, 4, 3, 2, 1]\n"
     ]
    }
   ],
   "source": [
    "print(l[3:0:-1])# 3 2 1\n",
    "print(l[3::-1])# 3 2 1 0\n",
    "print(l[:3:-1])# 3 2 1\n",
    "print(l[::-1])# 9 8 7 6 5 4 3 2 1 0"
   ]
  }
 ],
 "metadata": {
  "kernelspec": {
   "display_name": "Python 3",
   "language": "python",
   "name": "python3"
  },
  "language_info": {
   "codemirror_mode": {
    "name": "ipython",
    "version": 3
   },
   "file_extension": ".py",
   "mimetype": "text/x-python",
   "name": "python",
   "nbconvert_exporter": "python",
   "pygments_lexer": "ipython3",
   "version": "3.13.3"
  }
 },
 "nbformat": 4,
 "nbformat_minor": 2
}
