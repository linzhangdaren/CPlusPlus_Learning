{
 "cells": [
  {
   "cell_type": "markdown",
   "metadata": {},
   "source": [
    "一个学校3个办公室 8个老师待分配  \n",
    "依次循环老师列表 随机分配办公室 打印结果"
   ]
  },
  {
   "cell_type": "code",
   "execution_count": null,
   "metadata": {},
   "outputs": [],
   "source": [
    "#导入随机模块\n",
    "import random\n",
    "\n",
    "#定义办公室和老师列表\n",
    "老师列表=['老师1','老师2','老师3','老师4','老师5','老师6','老师7','老师8']\n",
    "办公室=[[],[],[]]#索引为0,1,2\n",
    "\n",
    "#随机分配办公室\n",
    "for 名字 in 老师列表:\n",
    "#随机生成一个索引值\n",
    "    办公室索引值=random.randint(0,2)#随机选择0,1,2中的一个数字\n",
    "#把老师放入对应随机值的办公室\n",
    "    办公室[办公室索引值].append(名字)\n",
    "\n",
    "print(办公室)\n",
    "\n"
   ]
  },
  {
   "cell_type": "markdown",
   "metadata": {},
   "source": [
    "# 提取变量 Ctrl+Shift+R"
   ]
  },
  {
   "cell_type": "markdown",
   "metadata": {},
   "source": []
  }
 ],
 "metadata": {
  "kernelspec": {
   "display_name": "Python 3",
   "language": "python",
   "name": "python3"
  },
  "language_info": {
   "codemirror_mode": {
    "name": "ipython",
    "version": 3
   },
   "file_extension": ".py",
   "mimetype": "text/x-python",
   "name": "python",
   "nbconvert_exporter": "python",
   "pygments_lexer": "ipython3",
   "version": "3.12.6"
  }
 },
 "nbformat": 4,
 "nbformat_minor": 2
}
