{
 "cells": [
  {
   "cell_type": "code",
   "execution_count": null,
   "metadata": {},
   "outputs": [],
   "source": [
    "#函数定义\n",
    "def abc()->None:#->None这里返回类型是给人看的\n",
    "    \"\"\"\n",
    "    这是一个函数说明\n",
    "    当调用函数时,鼠标放函数名上会有说明显示\n",
    "    也会有返回值类型\n",
    "    \"\"\"\n",
    "    print(\"hello world\")\n",
    "\n",
    "#函数调用\n",
    "abc()"
   ]
  },
  {
   "cell_type": "markdown",
   "metadata": {},
   "source": [
    "返回值类型:(一般不用写系统自动识别)\n",
    "- 无返回值 ->None\n",
    "- 整数 ->int\n",
    "- 浮点数 ->float\n",
    "- 字符串 ->str\n",
    "- 布尔值 ->bool\n",
    "- 列表 ->list\n",
    "- 元组 ->tuple\n",
    "- 字典 ->dict"
   ]
  },
  {
   "cell_type": "code",
   "execution_count": null,
   "metadata": {},
   "outputs": [],
   "source": [
    "#加法案例 & 加入说明文档\n",
    "def add(a,b):\n",
    "    \"\"\"\n",
    "    求两数之和:\n",
    "    参数1:a(任意数包括str)\n",
    "    参数2:b(任意数包括str)\n",
    "    返回值:a+b\n",
    "    \"\"\"\n",
    "    return a+b\n",
    "#函数调用\n",
    "c=add(2.3,4.5)\n",
    "print(c) \n"
   ]
  },
  {
   "cell_type": "code",
   "execution_count": 14,
   "metadata": {},
   "outputs": [
    {
     "name": "stdout",
     "output_type": "stream",
     "text": [
      "(10, 10.0, 0)\n"
     ]
    }
   ],
   "source": [
    "#使用元组 组包 返回多个值\n",
    "def TF(a,b):\n",
    "    乘法=a*b\n",
    "    if b==0:\n",
    "        return 乘法,None,None\n",
    "    除法=a/b\n",
    "    余数=a%b\n",
    "    return 乘法,除法,余数#return(乘法,除法,余数)可以省略括号\n",
    "\n",
    "#调用函数\n",
    "结果=TF(10,1)\n",
    "print(结果)"
   ]
  }
 ],
 "metadata": {
  "kernelspec": {
   "display_name": "Python 3",
   "language": "python",
   "name": "python3"
  },
  "language_info": {
   "codemirror_mode": {
    "name": "ipython",
    "version": 3
   },
   "file_extension": ".py",
   "mimetype": "text/x-python",
   "name": "python",
   "nbconvert_exporter": "python",
   "pygments_lexer": "ipython3",
   "version": "3.12.6"
  }
 },
 "nbformat": 4,
 "nbformat_minor": 2
}
