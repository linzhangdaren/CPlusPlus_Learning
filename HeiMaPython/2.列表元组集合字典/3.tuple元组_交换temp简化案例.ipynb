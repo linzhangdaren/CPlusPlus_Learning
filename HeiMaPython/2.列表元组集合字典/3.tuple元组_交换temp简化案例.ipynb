{
 "cells": [
  {
   "cell_type": "markdown",
   "metadata": {},
   "source": [
    "元素用()来定义 ,不能修改元素  \n",
    "可以把一个列表强转为不可修改的元组  \n",
    "\n",
    "元组a=tuple(列表1)"
   ]
  },
  {
   "cell_type": "code",
   "execution_count": null,
   "metadata": {},
   "outputs": [],
   "source": [
    "\n",
    "#当字符中有一个元素 想转为元组 结尾加个逗号即可\n",
    "\n",
    "a =(\"周杰伦\")#这个是字符串str\n",
    "b=(\"林俊杰\",)#这个是元组tuple\n",
    "\n",
    "c=(\"周杰伦\",\"林俊杰\",)#这个也是元组tuple\n",
    "d=\"周杰伦\",\"林俊杰\"#可以省略()\n",
    "e=(\"周杰伦\",\"林俊杰\")#这个也是元组tuple\n",
    "\n",
    "print(type(a))#输出str\n",
    "print(type(b))#输出tuple\n",
    "print(type(c))#输出tuple\n",
    "print(type(d))#输出\n",
    "print(type(e))#输出tuple"
   ]
  },
  {
   "cell_type": "markdown",
   "metadata": {},
   "source": [
    "组包和解包(拆包)"
   ]
  },
  {
   "cell_type": "code",
   "execution_count": 1,
   "metadata": {},
   "outputs": [
    {
     "name": "stdout",
     "output_type": "stream",
     "text": [
      "周杰伦 林俊杰 王力宏 陶喆\n"
     ]
    }
   ],
   "source": [
    "#默认的定义就是组包\n",
    "#解包:\n",
    "names=(\"周杰伦\",\"林俊杰\",\"王力宏\",\"陶喆\")#定义元组 默认是组包\n",
    "name1,name2,name3,name4=names#解包\n",
    "print(name1,name2,name3,name4)\n",
    "#注 数量要对应"
   ]
  },
  {
   "cell_type": "markdown",
   "metadata": {},
   "source": [
    "temp交换案例"
   ]
  },
  {
   "cell_type": "code",
   "execution_count": null,
   "metadata": {},
   "outputs": [],
   "source": [
    "#原始写法原理步骤:\n",
    "a=1\n",
    "b=2\n",
    "\n",
    "temp=a\n",
    "a=b\n",
    "b=temp\n",
    "print(a,b)\n"
   ]
  },
  {
   "cell_type": "code",
   "execution_count": null,
   "metadata": {},
   "outputs": [],
   "source": [
    "#元组写法1\n",
    "a=1\n",
    "b=2\n",
    "temp=a,b#元组组包\n",
    "b,a=temp#元组解包\n",
    "print(a,b)\n"
   ]
  },
  {
   "cell_type": "code",
   "execution_count": null,
   "metadata": {},
   "outputs": [],
   "source": [
    "#元组写法超精简写法2\n",
    "a=1\n",
    "b=2\n",
    "b,a=a,b\n",
    "print(a,b)"
   ]
  }
 ],
 "metadata": {
  "kernelspec": {
   "display_name": "Python 3",
   "language": "python",
   "name": "python3"
  },
  "language_info": {
   "codemirror_mode": {
    "name": "ipython",
    "version": 3
   },
   "file_extension": ".py",
   "mimetype": "text/x-python",
   "name": "python",
   "nbconvert_exporter": "python",
   "pygments_lexer": "ipython3",
   "version": "3.13.3"
  }
 },
 "nbformat": 4,
 "nbformat_minor": 2
}
